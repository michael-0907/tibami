{
  "nbformat": 4,
  "nbformat_minor": 0,
  "metadata": {
    "colab": {
      "provenance": [],
      "authorship_tag": "ABX9TyMyLdJO/b2Shbz3QNqLzA4n",
      "include_colab_link": true
    },
    "kernelspec": {
      "name": "python3",
      "display_name": "Python 3"
    },
    "language_info": {
      "name": "python"
    }
  },
  "cells": [
    {
      "cell_type": "markdown",
      "metadata": {
        "id": "view-in-github",
        "colab_type": "text"
      },
      "source": [
        "<a href=\"https://colab.research.google.com/github/michael-0907/tibami/blob/main/20241231_01.ipynb\" target=\"_parent\"><img src=\"https://colab.research.google.com/assets/colab-badge.svg\" alt=\"Open In Colab\"/></a>"
      ]
    },
    {
      "cell_type": "markdown",
      "source": [
        "# 回圈 part 3\n",
        "\n",
        "```python\n",
        "不限次數的回圈\n",
        "\n",
        "!!! while 後面自由寫:   \n",
        "\n",
        "\n",
        "布林(Boolean)型態: 是否型態(True, False):\n",
        "1. 不: not (學會說\"不\"，加一個 not 在前面就好了)\n",
        "2. 組合: 而且(and), 或者(or)\n",
        "  !!! 而且和或者會用反的人，都是\"中文有問題\"\n",
        "  !!! 用中文講完一定會是對的\n",
        "\n",
        "\n",
        "\n",
        "\n",
        "```"
      ],
      "metadata": {
        "id": "JkpenmkCQ7kP"
      }
    },
    {
      "cell_type": "code",
      "source": [
        "\"p\" in \"apple\"\n",
        "\"a\" in \"apple\"\n",
        "\"ap\" in \"apple\"\n",
        "print(\"apl\" in \"apple\")\n",
        "# not 放前面，not in 可讀性比較好，但把 not 放前面是有理由的。\n",
        "print(not \"apl\" in \"apple\") # \"apl\" 沒有在 \"apple\"\n",
        "print(not 2 == 2) # 不可以寫成 print(2 not == 2)\n",
        "height = 175\n",
        "weight = 80\n",
        "age = 18\n",
        "print(age >= 18 and weight >= 80)\n",
        "print(height < 160 or weight > 70)"
      ],
      "metadata": {
        "colab": {
          "base_uri": "https://localhost:8080/"
        },
        "id": "CRHIOfDRV2iA",
        "outputId": "b4ac1af7-5a72-4e1e-b915-3d8f1ca2a9c7"
      },
      "execution_count": null,
      "outputs": [
        {
          "output_type": "stream",
          "name": "stdout",
          "text": [
            "False\n",
            "True\n",
            "False\n",
            "True\n",
            "True\n"
          ]
        }
      ]
    },
    {
      "cell_type": "code",
      "execution_count": null,
      "metadata": {
        "id": "mFdbmCs8luPH",
        "colab": {
          "base_uri": "https://localhost:8080/"
        },
        "outputId": "072209ac-6970-4863-8844-acf15959cea7"
      },
      "outputs": [
        {
          "output_type": "stream",
          "name": "stdout",
          "text": [
            "輸(-1)\n",
            "贏(1)\n",
            "輸(-1)\n",
            "贏(1)\n",
            "平手(0)\n",
            "贏(1)\n",
            "平手(0)\n",
            "平手(0)\n",
            "贏(1)\n",
            "輸(-1)\n",
            "總體是贏的\n"
          ]
        }
      ],
      "source": [
        "import random\n",
        "\n",
        "# 隨機一個整數， -1: 輸的, 0: 平手, 1: 贏的\n",
        "\n",
        "trans = [\"輸(-1)\", \"平手(0)\", \"贏(1)\"]\n",
        "win, even, lose = 0, 0, 0\n",
        "\n",
        "# 條件一: win < 3\n",
        "# 條件二: lose < 3\n",
        "# 當 我還沒贏三次 而且 對手還沒贏三次 我們就繼續玩 (O)\n",
        "# 當 我還沒贏三次 或者 對手還沒贏三次 我們就繼續玩 (X) -> 每個人都要贏三次以上，才會結束\n",
        "\n",
        "\n",
        "while win < 3 and lose < 3: # 可以換成 or 看看差別，如果我已經贏了三次，對手還沒贏三次，我要等對手贏到三次才算結束，期間我可能繼續贏，也就是每個人都要贏到三次以上，才會結束。\n",
        "  result = random.randint(-1, 1)\n",
        "  print(trans[result+1])\n",
        "  if result == -1:\n",
        "    lose = lose + 1\n",
        "  elif result == 0:\n",
        "    even = even + 1\n",
        "  elif result == 1:\n",
        "    win = win + 1\n",
        "\n",
        "if win > lose:\n",
        "  print(\"總體是贏的\")\n",
        "else:\n",
        "  print(\"總體是輸的\")\n",
        "\n",
        "\n"
      ]
    },
    {
      "cell_type": "markdown",
      "source": [
        "```python\n",
        "while 永遠對的描述: 無窮回圈 ->\n",
        "while True: 把if判斷寫在回圈內，配合 break 跳出回圈 ->\n",
        "優點:\n",
        "1. 不用在while後面塞下所有判斷條件，不用輸一堆 and, or(地點自由)\n",
        "2. 任意時間判斷(時間自由)\n",
        "3. 可以做完收尾工作，才結束回圈(流程自由)\n",
        "4. 隱性好處: 有時候結束講中文比較容易\n",
        "\n",
        "while True ... break 是你的永遠的好朋友，要不要合併判斷條件，看你自己，\n",
        "但 while True ... break 是最自由的。\n",
        "\n",
        "\n",
        "\n",
        "while False: -> 基本上用不到。\n",
        "\n",
        "```"
      ],
      "metadata": {
        "id": "QvYXkfJZd9lq"
      }
    },
    {
      "cell_type": "code",
      "source": [
        "import random\n",
        "\n",
        "# 隨機一個整數， -1: 輸的, 0: 平手, 1: 贏的\n",
        "\n",
        "trans = [\"輸(-1)\", \"平手(0)\", \"贏(1)\"]\n",
        "win, even, lose = 0, 0, 0\n",
        "\n",
        "# 條件一: win < 3\n",
        "# 條件二: lose < 3\n",
        "\n",
        "while True:\n",
        "  result = random.randint(-1, 1)\n",
        "  print(trans[result+1])\n",
        "  if result == -1:\n",
        "    lose = lose + 1\n",
        "  elif result == 0:\n",
        "    even = even + 1\n",
        "  elif result == 1:\n",
        "    win = win + 1\n",
        "\n",
        "  # 判斷改在這:\n",
        "  # 條件一: 如果我贏三次，結束\n",
        "  # 條件二: 如果我輸三次，結束\n",
        "  if win >= 3:\n",
        "    print(\"總體贏的\")\n",
        "    break\n",
        "  elif lose >= 3:\n",
        "    print(\"總體輸的\")\n",
        "    break\n"
      ],
      "metadata": {
        "colab": {
          "base_uri": "https://localhost:8080/"
        },
        "id": "Og-CNwNDTJ-Y",
        "outputId": "32e9441f-14d3-4c49-c433-ef6e2622cc8f"
      },
      "execution_count": null,
      "outputs": [
        {
          "output_type": "stream",
          "name": "stdout",
          "text": [
            "輸(-1)\n",
            "平手(0)\n",
            "輸(-1)\n",
            "平手(0)\n",
            "輸(-1)\n",
            "總體輸的\n"
          ]
        }
      ]
    },
    {
      "cell_type": "code",
      "source": [
        "# 如果整除 要提早結束\n",
        "# 2 / 7 = 0.2857142857\n",
        "# 3 / 5 = 0.6\n",
        "# 50 / 7 = 7.1428571428\n",
        "a, b = 50, 7\n",
        "ans = str(a//b) + str(\".\")\n",
        "a = a % b\n",
        "\n",
        "i = 0\n",
        "while i < 10:\n",
        "    # 2 -> 20\n",
        "    a10 = a * 10\n",
        "    # 20 // 7 -> 0.2\n",
        "    ans = ans + str(a10 // b)\n",
        "    print(ans)\n",
        "    # 20 % 7\n",
        "    a = a10 % b\n",
        "    if a == 0: # 如果餘數是 0 ，跳出。\n",
        "      break\n",
        "    # print(ans)\n",
        "    i = i + 1"
      ],
      "metadata": {
        "colab": {
          "base_uri": "https://localhost:8080/"
        },
        "id": "JARXIoUUhE7g",
        "outputId": "b50b28b6-c5cd-4683-8385-c7838c84e5df"
      },
      "execution_count": null,
      "outputs": [
        {
          "output_type": "stream",
          "name": "stdout",
          "text": [
            "7.1\n",
            "7.14\n",
            "7.142\n",
            "7.1428\n",
            "7.14285\n",
            "7.142857\n",
            "7.1428571\n",
            "7.14285714\n",
            "7.142857142\n",
            "7.1428571428\n"
          ]
        }
      ]
    },
    {
      "cell_type": "markdown",
      "source": [
        "# 完全平方日\n",
        "```python\n",
        "4499 ** 2 -> 20241001 (O)\n",
        "4497 ** 2 -> 20223009 (X)\n",
        "\n",
        "目標: 給你隨便一個日期，幫我算出10個完全平方日\n",
        "\n",
        "1. 某個日期是否合理\n",
        "\n",
        "閏年: 每4閏，100不閏 400閏\n",
        "1980 -> 潤 4的倍數\n",
        "2000 -> 潤 4的倍數，也是100的倍數，也是400的倍數\n",
        "3000 -> 不潤 4的倍數，也是100的倍數，不是400的倍數\n",
        "\n",
        "閏年寫法:\n",
        "\n",
        "\n",
        "\n",
        "```"
      ],
      "metadata": {
        "id": "9ZeQ_Ua8lp0L"
      }
    },
    {
      "cell_type": "markdown",
      "source": [
        "# 自訂功能\n",
        "```python\n",
        "def 功能名(參數):\n",
        "  很多事\n",
        "  很多事\n",
        "  return 回傳值\n",
        "\n",
        "\n",
        "!!! 定義參數只是先給個代號\n",
        "!!!\n",
        "\n",
        "math 模組:\n",
        "\n",
        "\n",
        "```"
      ],
      "metadata": {
        "id": "gL4_2U4MQFO3"
      }
    },
    {
      "cell_type": "code",
      "source": [
        "# 自訂功能 demo\n",
        "\n",
        "def add(n1, n2):\n",
        "  ans = n1 + n2\n",
        "  return ans\n",
        "\n",
        "print(add(3, 5))\n",
        "print(add(4, 6))\n",
        "\n"
      ],
      "metadata": {
        "colab": {
          "base_uri": "https://localhost:8080/"
        },
        "id": "8rv_vICJQYhr",
        "outputId": "6f42c177-f84f-4181-fe11-848be68073a2"
      },
      "execution_count": null,
      "outputs": [
        {
          "output_type": "stream",
          "name": "stdout",
          "text": [
            "8\n",
            "10\n"
          ]
        }
      ]
    },
    {
      "cell_type": "code",
      "source": [
        "# n = 19800229\n",
        "# n = 20000229\n",
        "# n = 30000229\n",
        "\n",
        "def is_leap_year(year):\n",
        "  if year % 400 == 0:\n",
        "    return True\n",
        "  elif year % 100 == 0:\n",
        "    return False\n",
        "  elif year % 4 == 0:\n",
        "    return True\n",
        "  else:\n",
        "    return False\n",
        "\n",
        "\n",
        "def is_valid_date(n):\n",
        "  year = n // 10000\n",
        "  last4 = n % 10000\n",
        "  day = last4 % 100\n",
        "  month = last4 // 100\n",
        "  # print(year, month, day)\n",
        "\n",
        "  max_days = [31, 28, 31, 30, 31, 30, 31, 31, 30, 31, 30, 31]\n",
        "  if 1 <= month <= 12:\n",
        "    month_day = max_days[month-1]\n",
        "    # 考慮閏年\n",
        "    if month == 2 and is_leap_year(year) == True:\n",
        "        month_day = month_day + 1\n",
        "\n",
        "    if 1 <= day <= month_day:\n",
        "        # print(\"合理\")\n",
        "        return True\n",
        "    else:\n",
        "        # print(\"不合理日期(天)\")\n",
        "        return False\n",
        "  else:\n",
        "    # print(\"不合理日期(月)\")\n",
        "    return False\n",
        "\n",
        "# print(is_valid_date(19800229))\n",
        "# print(is_valid_date(20000229))\n",
        "# print(is_valid_date(30000229))\n",
        "\n",
        "# 正面: 把真實的日期拿出來, 檢查她可以不可以被開根號\n",
        "# 反面: 先拿值出來, 平方, 看這個平方過後的東西可不可以當日期(o)\n",
        "\n",
        "import math\n",
        "today = 20241001\n",
        "start = math.ceil(today ** 0.5)\n",
        "count = 0\n",
        "\n",
        "while True:\n",
        "  date = start ** 2\n",
        "  if is_valid_date(date) == True:\n",
        "    print(start, date, \"是個完全平方日\")\n",
        "    count = count + 1\n",
        "  if count == 10:\n",
        "    break\n",
        "  else:\n",
        "    start = start + 1\n",
        "\n"
      ],
      "metadata": {
        "colab": {
          "base_uri": "https://localhost:8080/"
        },
        "id": "mcgGBq0nYMQC",
        "outputId": "a1342c08-bd32-4c14-db9b-f02508998907"
      },
      "execution_count": null,
      "outputs": [
        {
          "output_type": "stream",
          "name": "stdout",
          "text": [
            "4499 20241001 是個完全平方日\n",
            "4552 20720704 是個完全平方日\n",
            "4575 20930625 是個完全平方日\n",
            "4599 21150801 是個完全平方日\n",
            "4625 21390625 是個完全平方日\n",
            "4639 21520321 是個完全平方日\n",
            "4652 21641104 是個完全平方日\n",
            "4653 21650409 是個完全平方日\n",
            "4668 21790224 是個完全平方日\n",
            "4682 21921124 是個完全平方日\n"
          ]
        }
      ]
    },
    {
      "cell_type": "code",
      "source": [
        "import math\n",
        "print(20241231 ** 0.5)\n",
        "print(math.ceil(20241231 ** 0.5))\n",
        "print(math.floor(20241231 ** 0.5))\n",
        "print(20241001 ** 0.5)\n",
        "print(math.ceil(20241001 ** 0.5))\n",
        "print(math.floor(20241001 ** 0.5))\n",
        "\n"
      ],
      "metadata": {
        "colab": {
          "base_uri": "https://localhost:8080/"
        },
        "id": "cH6zjl1xbeyu",
        "outputId": "d6e43faf-3e21-4464-855e-c040f5447a61"
      },
      "execution_count": null,
      "outputs": [
        {
          "output_type": "stream",
          "name": "stdout",
          "text": [
            "4499.025561163217\n",
            "4500\n",
            "4499\n",
            "4499.0\n",
            "4499\n",
            "4499\n"
          ]
        }
      ]
    },
    {
      "cell_type": "markdown",
      "source": [
        "我們學的是應用數學，不是理論數學，\n",
        "\n",
        "\n"
      ],
      "metadata": {
        "id": "wFIma_hRlVi_"
      }
    }
  ]
}