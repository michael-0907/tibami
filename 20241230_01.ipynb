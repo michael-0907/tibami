{
  "nbformat": 4,
  "nbformat_minor": 0,
  "metadata": {
    "colab": {
      "provenance": [],
      "toc_visible": true,
      "authorship_tag": "ABX9TyP+aODdYqKBS3wOg0f3MI1c",
      "include_colab_link": true
    },
    "kernelspec": {
      "name": "python3",
      "display_name": "Python 3"
    },
    "language_info": {
      "name": "python"
    }
  },
  "cells": [
    {
      "cell_type": "markdown",
      "metadata": {
        "id": "view-in-github",
        "colab_type": "text"
      },
      "source": [
        "<a href=\"https://colab.research.google.com/github/michael-0907/tibami/blob/main/20241230_01.ipynb\" target=\"_parent\"><img src=\"https://colab.research.google.com/assets/colab-badge.svg\" alt=\"Open In Colab\"/></a>"
      ]
    },
    {
      "cell_type": "markdown",
      "source": [],
      "metadata": {
        "id": "mahk2TB5IOTQ"
      }
    },
    {
      "cell_type": "markdown",
      "source": [
        "# 回圈:\n",
        "```python\n",
        "part 1 重覆n次: 從0次數數到n-1次\n",
        "10: 0 1 2 3 ... 9\n",
        "\n",
        "準備一個計數器:\n",
        "1. 初始化: i = 0\n",
        "2. 判斷: i < 10\n",
        "3: 增加: i = i + 1\n",
        "\n",
        "從 0 開始，數 10 次\n",
        "i = 0\n",
        "while(當) i < 10 (次):\n",
        "  做要做的事\n",
        "  i = i + 1\n",
        "\n",
        "回圈是絕不能錯的語法，我要你做，你不能多做或少做。\n",
        "寫程式不要犯錯的最好的方法是，固定一個架構，做一百萬次，都不要改變架構。\n",
        "養成好習慣，遇到就照著寫，就絕對不會錯。\n",
        "寫程式有時候要發揮創意，但絕對不是這裡。\n",
        "要做什麼，在裡面做。\n",
        "以上三行絕對不改,好處:\n",
        "1. 次數就在 < 後面\n",
        "2. 數: 0 1 2 ....次-1\n",
        "\n",
        "\n",
        "加法: 往後\n",
        "減法: 往前\n",
        "乘法: 間隔\n",
        "\n",
        "\n",
        "\n",
        "```"
      ],
      "metadata": {
        "id": "6q8eIXW7QOnI"
      }
    },
    {
      "cell_type": "code",
      "source": [
        "i = 0\n",
        "while i < 5: # 當 i < 10\n",
        "  print(\"hello\") # 印出 hello\n",
        "  i = i + 1 # 計數器 i + 1\n",
        "\n",
        "i = 0\n",
        "while i < 10:\n",
        "  print(i,\n",
        "     i + 1, # 從 1 開始往後數，數 10 個\n",
        "     10 - i, # 從 10 開始往前數 10 個\n",
        "     2 * i + 1, # 從 1 開始間隔 2 往後數 10 個\n",
        "     50 - 3 * i) # 從 50 開始間隔 3 往前數 10 個\n",
        "  i = i + 1"
      ],
      "metadata": {
        "colab": {
          "base_uri": "https://localhost:8080/"
        },
        "id": "Pwa9joPJRuXk",
        "outputId": "2a3510d2-8f7c-470e-98bb-b280db234459"
      },
      "execution_count": null,
      "outputs": [
        {
          "output_type": "stream",
          "name": "stdout",
          "text": [
            "hello\n",
            "hello\n",
            "hello\n",
            "hello\n",
            "hello\n",
            "0 1 10 1 50\n",
            "1 2 9 3 47\n",
            "2 3 8 5 44\n",
            "3 4 7 7 41\n",
            "4 5 6 9 38\n",
            "5 6 5 11 35\n",
            "6 7 4 13 32\n",
            "7 8 3 15 29\n",
            "8 9 2 17 26\n",
            "9 10 1 19 23\n"
          ]
        }
      ]
    },
    {
      "cell_type": "code",
      "source": [
        "\n",
        "\n",
        "\"hello\" * 3\n",
        "[0, 1, 2] * 3\n",
        "\n",
        "# o\n",
        "# oo\n",
        "# ooo\n",
        "# oooo\n",
        "# ooooo\n",
        "\n",
        "i = 0\n",
        "while i < 10:\n",
        "  print(\"o\" * (i + 1) + \" \" * (10 - 1 - i))\n",
        "  i = i + 1\n",
        "\n",
        "\n",
        "\n",
        "\n"
      ],
      "metadata": {
        "colab": {
          "base_uri": "https://localhost:8080/"
        },
        "id": "4VVaoSvubxXI",
        "outputId": "1dac4cd7-ad79-481e-f719-3dd0bcbc20a5"
      },
      "execution_count": null,
      "outputs": [
        {
          "output_type": "stream",
          "name": "stdout",
          "text": [
            "o         \n",
            "oo        \n",
            "ooo       \n",
            "oooo      \n",
            "ooooo     \n",
            "oooooo    \n",
            "ooooooo   \n",
            "oooooooo  \n",
            "ooooooooo \n",
            "oooooooooo\n"
          ]
        }
      ]
    },
    {
      "cell_type": "code",
      "source": [
        "\n",
        "lsymbol, rsymbol = \" \", \"c\"\n",
        "height = 10\n",
        "i = 0\n",
        "while i < height:\n",
        "  lcount = height - 1 - i\n",
        "  rcount = i + 1\n",
        "  # print(\".\" * (height - 1 - i) + \"o\" * (i + 1))\n",
        "  print(lsymbol * lcount +\n",
        "     rsymbol * rcount)\n",
        "  i = i + 1"
      ],
      "metadata": {
        "colab": {
          "base_uri": "https://localhost:8080/"
        },
        "id": "SNdeur1NiuOH",
        "outputId": "a26b1a58-6ce8-40c4-d15f-76023f7507f7"
      },
      "execution_count": null,
      "outputs": [
        {
          "output_type": "stream",
          "name": "stdout",
          "text": [
            "         c\n",
            "        cc\n",
            "       ccc\n",
            "      cccc\n",
            "     ccccc\n",
            "    cccccc\n",
            "   ccccccc\n",
            "  cccccccc\n",
            " ccccccccc\n",
            "cccccccccc\n"
          ]
        }
      ]
    },
    {
      "cell_type": "code",
      "source": [
        "lsymbol, rsymbol = \" \", \"c\"\n",
        "height = 10\n",
        "i = 0\n",
        "while i < height:\n",
        "  lcount = height - i\n",
        "  rcount = i\n",
        "  print(lsymbol * lcount +\n",
        "     rsymbol * rcount)\n",
        "  i = i + 1\n"
      ],
      "metadata": {
        "colab": {
          "base_uri": "https://localhost:8080/"
        },
        "id": "hH3ZswVEi3Iz",
        "outputId": "672dd934-238d-4603-e1e1-7bf5b4f1571e"
      },
      "execution_count": null,
      "outputs": [
        {
          "output_type": "stream",
          "name": "stdout",
          "text": [
            "          \n",
            "         c\n",
            "        cc\n",
            "       ccc\n",
            "      cccc\n",
            "     ccccc\n",
            "    cccccc\n",
            "   ccccccc\n",
            "  cccccccc\n",
            " ccccccccc\n"
          ]
        }
      ]
    },
    {
      "cell_type": "code",
      "source": [
        "lsymbol, rsymbol = \"c\", \" \"\n",
        "height = 5\n",
        "i = 0\n",
        "while i < height:\n",
        "  lcount = height - i\n",
        "  rcount = i\n",
        "  print(lsymbol * lcount +\n",
        "     rsymbol * rcount)\n",
        "  i = i + 1"
      ],
      "metadata": {
        "colab": {
          "base_uri": "https://localhost:8080/"
        },
        "id": "CaKs5qxwjDig",
        "outputId": "514f70cb-7a1b-42a1-c6b7-1e98ee9c8517"
      },
      "execution_count": null,
      "outputs": [
        {
          "output_type": "stream",
          "name": "stdout",
          "text": [
            "ccccc\n",
            "cccc \n",
            "ccc  \n",
            "cc   \n",
            "c    \n"
          ]
        }
      ]
    },
    {
      "cell_type": "code",
      "source": [
        "# height 4 3 2\n",
        "# 第一行 7 5 3\n",
        "\n",
        "lsymbol, msymbol, rsymbol = \" \", \"c\", \" \"\n",
        "height = 4\n",
        "i = 0\n",
        "while i < height:\n",
        "  lcount = i\n",
        "  # mcount = 7 - 2 * i\n",
        "  mcount = (2 * height - 1) - 2 * i\n",
        "  rcount = i\n",
        "  print(lsymbol * lcount +\n",
        "     msymbol * mcount +\n",
        "     rsymbol * rcount)\n",
        "  i = i + 1\n",
        "\n"
      ],
      "metadata": {
        "colab": {
          "base_uri": "https://localhost:8080/"
        },
        "id": "U2MuiatFhZBv",
        "outputId": "d4c44479-e5fc-4257-ec44-7e26eabbd495"
      },
      "execution_count": null,
      "outputs": [
        {
          "output_type": "stream",
          "name": "stdout",
          "text": [
            "ccccccc\n",
            " ccccc \n",
            "  ccc  \n",
            "   c   \n"
          ]
        }
      ]
    },
    {
      "cell_type": "code",
      "source": [
        "\n",
        "# 現在全世界只有一套編碼(Unicode 萬國碼)，\n",
        "# 我們目前使用的就只有Unicode裡面的一個分支utf-8\n",
        "# \\u: 印出萬國碼\n",
        "\n",
        "height = 5\n",
        "i = 0\n",
        "while i < height:\n",
        "  # 奇數層: 如果 i 是偶數\n",
        "  if i % 2 == 0:\n",
        "    lsymbol, msymbol, rsymbol = \" \", \"c\", \" \"\n",
        "  # 偶數層: 如果 i 是奇數\n",
        "  else:\n",
        "    lsymbol, msymbol, rsymbol = \" \", \"x\", \" \"\n",
        "  lcount = i\n",
        "  mcount = (2 * height - 1) - 2 * i\n",
        "  rcount = i\n",
        "  print(lsymbol * lcount +\n",
        "     msymbol * mcount +\n",
        "     rsymbol * rcount)\n",
        "  i = i + 1\n",
        "\n"
      ],
      "metadata": {
        "colab": {
          "base_uri": "https://localhost:8080/"
        },
        "id": "RvnKV0GYqkZy",
        "outputId": "ea4a885e-6681-40e0-98b4-8ada5600ad74"
      },
      "execution_count": null,
      "outputs": [
        {
          "output_type": "stream",
          "name": "stdout",
          "text": [
            "ccccccccc\n",
            " xxxxxxx \n",
            "  ccccc  \n",
            "   xxx   \n",
            "    c    \n"
          ]
        }
      ]
    },
    {
      "cell_type": "code",
      "source": [
        "symbols = [\"\\u2660\", \"\\u2661\", \"\\u2662\", \"\\u2663\"]\n",
        "# 現在全世界只有一套編碼(Unicode 萬國碼)，\n",
        "# 我們目前使用的就只有Unicode裡面的一個分支utf-8\n",
        "# \\u: 印出萬國碼\n",
        "\n",
        "height = 5\n",
        "i = 0\n",
        "while i < height:\n",
        "  lsymbol = \" \"\n",
        "  msymbol = symbols[i%len(symbols)] # 循環取得列表內符號: 取餘\n",
        "  rsymbol = \" \"\n",
        "  lcount = i\n",
        "  mcount = (2 * height - 1) - 2 * i\n",
        "  rcount = i\n",
        "  print(lsymbol * lcount +\n",
        "     msymbol * mcount +\n",
        "     rsymbol * rcount)\n",
        "  i = i + 1"
      ],
      "metadata": {
        "colab": {
          "base_uri": "https://localhost:8080/"
        },
        "id": "YHAzIYzSs3c_",
        "outputId": "971332f4-dd90-4640-9103-a04ca658ff52"
      },
      "execution_count": null,
      "outputs": [
        {
          "output_type": "stream",
          "name": "stdout",
          "text": [
            "♠♠♠♠♠♠♠♠♠\n",
            " ♡♡♡♡♡♡♡ \n",
            "  ♢♢♢♢♢  \n",
            "   ♣♣♣   \n",
            "    ♠    \n"
          ]
        }
      ]
    },
    {
      "cell_type": "code",
      "source": [
        "\n",
        "import random\n",
        "symbols = [\"\\u2660\", \"\\u2661\", \"\\u2662\", \"\\u2663\"]\n",
        "# 現在全世界只有一套編碼(Unicode 萬國碼)，\n",
        "# 我們目前使用的就只有Unicode裡面的一個分支utf-8\n",
        "# \\u: 印出萬國碼\n",
        "\n",
        "height = 5\n",
        "i = 0\n",
        "while i < height:\n",
        "  lsymbol = \" \"\n",
        "  msymbol = symbols[random.randint(0, len(symbols)-1)] # 隨機取得列表內符號: import random()\n",
        "  rsymbol = \" \"\n",
        "  lcount = i\n",
        "  mcount = (2 * height - 1) - 2 * i\n",
        "  rcount = i\n",
        "  print(lsymbol * lcount +\n",
        "     msymbol * mcount +\n",
        "     rsymbol * rcount)\n",
        "  i = i + 1"
      ],
      "metadata": {
        "colab": {
          "base_uri": "https://localhost:8080/"
        },
        "id": "QeedHxoctyv-",
        "outputId": "985f46fd-c3b5-4ce3-c32c-f782cb3d756b"
      },
      "execution_count": null,
      "outputs": [
        {
          "output_type": "stream",
          "name": "stdout",
          "text": [
            "♡♡♡♡♡♡♡♡♡\n",
            " ♡♡♡♡♡♡♡ \n",
            "  ♡♡♡♡♡  \n",
            "   ♢♢♢   \n",
            "    ♣    \n"
          ]
        }
      ]
    },
    {
      "cell_type": "markdown",
      "source": [
        "# 回圈 part 2\n",
        "```python\n",
        "有記憶體的回圈，記憶體放在 while 外面\n",
        "!!! 拒絕跳躍性思考，用老媽子思考。\n",
        "\n",
        "\n",
        "\n",
        "\n",
        "\n",
        "```"
      ],
      "metadata": {
        "id": "-XwjRgCcFvRd"
      }
    },
    {
      "cell_type": "code",
      "source": [
        "\n",
        "total = 0\n",
        "\n",
        "i = 0\n",
        "while i < 10:\n",
        "  total = total + (i + 1)\n",
        "  i = i + 1\n",
        "print(total)\n",
        "\n"
      ],
      "metadata": {
        "colab": {
          "base_uri": "https://localhost:8080/"
        },
        "id": "Fhdap2LUGRqG",
        "outputId": "5c2d913e-5eac-4e1d-8955-e8d4fe01167e"
      },
      "execution_count": null,
      "outputs": [
        {
          "output_type": "stream",
          "name": "stdout",
          "text": [
            "55\n"
          ]
        }
      ]
    },
    {
      "cell_type": "code",
      "source": [
        "# 計算 2/7 並印出後面 10 位數。\n",
        "a, b = 2, 7\n",
        "ans = \"0.\"\n",
        "\n",
        "\n",
        "i = 0\n",
        "while i < 10:\n",
        "  # 補 0 ，取商，加到 ans ，取餘給 a ，之後循環\n",
        "  # 2 -> 20\n",
        "  a10 = a * 10\n",
        "  # 20 // 7 -> 0.2\n",
        "  ans = ans + str(a10 // b)\n",
        "  print(ans)\n",
        "  # 20 % 7\n",
        "  a = a10 % b\n",
        "  i = i + 1\n",
        "\n",
        "\n",
        "\n"
      ],
      "metadata": {
        "colab": {
          "base_uri": "https://localhost:8080/"
        },
        "id": "DBRXXqx7Ih6L",
        "outputId": "b526328f-745a-4381-cae8-2845061090d0"
      },
      "execution_count": null,
      "outputs": [
        {
          "output_type": "stream",
          "name": "stdout",
          "text": [
            "0.2\n",
            "0.28\n",
            "0.285\n",
            "0.2857\n",
            "0.28571\n",
            "0.285714\n",
            "0.2857142\n",
            "0.28571428\n",
            "0.285714285\n",
            "0.2857142857\n"
          ]
        }
      ]
    },
    {
      "cell_type": "code",
      "source": [
        "# 萬國編碼前，英文編碼是 ASCII code: https://zh.wikipedia.org/zh-tw/ASCII\n",
        "# 上網查 ascii code 對照表，所以 A~Z的十進位是是 65~90，a~z的十進位是97~122\n",
        "# 用 ord(A) 取得 A 的十進位。\n",
        "# chr(A) 將編碼轉成字母。\n",
        "\n",
        "# 統計字串 s 裡面有多少個小寫，多少個大寫\n",
        "\n",
        "s = \"asdfsDfgvv   ,, WqrRrwqr. wQr123123rqw5tAfg\"\n",
        "\n",
        "ucase, lcase = 0, 0\n",
        "\n",
        "i = 0\n",
        "while i < len(s):\n",
        "  # 從字串 s 中拿出每一個，用 ord() 轉成 ascii code 10 進位後比較。\n",
        "  # 如果 65<=ord(s[i])<=90, 為大寫， ucase + 1\n",
        "  # 如果 97<=ord(s[i])<=122, 為小寫, lcase + 1\n",
        "  n = ord(s[i])\n",
        "  if ord(\"A\") <= n <= ord(\"Z\"):\n",
        "    ucase = ucase + 1\n",
        "  elif ord(\"a\") <= n <= ord(\"z\"):\n",
        "    lcase = lcase + 1\n",
        "  i = i + 1\n",
        "\n",
        "print(s)\n",
        "print(ucase)\n",
        "print(lcase)\n",
        "\n",
        "\n",
        "print(ord(\"A\"))\n",
        "print(ord(\"Z\"))\n",
        "print(ord(\"a\"))\n",
        "print(ord(\"z\"))\n",
        "\n"
      ],
      "metadata": {
        "colab": {
          "base_uri": "https://localhost:8080/"
        },
        "id": "oYU1y4tzJVd0",
        "outputId": "28ce4d30-35a0-49be-c44f-00722ffffcb1"
      },
      "execution_count": null,
      "outputs": [
        {
          "output_type": "stream",
          "name": "stdout",
          "text": [
            "Hello World___~~~\n",
            "2\n",
            "8\n",
            "65\n",
            "90\n",
            "97\n",
            "122\n"
          ]
        }
      ]
    },
    {
      "cell_type": "code",
      "source": [
        "\n",
        "# 妳要幫我統計大小寫字母每一個字母各自有幾個\n",
        "s = \"asdfsDfgvv   ,, WqrRrwqr. wQr123123rqw5tAfg\"\n",
        "ucases = [0] * 26\n",
        "lcases = [0] * 26\n",
        "i = 0\n",
        "while i < len(s):\n",
        "    n = ord(s[i])\n",
        "    if ord(\"A\") <= n <= ord(\"Z\"):\n",
        "        # 65 - 90 -> 0 - 25\n",
        "        n = n - ord(\"A\")\n",
        "        ucases[n] = ucases[n] + 1\n",
        "    elif ord(\"a\") <= n <= ord(\"z\"):\n",
        "        # 97 - 122 -> 0 - 25\n",
        "        n = n - ord(\"a\")\n",
        "        lcases[n] = lcases[n] + 1\n",
        "    i = i + 1\n",
        "print(ucases)\n",
        "print(lcases)\n",
        "\n",
        "\n",
        "\n",
        "\n",
        "i = 0\n",
        "while i < len(ucases):\n",
        "  c1, c2 = chr(i + ord(\"A\")), chr(i + ord(\"a\"))\n",
        "  n1, n2 = ucases[i], lcases[i]\n",
        "  print(c1, n1, \"/\", c2, n2)\n",
        "  i = i + 1\n",
        "\n",
        "\n",
        "\n",
        "\n",
        "\n",
        "\n"
      ],
      "metadata": {
        "colab": {
          "base_uri": "https://localhost:8080/"
        },
        "id": "vIqkOHmpRXPO",
        "outputId": "035f381f-3e9c-450c-80a0-45f52d837cff"
      },
      "execution_count": null,
      "outputs": [
        {
          "output_type": "stream",
          "name": "stdout",
          "text": [
            "[1, 0, 0, 1, 0, 0, 0, 0, 0, 0, 0, 0, 0, 0, 0, 0, 1, 1, 0, 0, 0, 0, 1, 0, 0, 0]\n",
            "[1, 0, 0, 1, 0, 3, 2, 0, 0, 0, 0, 0, 0, 0, 0, 0, 3, 5, 2, 1, 0, 2, 3, 0, 0, 0]\n",
            "A 1 / a 1\n",
            "B 0 / b 0\n",
            "C 0 / c 0\n",
            "D 1 / d 1\n",
            "E 0 / e 0\n",
            "F 0 / f 3\n",
            "G 0 / g 2\n",
            "H 0 / h 0\n",
            "I 0 / i 0\n",
            "J 0 / j 0\n",
            "K 0 / k 0\n",
            "L 0 / l 0\n",
            "M 0 / m 0\n",
            "N 0 / n 0\n",
            "O 0 / o 0\n",
            "P 0 / p 0\n",
            "Q 1 / q 3\n",
            "R 1 / r 5\n",
            "S 0 / s 2\n",
            "T 0 / t 1\n",
            "U 0 / u 0\n",
            "V 0 / v 2\n",
            "W 1 / w 3\n",
            "X 0 / x 0\n",
            "Y 0 / y 0\n",
            "Z 0 / z 0\n"
          ]
        }
      ]
    },
    {
      "cell_type": "markdown",
      "source": [
        "# part 3\n",
        "# 積分法，用程式證明圓面積。\n",
        "\n",
        "\n",
        "![Snipaste_2024-12-30_15-54-54.jpg](data:image/jpeg;base64,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)\n",
        "```python\n",
        "\n",
        "\n",
        "\n",
        "```"
      ],
      "metadata": {
        "id": "1RLyDKYVgw1_"
      }
    },
    {
      "cell_type": "code",
      "source": [
        "\n",
        "# x的最左邊座標和x的最右邊座標\n",
        "x_left, x_right = -1, 1\n",
        "# 分成幾分(100)\n",
        "part = 1000\n",
        "# 每一part的x多長\n",
        "interval = (x_right - x_left) / part\n",
        "\n",
        "# 總面積\n",
        "total = 0\n",
        "# 積分法: 把每一part的面積(小長方形)加總起來\n",
        "i = 0\n",
        "while i < part:\n",
        "    # 每一part的左x座標: -1 + 0.02 * i\n",
        "    x = x_left + interval * i\n",
        "    # 算出這裡的y座標多長: 2 * (1 - x ^ 2) ^ 0.5\n",
        "    y = 2 * (1 - x ** 2) ** 0.5\n",
        "    # 每一part面積\n",
        "    area = interval * y\n",
        "    # 把每一part累積進去\n",
        "    total = total + area\n",
        "    i = i + 1\n",
        "print(\"積分法估算面積:\", total)\n"
      ],
      "metadata": {
        "colab": {
          "base_uri": "https://localhost:8080/"
        },
        "id": "7FCAdHsQggWn",
        "outputId": "b04273eb-5190-458b-d1d1-2eaf6c0a1f87"
      },
      "execution_count": null,
      "outputs": [
        {
          "output_type": "stream",
          "name": "stdout",
          "text": [
            "積分法估算面積: 3.141487477002142\n"
          ]
        }
      ]
    }
  ]
}