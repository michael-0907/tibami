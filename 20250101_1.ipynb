{
  "nbformat": 4,
  "nbformat_minor": 0,
  "metadata": {
    "colab": {
      "provenance": [],
      "authorship_tag": "ABX9TyPXCcEEQx91jQnQ0x2fzGor",
      "include_colab_link": true
    },
    "kernelspec": {
      "name": "python3",
      "display_name": "Python 3"
    },
    "language_info": {
      "name": "python"
    }
  },
  "cells": [
    {
      "cell_type": "markdown",
      "metadata": {
        "id": "view-in-github",
        "colab_type": "text"
      },
      "source": [
        "<a href=\"https://colab.research.google.com/github/michael-0907/tibami/blob/main/20250101_1.ipynb\" target=\"_parent\"><img src=\"https://colab.research.google.com/assets/colab-badge.svg\" alt=\"Open In Colab\"/></a>"
      ]
    },
    {
      "cell_type": "code",
      "execution_count": null,
      "metadata": {
        "id": "3ZjjyJzWmqNi"
      },
      "outputs": [],
      "source": []
    },
    {
      "cell_type": "markdown",
      "source": [
        "# 爬蟲 sop\n",
        "爬蟲是一個反向的思維, 你看到一個你有興趣的答案，你要反查問題是啥。\n",
        "!!! 隱藏網址: 一個網頁並不是只有一個網址構成\n",
        "1. 檢查原始碼(網址列的答案)\n",
        "\n"
      ],
      "metadata": {
        "id": "YvSfPMpwmsg6"
      }
    }
  ]
}