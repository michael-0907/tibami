{
  "nbformat": 4,
  "nbformat_minor": 0,
  "metadata": {
    "colab": {
      "provenance": [],
      "authorship_tag": "ABX9TyPwZZoF7mz6VosV+U8lPChY",
      "include_colab_link": true
    },
    "kernelspec": {
      "name": "python3",
      "display_name": "Python 3"
    },
    "language_info": {
      "name": "python"
    }
  },
  "cells": [
    {
      "cell_type": "markdown",
      "metadata": {
        "id": "view-in-github",
        "colab_type": "text"
      },
      "source": [
        "<a href=\"https://colab.research.google.com/github/michael-0907/tibami/blob/main/1230_01.ipynb\" target=\"_parent\"><img src=\"https://colab.research.google.com/assets/colab-badge.svg\" alt=\"Open In Colab\"/></a>"
      ]
    },
    {
      "cell_type": "markdown",
      "source": [],
      "metadata": {
        "id": "mahk2TB5IOTQ"
      }
    },
    {
      "cell_type": "markdown",
      "source": [
        "# 回圈:\n",
        "```python\n",
        "part 1 重覆n次: 從0次數數到n-1次\n",
        "10: 0 1 2 3 ... 9\n",
        "\n",
        "準備一個計數器:\n",
        "1. 初始化: i = 0\n",
        "2. 判斷: i < 10\n",
        "3: 增加: i = i + 1\n",
        "\n",
        "i = 0\n",
        "while(當) i < 10:\n",
        "  做要做的事\n",
        "  i = i + 1\n",
        "\n",
        "回圈是絕不能錯的語法，我要你做，你不能多做或少做。\n",
        "寫程式不要犯錯的最好的方法是，固定一個架構，做一百萬次，都不要改變架構。\n",
        "養成好習慣，遇到就照著寫，就絕對不會錯。\n",
        "寫程式有時候要發揮創意，但絕對不是這裡。\n",
        "要做什麼，在裡面做。\n",
        "以上三行絕對不改,好處:\n",
        "1. 次數就在 < 後面\n",
        "2. 數: 0 1 2 ....次-1\n",
        "\n",
        "\n",
        "加法: 往後\n",
        "減法: 往前\n",
        "乘法: 間隔\n",
        "\n",
        "\n",
        "\n",
        "```"
      ],
      "metadata": {
        "id": "6q8eIXW7QOnI"
      }
    },
    {
      "cell_type": "code",
      "source": [
        "i = 0\n",
        "while i < 10: # 當 i < 10\n",
        "  print(\"hello\") # 印出 hello\n",
        "  i = i + 1 # 計數器 i + 1\n",
        "\n",
        "i = 0\n",
        "while i < 10:\n",
        "  print(i,\n",
        "     i + 1, # 從 1 開始往後數，數 10 個\n",
        "     10 - i, # 從 10 開始往前數 10 個\n",
        "     2 * i + 1, # 從 1 開始間隔 2 往後數 10 個\n",
        "     50 - 3 * i) # 從 50 開始間隔 3 往前數 10 個\n",
        "  i = i + 1"
      ],
      "metadata": {
        "colab": {
          "base_uri": "https://localhost:8080/"
        },
        "id": "Pwa9joPJRuXk",
        "outputId": "b3293327-c99c-4f92-9e83-09951c9c8828"
      },
      "execution_count": 4,
      "outputs": [
        {
          "output_type": "stream",
          "name": "stdout",
          "text": [
            "hello\n",
            "hello\n",
            "hello\n",
            "hello\n",
            "hello\n",
            "hello\n",
            "hello\n",
            "hello\n",
            "hello\n",
            "hello\n",
            "0 1 10 1 50\n",
            "1 2 9 3 47\n",
            "2 3 8 5 44\n",
            "3 4 7 7 41\n",
            "4 5 6 9 38\n",
            "5 6 5 11 35\n",
            "6 7 4 13 32\n",
            "7 8 3 15 29\n",
            "8 9 2 17 26\n",
            "9 10 1 19 23\n"
          ]
        }
      ]
    }
  ]
}