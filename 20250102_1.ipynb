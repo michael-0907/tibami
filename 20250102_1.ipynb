{
  "nbformat": 4,
  "nbformat_minor": 0,
  "metadata": {
    "colab": {
      "provenance": [],
      "authorship_tag": "ABX9TyNr2JewBnN51kkdsEAx5nva",
      "include_colab_link": true
    },
    "kernelspec": {
      "name": "python3",
      "display_name": "Python 3"
    },
    "language_info": {
      "name": "python"
    }
  },
  "cells": [
    {
      "cell_type": "markdown",
      "metadata": {
        "id": "view-in-github",
        "colab_type": "text"
      },
      "source": [
        "<a href=\"https://colab.research.google.com/github/michael-0907/tibami/blob/main/20250102_1.ipynb\" target=\"_parent\"><img src=\"https://colab.research.google.com/assets/colab-badge.svg\" alt=\"Open In Colab\"/></a>"
      ]
    },
    {
      "cell_type": "code",
      "execution_count": null,
      "metadata": {
        "id": "3ZjjyJzWmqNi"
      },
      "outputs": [],
      "source": []
    },
    {
      "cell_type": "markdown",
      "source": [
        "```python\n",
        "\n",
        "# 爬蟲 sop\n",
        "爬蟲是一個反向的思維, 你看到一個你有興趣的答案，你要反查問題是啥。\n",
        "1. 檢查原始碼(網址列的答案)\n",
        "\n",
        "!!! 隱藏網址: 一個網頁並不是只有一個網址構成\n",
        "!!! 網址裡的參數: ?參數名=值&參數名=值&....,參數可以試圖修改或刪除去騙伺服器\n",
        "!!! ?expire=1735805136(電腦秒數 unix時間)\n",
        "!!! ?ip=118.161.196.211\n",
        "!!! 在回應看到的是亂碼或文字的，大機率是圖片或影片\n",
        "1. 檢查原始碼(網址列的答案)\n",
        "\n",
        "yt 爬蟲影片\n",
        "開無痕->進yt->改m->再開影片\n",
        "yt 影片是串流的，分成一段一段給的，也就是client告訴他要哪一段。\n",
        "畫面可以切片段來給，音訊不可以\n",
        "往下找，找聲音的\n",
        "影片、聲音分開下載，下載後再合併\n",
        "通常第一個是影片，第二個是聲音\n",
        "\n",
        "expire=1735805149 (unix時間轉換後2025-01-02 16:05:49會expire，代表網址不可再使用)\n",
        "\n",
        "HTTP 回應標頭中的 Content-Type 指定了伺服器傳送給客戶端的回應內容的媒體類型 (MIME type)，以便客戶端（例如瀏覽器）知道如何正確地處理和呈現該內容。\n",
        "\n",
        "在回應標頭裡: content-type:application/vnd.yt-ump\n",
        "找到正確的網址後，在回應標頭裡: content-type:video/webm\n",
        "\n",
        "ump=1 (代表是特殊格式，刪掉或改成0試試)\n",
        "range=0-90435 (代表切成多少片段給出，刪掉就可以給出全部)\n",
        "mime=video\n",
        "mime=audio\n",
        "mime=video\n",
        "rn=35 360p 基本畫質\n",
        "rn=126 1080p 高畫質\n",
        "\n",
        "用ffmpeg合併，非常好用的免費且可商用的工具。\n",
        "\n",
        "\n",
        "吉伊卡哇 動畫瘋:\n",
        "https://api.gamer.com.tw/anime/v1/danmu.php?videoSn=36632&geo=TW%2CHK&limit=50\n",
        "danmu.php: 彈幕\n",
        "limit=50 代表50則留言，刪掉就全部會有。\n",
        "\n",
        "\n",
        "```"
      ],
      "metadata": {
        "id": "YvSfPMpwmsg6"
      }
    }
  ]
}