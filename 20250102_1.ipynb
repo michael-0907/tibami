{
  "nbformat": 4,
  "nbformat_minor": 0,
  "metadata": {
    "colab": {
      "provenance": [],
      "authorship_tag": "ABX9TyOqY8Bq4mlNPjKcrXjkXI1d",
      "include_colab_link": true
    },
    "kernelspec": {
      "name": "python3",
      "display_name": "Python 3"
    },
    "language_info": {
      "name": "python"
    }
  },
  "cells": [
    {
      "cell_type": "markdown",
      "metadata": {
        "id": "view-in-github",
        "colab_type": "text"
      },
      "source": [
        "<a href=\"https://colab.research.google.com/github/michael-0907/tibami/blob/main/20250102_1.ipynb\" target=\"_parent\"><img src=\"https://colab.research.google.com/assets/colab-badge.svg\" alt=\"Open In Colab\"/></a>"
      ]
    },
    {
      "cell_type": "markdown",
      "source": [
        "```python\n",
        "\n",
        "# 爬蟲 sop\n",
        "爬蟲是一個反向的思維, 你看到一個你有興趣的答案，你要反查問題是啥。\n",
        "1. 檢查原始碼(網址列的答案)\n",
        "\n",
        "!!! 隱藏網址: 一個網頁並不是只有一個網址構成\n",
        "!!! 網址裡的參數: ?參數名=值&參數名=值&....,參數可以試圖修改或刪除去騙伺服器\n",
        "!!! ?expire=1735805136(電腦秒數 unix時間)\n",
        "!!! ?ip=118.161.196.211\n",
        "!!! 在回應看到的是亂碼或文字的，大機率是圖片或影片\n",
        "1. 檢查原始碼(網址列的答案)\n",
        "\n",
        "yt 爬蟲影片:\n",
        "開無痕->進yt->改m->再開影片\n",
        "yt 影片是串流的，分成一段一段給的，也就是client告訴他要哪一段。\n",
        "畫面可以切片段來給，音訊不可以\n",
        "往下找，找聲音的\n",
        "影片、聲音分開下載，下載後再合併\n",
        "通常第一個是影片，第二個是聲音\n",
        "\n",
        "expire=1735805149 (unix時間轉換後2025-01-02 16:05:49會expire，代表網址不可再使用)\n",
        "\n",
        "HTTP 回應標頭中的 Content-Type 指定了伺服器傳送給客戶端的回應內容的媒體類型 (MIME type)，以便客戶端（例如瀏覽器）知道如何正確地處理和呈現該內容。\n",
        "\n",
        "在回應標頭裡: content-type:application/vnd.yt-ump\n",
        "找到正確的網址後，在回應標頭裡: content-type:video/webm\n",
        "\n",
        "ump=1 (代表是特殊格式，刪掉或改成0試試)\n",
        "range=0-90435 (代表切成多少片段給出，刪掉就可以給出全部)\n",
        "mime=video\n",
        "mime=audio\n",
        "mime=video\n",
        "rn=35 360p 基本畫質\n",
        "rn=126 1080p 高畫質\n",
        "\n",
        "用ffmpeg合併，非常好用的免費且可商用的工具。\n",
        "\n",
        "\n",
        "吉伊卡哇 動畫瘋:\n",
        "https://api.gamer.com.tw/anime/v1/danmu.php?videoSn=36632&geo=TW%2CHK&limit=50\n",
        "danmu.php: 彈幕\n",
        "limit=50 代表50則留言，刪掉就全部會有。\n",
        "\n",
        "副檔名.m3u8: m3u8 指的是播放清單的意思。\n",
        "\n",
        "\n",
        "影片合併\n",
        "Youtube\n",
        "\n",
        "WIN: https://drive.google.com/file/d/1NG1jLgtNSMA8Gu_WKtfpa7a7sOsXoRiI/view?usp=sharing\n",
        "\n",
        "MAC: https://drive.google.com/file/d/1jeMX_L6j4iINj9f9pRXyddxeHPuLkQJu/view?usp=sharing\n",
        "\n",
        "指令: ffmpeg.exe -i 聲音 -i 影片 out.mp4\n",
        "\n",
        "BAHA\n",
        "\n",
        "WIN:\n",
        "-headers \"Origin: https://ani.gamer.com.tw\" -i \"\" anime.mp4\n",
        "\n",
        "MAC:\n",
        "-headers 'Origin: https://ani.gamer.com.tw' -i '' anime.mp4\n",
        "\n",
        "command line原理\n",
        "執行擋(.exe) 參數\n",
        "\n",
        "參數有兩種帶法:\n",
        "1. 直接寫: 如果位置固定(譬如是最尾巴)\n",
        "2. 先加提示在開始寫: -i 檔案名字\n",
        "長提示: --input\n",
        "短提示: -i\n",
        "\n",
        "常用指令:\n",
        "cd 資料夾位致\n",
        "\n",
        "```\n",
        "\n"
      ],
      "metadata": {
        "id": "YvSfPMpwmsg6"
      }
    },
    {
      "cell_type": "markdown",
      "source": [
        "# 檔案讀寫\n",
        "```python\n",
        "\n",
        "open(file, mode='r', buffering=-1, encoding=None, errors=None, newline=None, closefd=True, opener=None)¶\n",
        "\n",
        "ANSI=美國標準編碼\n",
        "UniCode=萬國碼\n",
        "!!! 在檔案讀寫時，always將encoding設定為utf-8\n",
        "!!! 因為不做設置的話，有可能會使用系統預設編碼\n",
        "windows預設編碼: ANSI，對於繁體他是big5，對於簡體是GBK\n",
        "MAC、UNIX預設編碼: utf-8\n",
        "\n",
        "\n",
        "\n",
        "\n",
        "\n",
        "```"
      ],
      "metadata": {
        "id": "hIVEc6xawBh8"
      }
    },
    {
      "cell_type": "code",
      "source": [
        "\n",
        "def add(n1, n2=3.14, n3=20, n4=40): # 呼叫add()時，可以不給n2, n3, n4 的值，函數內已預設給了\n",
        "  ans = n1 + n2 + n3 + n4\n",
        "  return ans\n",
        "\n",
        "print(add(3))\n",
        "print(add(3, 5, 2)) # 改變預設的值\n",
        "print(add(3, n3=40)) # 開始指定後，後面就要每個都要指定\n",
        "\n",
        "# \\:跳脫字元\n",
        "# \\t: 代表一個符號 \"TAB\"\n",
        "# \\n: 代表一個符號 \"空格\"\n",
        "# r: 跳脫字元\n",
        "# \"\\\\\": 跳脫字元\n",
        "s = \"abc\\tdef\" # \"\\t\"代表TAB， \"\\n\" 代表換行\n",
        "print(s)\n",
        "print(len(s)) # \"tab\"是一個字元\n",
        "s = \"abc\\t\\ndef\"\n",
        "print(s)\n",
        "s = \"abc\\\\tdef\"\n",
        "print(s)\n",
        "s = r\"abc\\tdef\"\n",
        "print(s)\n",
        "s = r\"abc\\\\tdef\"\n",
        "print(s)\n",
        "\n",
        "# 格式化字串\n",
        "print(\"i am {}. i am {} years old. i live in {}\".format(\"michael\", 43, \"tpe\"))\n",
        "print(\"i am {name}. i am {age} years old. i live in {city}\".format(name=\"michael\", age=43, city=\"tpe\"))\n",
        "name, age, city = \"michael\", 43, \"tpe\"\n",
        "print(\"i am {}. i am {} years old. i live in {}\".format(name, age, city))\n",
        "print(f\"i am {name}. i am {age} years old. i live in {city}\")\n",
        "\n",
        "\n",
        "f = open(\"a.txt\", \"w\", encoding=\"utf-8\")\n",
        "# _io.TextIOWrapper 是 Python 中用於處理文本文件的類型，提供了讀取和寫入文本的功能。它是 io 模組的一部分，常見於文件操作中。\n",
        "print(type(f)) # <class '_io.TextIOWrapper'>\n",
        "f.write(\"abcde\")\n",
        "f.write(\"\\nfgh\")\n",
        "f.close()\n",
        "\n",
        "f = open(\"a.txt\", \"r\", encoding=\"utf-8\")\n",
        "content = f.read()\n",
        "print(content)\n",
        "f.close()\n",
        "\n",
        "# 檔案路徑always使用 /\n",
        "# 絕對路徑: /content/sample_data/README.md\n",
        "# 相對路徑: sample_data/README.md   (當前所在的路徑)\n",
        "\n",
        "f = open(\"sample_data/README.md\", \"r\", encoding=\"utf-8\")\n",
        "content = f.read()\n",
        "print(content)\n",
        "f.close\n",
        "\n",
        "# 重要:\n",
        "# windows的路徑是\\，跟其它人不一樣，所以在使用windows的路徑時要加r, r\"windows的路徑\"\n",
        "# mac, unix 的路徑是 /\n",
        "# r\"C:\\Users\\michael chen\\Desktop\\yt\"\n",
        "\n"
      ],
      "metadata": {
        "colab": {
          "base_uri": "https://localhost:8080/"
        },
        "id": "KeqBIvlmxXUy",
        "outputId": "2a3e492d-903d-44d8-dd03-bd72ee27d9c0"
      },
      "execution_count": 22,
      "outputs": [
        {
          "output_type": "stream",
          "name": "stdout",
          "text": [
            "66.14\n",
            "50\n",
            "86.14\n",
            "abc\tdef\n",
            "7\n",
            "abc\t\n",
            "def\n",
            "abc\\tdef\n",
            "abc\\tdef\n",
            "abc\\\\tdef\n",
            "i am michael. i am 43 years old. i live in tpe\n",
            "i am michael. i am 43 years old. i live in tpe\n",
            "i am michael. i am 43 years old. i live in tpe\n",
            "i am michael, i am 43 years old. i live in tpe\n",
            "<class '_io.TextIOWrapper'>\n",
            "abcde\n",
            "fgh\n",
            "This directory includes a few sample datasets to get you started.\n",
            "\n",
            "*   `california_housing_data*.csv` is California housing data from the 1990 US\n",
            "    Census; more information is available at:\n",
            "    https://docs.google.com/document/d/e/2PACX-1vRhYtsvc5eOR2FWNCwaBiKL6suIOrxJig8LcSBbmCbyYsayia_DvPOOBlXZ4CAlQ5nlDD8kTaIDRwrN/pub\n",
            "\n",
            "*   `mnist_*.csv` is a small sample of the\n",
            "    [MNIST database](https://en.wikipedia.org/wiki/MNIST_database), which is\n",
            "    described at: http://yann.lecun.com/exdb/mnist/\n",
            "\n",
            "*   `anscombe.json` contains a copy of\n",
            "    [Anscombe's quartet](https://en.wikipedia.org/wiki/Anscombe%27s_quartet); it\n",
            "    was originally described in\n",
            "\n",
            "    Anscombe, F. J. (1973). 'Graphs in Statistical Analysis'. American\n",
            "    Statistician. 27 (1): 17-21. JSTOR 2682899.\n",
            "\n",
            "    and our copy was prepared by the\n",
            "    [vega_datasets library](https://github.com/altair-viz/vega_datasets/blob/4f67bdaad10f45e3549984e17e1b3088c731503d/vega_datasets/_data/anscombe.json).\n",
            "\n"
          ]
        },
        {
          "output_type": "execute_result",
          "data": {
            "text/plain": [
              "<function TextIOWrapper.close()>"
            ]
          },
          "metadata": {},
          "execution_count": 22
        }
      ]
    },
    {
      "cell_type": "markdown",
      "source": [
        "# list進階操作\n",
        "```python\n",
        "!!! 清單這個容器在使用上，都是放進\"同類型\"的東西\n",
        "!!! 查詢操作: list[key]\n",
        "!!! 設定操作: list[key] = 30\n",
        "\n",
        "pythonic: python式的文法、排版\n",
        "\n",
        "!!! 反向操作: 列表是\"有序\"的可變列表，可以作反向操作。\n",
        "第一組正向key: 0 1 2 3 4\n",
        "第二組反向key: -5 -4 -3 -2 -1, list[-1]\n",
        "\n",
        "查詢一段: list[開始key:結束key(不包含)]，區段(切片)操作的回傳值為list型態\n",
        "查詢一段，並且用跳的: list[開始key:結束key(不包含):幾個一跳]\n",
        "如果跳號的值是正的，左到右\n",
        "如果跳號的值是負的，右到左\n",
        "list[start:end:step]\n",
        "\n",
        "要記的操作:\n",
        "list[0]: 取第一個\n",
        "list[-1]: 取最後一個\n",
        "list[::-1]: 把list倒過來，從最後一個一個往前取出來\n",
        "list[::2]: 奇數位置\n",
        "list[1::2]: 偶數位置\n",
        "\n",
        "\n",
        "\n",
        "```"
      ],
      "metadata": {
        "id": "DbjDp3-38qHV"
      }
    },
    {
      "cell_type": "code",
      "source": [
        "\n",
        "scores = [30, 20, 60, 60, 40]\n",
        "print(sum(scores),\n",
        "    max(scores),\n",
        "    min(scores),\n",
        "    len(scores))\n",
        "print(60 in scores)\n",
        "print(scores[len(scores)-1]) # not pythonic\n",
        "print(scores[-1]) # pythonic\n",
        "print(scores[1:4]) # 區段操作的回傳值為list型態\n",
        "print(scores[1:-1])\n",
        "print(scores[:4])\n",
        "print(scores[1:])\n",
        "print(scores[1:5:2])\n",
        "# 奇數位置\n",
        "print(scores[::2])\n",
        "# 偶數位置\n",
        "print(scores[1::2])\n",
        "# 跳號的值是正的, 就左到右\n",
        "# 跳號的值是負的, 從右到左\n",
        "print(scores[::-1])\n",
        "\n",
        "\n"
      ],
      "metadata": {
        "colab": {
          "base_uri": "https://localhost:8080/"
        },
        "id": "cqjByEgy8x1k",
        "outputId": "abf9fe15-5a77-421d-bc9d-2942dded2354"
      },
      "execution_count": 27,
      "outputs": [
        {
          "output_type": "stream",
          "name": "stdout",
          "text": [
            "210 60 20 5\n",
            "True\n",
            "40\n",
            "40\n",
            "[20, 60, 60]\n",
            "[20, 60, 60]\n",
            "[30, 20, 60, 60]\n",
            "[20, 60, 60, 40]\n",
            "[20, 60]\n",
            "[30, 60, 40]\n",
            "[20, 60]\n",
            "[40, 60, 60, 20, 30]\n"
          ]
        }
      ]
    },
    {
      "cell_type": "code",
      "source": [
        "scores = [60, 80, 20, 30, 50]\n",
        "print(scores)\n",
        "\n",
        "total = 0\n",
        "\n",
        "i = 0\n",
        "while i < len(scores):\n",
        "  s = scores[i] # !!! 但以後不是每種群的key都會是 0 1 2 3， [i]就不會是泛用。\n",
        "  if s >= 60:\n",
        "    total = total + 1\n",
        "  i = i + 1\n",
        "\n",
        "print(total)\n",
        "\n",
        "\n",
        "\n",
        "total = 0\n",
        "\n",
        "for score in scores:\n",
        "  if score >= 60:\n",
        "    total = total + 1\n",
        "\n",
        "print(total)\n"
      ],
      "metadata": {
        "colab": {
          "base_uri": "https://localhost:8080/"
        },
        "id": "Z-F4a37jC11H",
        "outputId": "d1064be9-4e6b-411f-c9f5-7f175a17d462"
      },
      "execution_count": 33,
      "outputs": [
        {
          "output_type": "stream",
          "name": "stdout",
          "text": [
            "[60, 80, 20, 30, 50]\n",
            "2\n",
            "2\n"
          ]
        }
      ]
    },
    {
      "cell_type": "markdown",
      "source": [
        "# for 代號 in 群:\n",
        "\n",
        "\n",
        "```python\n",
        "for 代號 in 群: 會幫你從這群東西裡面每個東西拿給你一次，有順序就照順序，沒順序就隨意。\n",
        "\n",
        "1. range(5)-> 0, 1, 2, 3, 4 (記這個就好)\n",
        "2. range(2, 5) -> 2, 3, 4\n",
        "3. range(2, 11, 3)-> 2, 5, 8\n",
        "\n",
        "for i in range(次數)\n",
        "1. 次在range()裡\n",
        "2. i = 0....次-1\n",
        "\n",
        "\n",
        "\n",
        "\n",
        "\n",
        "\n",
        "````"
      ],
      "metadata": {
        "id": "u1ARwlJbEi64"
      }
    },
    {
      "cell_type": "code",
      "source": [
        "scores = [60, 80, 20, 30, 50]\n",
        "print(scores)\n",
        "\n",
        "total = 0\n",
        "\n",
        "for score in scores:\n",
        "  if score >= 60:\n",
        "    total = total + 1\n",
        "\n",
        "print(total)"
      ],
      "metadata": {
        "colab": {
          "base_uri": "https://localhost:8080/"
        },
        "id": "9GuzE3AEFC9R",
        "outputId": "4992ebc8-b38f-47ee-a993-8f5eb07daac5"
      },
      "execution_count": 34,
      "outputs": [
        {
          "output_type": "stream",
          "name": "stdout",
          "text": [
            "[60, 80, 20, 30, 50]\n",
            "2\n"
          ]
        }
      ]
    },
    {
      "cell_type": "code",
      "source": [
        "# 1加到10\n",
        "\n",
        "total = 0\n",
        "i = 0\n",
        "\n",
        "while i < 10:\n",
        "  total = total + (i + 1)\n",
        "  print(total)\n",
        "  i = i + 1\n",
        "\n",
        "\n",
        "\n",
        "total = 0\n",
        "for i in range(10):\n",
        "  total = total + (i + 1)\n",
        "  print(total)\n",
        "\n",
        "ll = list(range(10))\n",
        "print(ll)\n"
      ],
      "metadata": {
        "colab": {
          "base_uri": "https://localhost:8080/"
        },
        "id": "x-4w_YzCFp_w",
        "outputId": "872bf0cb-60ae-40cf-ed98-b9cdb3d17f7a"
      },
      "execution_count": 37,
      "outputs": [
        {
          "output_type": "stream",
          "name": "stdout",
          "text": [
            "1\n",
            "3\n",
            "6\n",
            "10\n",
            "15\n",
            "21\n",
            "28\n",
            "36\n",
            "45\n",
            "55\n",
            "1\n",
            "3\n",
            "6\n",
            "10\n",
            "15\n",
            "21\n",
            "28\n",
            "36\n",
            "45\n",
            "55\n",
            "[0, 1, 2, 3, 4, 5, 6, 7, 8, 9]\n"
          ]
        }
      ]
    },
    {
      "cell_type": "markdown",
      "source": [
        "# 回圈sop\n",
        "```python\n",
        "\n",
        "1. 數次數，次數型的回圈: for i in range(次):\n",
        "2. 走過字串/清單: for 名稱 in 群:\n",
        "3. 其它條件: while True + break (不知何時結束時使用)\n",
        "\n",
        "\n",
        "\n",
        "\n",
        "\n",
        "\n",
        "```"
      ],
      "metadata": {
        "id": "D53_i-kGH-uw"
      }
    }
  ]
}