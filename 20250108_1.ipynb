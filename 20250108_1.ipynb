{
  "nbformat": 4,
  "nbformat_minor": 0,
  "metadata": {
    "colab": {
      "provenance": [],
      "authorship_tag": "ABX9TyOlHRW5qwJ3G0mHSNpnoFA6",
      "include_colab_link": true
    },
    "kernelspec": {
      "name": "python3",
      "display_name": "Python 3"
    },
    "language_info": {
      "name": "python"
    }
  },
  "cells": [
    {
      "cell_type": "markdown",
      "metadata": {
        "id": "view-in-github",
        "colab_type": "text"
      },
      "source": [
        "<a href=\"https://colab.research.google.com/github/michael-0907/tibami/blob/main/20250108_1.ipynb\" target=\"_parent\"><img src=\"https://colab.research.google.com/assets/colab-badge.svg\" alt=\"Open In Colab\"/></a>"
      ]
    },
    {
      "cell_type": "markdown",
      "source": [
        "# Tabelog 爬蟲\n",
        "```python\n",
        "HTML格式:\n",
        "由長方形區塊構成，一個包含一個\n",
        "\n",
        "<a href=\"網址\"> -> start\n",
        "內容.....\n",
        "</a> -> end\n",
        "\n",
        "1. 名字決定它的功能:\n",
        "  a: 超連結\n",
        "  img/video: 圖片/影片\n",
        "\n",
        "2. 屬性: 決定這個區塊的一些細微屬性\n",
        "  !!! 寫在開頭的位置\n",
        "  !!! 寫法: 屬性名=\"value\"\n",
        "  a href=\"網址\"\n",
        "  img/video src=\"網址\"\n",
        "3. 內容: 顯示文字\n",
        "  !!! 寫在開始和結束之間\n",
        "\n",
        "```"
      ],
      "metadata": {
        "id": "Qm365YuSNiiK"
      }
    },
    {
      "cell_type": "code",
      "source": [],
      "metadata": {
        "id": "2n-nVrFwbj_t"
      },
      "execution_count": null,
      "outputs": []
    }
  ]
}