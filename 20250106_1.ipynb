{
  "nbformat": 4,
  "nbformat_minor": 0,
  "metadata": {
    "colab": {
      "provenance": [],
      "authorship_tag": "ABX9TyMKDDhMiAfjMUxckHhiZ1b1",
      "include_colab_link": true
    },
    "kernelspec": {
      "name": "python3",
      "display_name": "Python 3"
    },
    "language_info": {
      "name": "python"
    }
  },
  "cells": [
    {
      "cell_type": "markdown",
      "metadata": {
        "id": "view-in-github",
        "colab_type": "text"
      },
      "source": [
        "<a href=\"https://colab.research.google.com/github/michael-0907/tibami/blob/main/20250106_1.ipynb\" target=\"_parent\"><img src=\"https://colab.research.google.com/assets/colab-badge.svg\" alt=\"Open In Colab\"/></a>"
      ]
    },
    {
      "cell_type": "markdown",
      "source": [
        "# 清單list[], 字典dict{}\n",
        "```python\n",
        "清單list[]: 同類型的東西，放在清單這個容器。\n",
        "字典dict{}: 當遇到複雜的東西，不知道怎麼表示的時候，切割成小部份，聚合在一起。\n",
        "\n",
        "JSON格式:\n",
        "!!! [{}, {}, {},....]\n",
        "!!! 將清單及字典聚合起來使用，幾乎能夠表示宇宙間的萬事萬物。\n",
        "!!! [{key:value}, {key:value}, {key:value},......]\n",
        "\n",
        "\n",
        "!!! 字典沒有順序性\n",
        "\n",
        "\n",
        "\n",
        "\n",
        "```"
      ],
      "metadata": {
        "id": "V7dMagtWwjQQ"
      }
    },
    {
      "cell_type": "markdown",
      "source": [
        "字典型態\n",
        "\n",
        "一副撲克牌: [排, 排, ...]\n",
        "整班學生: [學生, 學生, ...]\n",
        "\n",
        "字典型態: 把很多小東西聚集起來, 變成一個複雜的東西\n",
        "\n",
        "字典在每一組的地方, 妳都要幫她準備一個key(是有形態)\n",
        "\n",
        "key: 數字/字串\n",
        "key-value: 連連看\n",
        "\n",
        "名稱 = {\n",
        "    \"name\":\"Elwing\",\n",
        "    \"height\":175\n",
        "}\n",
        "\n",
        "? 如果你今天印出來: 發覺height在name前面有沒有問題\n",
        "-> 沒問題, 字典沒有順序性(key=0,1,2...)\n",
        "\n",
        "字典查詢: [key]"
      ],
      "metadata": {
        "id": "xXIuKvY0YeAe"
      }
    },
    {
      "cell_type": "code",
      "source": [
        "\n",
        "student = {\n",
        "    \"name\":\"Elwing\",\n",
        "    \"height\":175\n",
        "}\n",
        "print(student)\n",
        "\n",
        "print(student[\"height\"])\n",
        "\n",
        "# 口訣: 以前你怎麼使用名稱->字典[key]\n",
        "\n",
        "# weight = 80\n",
        "student[\"weight\"] = 70\n",
        "print(student)\n",
        "# height = height + 5\n",
        "student[\"height\"] = student[\"height\"] + 5\n",
        "print(student)\n",
        "\n",
        "# optional\n",
        "for key in student:\n",
        "    print(\"!\", key, student[key])"
      ],
      "metadata": {
        "colab": {
          "base_uri": "https://localhost:8080/"
        },
        "id": "dPvtygY2Yh2U",
        "outputId": "bc4beb6a-1267-43e8-f283-367878f57c5f"
      },
      "execution_count": 1,
      "outputs": [
        {
          "output_type": "stream",
          "name": "stdout",
          "text": [
            "{'name': 'Elwing', 'height': 175}\n",
            "175\n",
            "{'name': 'Elwing', 'height': 175, 'weight': 70}\n",
            "{'name': 'Elwing', 'height': 180, 'weight': 70}\n",
            "! name Elwing\n",
            "! height 180\n",
            "! weight 70\n"
          ]
        }
      ]
    },
    {
      "cell_type": "markdown",
      "source": [
        "爬蟲SOP\n",
        "1. 打開原始碼, 檢查要的東西有沒有在原始碼\n",
        "2. (if yes) 網址=網址列\n",
        "  (if no) 網址=F12->Network找隱藏網址\n",
        "\n",
        "List和Dict是我們最重要的兩個群集形態: JSON格式\n",
        "標準表格格式\n",
        "CSV格式(Comma-Separated Values)\n",
        "\n",
        "名字,身高\n",
        "Elwing,175\n",
        "Bob,180\n",
        "\"Elwing, Mr.Chou\",180\n",
        "\n",
        "逗號/換行/雙引號"
      ],
      "metadata": {
        "id": "MUjo8XkSYtA_"
      }
    },
    {
      "cell_type": "code",
      "source": [
        "\n",
        "import json\n",
        "import urllib.request as req\n",
        "\n",
        "while True:\n",
        "    url = \"https://www.cosmed.com.tw/api/getStore.aspx?t=store&c=&d=&s=\"\n",
        "    f = req.urlopen(url)\n",
        "    content = f.read()\n",
        "    content = content.decode()\n",
        "    if \"Invalid\" in content:\n",
        "        print(\"retry...\")\n",
        "    else:\n",
        "        break\n",
        "\n",
        "# 準備儲存的檔案\n",
        "f = open(\"cosmed.csv\", \"w\", encoding=\"utf-8\")\n",
        "f.write(\"名稱, 電話\\n\")\n",
        "content = json.loads(content)\n",
        "store_list = content[\"data\"]\n",
        "for store in store_list:\n",
        "    print(store[\"StoreNM\"])\n",
        "    print(store[\"Tel\"])\n",
        "    print(store[\"Address\"])\n",
        "    print(\"-\" * 30)\n",
        "    f.write(store[\"StoreNM\"])\n",
        "    f.write(\",\")\n",
        "    f.write(store[\"Tel\"])\n",
        "    f.write(\"\\n\")\n",
        "\n",
        "# 關閉\n",
        "f.close()"
      ],
      "metadata": {
        "id": "xBy-nqlVYtyT"
      },
      "execution_count": null,
      "outputs": []
    },
    {
      "cell_type": "markdown",
      "source": [
        "如果你真的需要excel:\n",
        "\n",
        "妳在excel這麼選\n",
        "\n",
        "開啟空白試算表 -> (功能列)資料 -> 從檔案(從文字/csv) -> 編碼: utf-8 分隔符號: 逗號 -> 匯入"
      ],
      "metadata": {
        "id": "IlPHqnRXZIPF"
      }
    },
    {
      "cell_type": "code",
      "source": [
        "\n",
        "import json\n",
        "\n",
        "url = \"https://api.gamer.com.tw/anime/v1/danmu.php?videoSn=38250&geo=TW%2CHK&limit=50\"\n",
        "\n",
        "f = req.urlopen(url)\n",
        "\n",
        "#\n",
        "content = f.read()\n",
        "content = content.decode()\n",
        "content = json.loads(content)\n",
        "danmu_list = content[\"data\"][\"danmu\"]\n",
        "#\n",
        "f = open(\"danmu.csv\", \"w\", encoding=\"utf-8\")\n",
        "f.write(\"時間, id, 彈幕\\n\")\n",
        "for danmu in danmu_list:\n",
        "    print(danmu[\"time\"], \",\",\n",
        "       danmu[\"userid\"], \",\",\n",
        "       file=f)\n",
        "    # print(\"-\" * 30)\n",
        "f.close()\n",
        ""
      ],
      "metadata": {
        "id": "cslh4rn0ZKoh"
      },
      "execution_count": 8,
      "outputs": []
    },
    {
      "cell_type": "code",
      "source": [
        "# pandas: 表格處理函式庫\n",
        "import pandas as pd\n",
        "import json\n",
        "\n",
        "url = \"https://api.gamer.com.tw/anime/v1/danmu.php?videoSn=38250&geo=TW%2CHK&limit=50\"\n",
        "\n",
        "f = req.urlopen(url)\n",
        "\n",
        "#\n",
        "content = f.read()\n",
        "content = content.decode()\n",
        "content = json.loads(content)\n",
        "danmu_list = content[\"data\"][\"danmu\"]\n",
        "\n",
        "# 幫妳把整個list轉換成pandas的表格形態(DataFrame)\n",
        "df = pd.json_normalize(danmu_list)\n",
        "# DataFrame有一個專屬功能叫做to_xxx\n",
        "df.to_csv(\"danmu.csv\", encoding=\"utf-8\")"
      ],
      "metadata": {
        "id": "s2SRWarAZOy-"
      },
      "execution_count": 9,
      "outputs": []
    }
  ]
}