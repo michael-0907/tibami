{
  "nbformat": 4,
  "nbformat_minor": 0,
  "metadata": {
    "colab": {
      "provenance": [],
      "authorship_tag": "ABX9TyMuZuFVHxXnrcggxVNu9xzI",
      "include_colab_link": true
    },
    "kernelspec": {
      "name": "python3",
      "display_name": "Python 3"
    },
    "language_info": {
      "name": "python"
    }
  },
  "cells": [
    {
      "cell_type": "markdown",
      "metadata": {
        "id": "view-in-github",
        "colab_type": "text"
      },
      "source": [
        "<a href=\"https://colab.research.google.com/github/michael-0907/tibami/blob/main/20250106_1.ipynb\" target=\"_parent\"><img src=\"https://colab.research.google.com/assets/colab-badge.svg\" alt=\"Open In Colab\"/></a>"
      ]
    },
    {
      "cell_type": "markdown",
      "source": [
        "# 清單list[], 字典dict{}\n",
        "```python\n",
        "清單list[]: 同類型的東西，放在清單這個容器。\n",
        "字典dict{}: 當遇到複雜的東西，不知道怎麼表示的時候，切割成小部份，聚合在一起。\n",
        "\n",
        "JSON格式:\n",
        "!!! [{}, {}, {},....]\n",
        "!!! 將清單及字典聚合起來使用，幾乎能夠表示宇宙間的萬事萬物。\n",
        "!!! [{key:value}, {key:value}, {key:value},......]\n",
        "\n",
        "\n",
        "\n",
        "\n",
        "\n",
        "```"
      ],
      "metadata": {
        "id": "V7dMagtWwjQQ"
      }
    }
  ]
}