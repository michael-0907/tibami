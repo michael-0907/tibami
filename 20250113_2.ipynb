{
  "nbformat": 4,
  "nbformat_minor": 0,
  "metadata": {
    "colab": {
      "provenance": [],
      "authorship_tag": "ABX9TyMtbEaJUiGNOKwc0VzXedxD",
      "include_colab_link": true
    },
    "kernelspec": {
      "name": "python3",
      "display_name": "Python 3"
    },
    "language_info": {
      "name": "python"
    }
  },
  "cells": [
    {
      "cell_type": "markdown",
      "metadata": {
        "id": "view-in-github",
        "colab_type": "text"
      },
      "source": [
        "<a href=\"https://colab.research.google.com/github/michael-0907/tibami/blob/main/20250113_2.ipynb\" target=\"_parent\"><img src=\"https://colab.research.google.com/assets/colab-badge.svg\" alt=\"Open In Colab\"/></a>"
      ]
    },
    {
      "cell_type": "markdown",
      "source": [
        "# 抓出關鍵詞\n",
        "```python\n",
        "1. 拼音型,西方型: 英文, 字母->詞->片語(phrase)\n",
        "2. 東方型:    中文,  字->詞\n",
        "\n",
        "分詞: 我喜歡吃甜食->我/喜歡/吃/甜食\n",
        "哪個詞在整段話中最重要\n",
        "\n",
        "哪個詞在整段話裡最重要:\n",
        "1. 出現次數(TF): 高，重要性愈高\n",
        "2. 常用程度(IDF): 低，重要性愈高\n",
        "\n",
        "詞的重要程度:\n",
        "TF-IDF = 出現次數 * log(1/常用程度)\n",
        "\n",
        "log: 取指數\n",
        "log2(N): 如果以2為底的話，這個數字是N的幾次方\n",
        "log3(N): 如果以3為底的話，這個數字是N的幾次方\n",
        "\n",
        "愈到後面，N要愈大，指數才會增加一點點，\n",
        "也就是N要增加很多，才會讓你有很大的感受。\n",
        "例如:\n",
        "分貝、地震芮氏規模\n",
        "地震1->2級感覺沒多少\n",
        "但6->7級感覺差超多\n",
        "所以地震是取log\n",
        "所以人類的感觀，都是指數型的感官。\n",
        "\n",
        "\n",
        "!!! jieba函式庫: 預先統計了常用程度\n",
        "DF = 詞出現在幾篇裡面/夠多篇文章\n",
        "!!!       :分詞\n",
        "利用詞彙做出初步劃分->(沒在詞彙庫/混洧)上下文推測哪種分法最合理\n",
        "\n",
        "\n",
        "```"
      ],
      "metadata": {
        "id": "yZBf6kN6jdOY"
      }
    },
    {
      "cell_type": "code",
      "source": [
        "# “结巴”中文分词：做最好的 Python 中文分词组件\n",
        "\n",
        "\n",
        "news = \"\"\"\n",
        "饗饗信義店爆發食物中毒案，累計59人就醫通報，目前該店已恢復營業，針對感染可能，北市衛生局食藥科長林冠蓁表示，個案中有超過7成都有食用過生魚片，且依照潛伏期和相關症狀看來，與諾羅病毒比較相似，但仍需要等待後續報告出爐才能確認。\n",
        "\n",
        "饗饗食物中毒案累計通報59名個案，昨日核准業者復業，林冠蓁指出，就醫民眾共食的食材包含生魚片、生蠔及干貝，目前已採樣環境檢體4件、人體檢體4件，結果最快1到2周後出爐，而59名通報案中，分別有42人吃生魚片、21人食用干貝、5人食用生蠔，有超過7成有吃過生魚片。\n",
        "\n",
        "\n",
        "\n",
        "林冠蓁說，根據復業報告中推測，可能是生鮮食材遭受諾羅病毒、病原性大腸桿菌、沙門氏菌等污染，加上目前通報個案的症狀和潛伏期都和諾羅病毒類似，高機率是諾羅病毒感染，但詳細原因仍需待調查報告出爐。\n",
        "\n",
        "如符合食品中毒病因物質及原因食品，將依違反《食品安全衛生管理法》第15條及第44條處6萬到2億元罰鍰。\n",
        "\"\"\""
      ],
      "metadata": {
        "id": "tHa6u_u5j7p5"
      },
      "execution_count": 3,
      "outputs": []
    },
    {
      "cell_type": "code",
      "source": [
        "import jieba.analyse\n",
        "jieba.analyse.extract_tags(news)"
      ],
      "metadata": {
        "colab": {
          "base_uri": "https://localhost:8080/"
        },
        "id": "dh2JlUJ_jjN_",
        "outputId": "d079547f-1f98-44d9-b03b-e9aef6e57c92"
      },
      "execution_count": 4,
      "outputs": [
        {
          "output_type": "stream",
          "name": "stderr",
          "text": [
            "Building prefix dict from the default dictionary ...\n",
            "DEBUG:jieba:Building prefix dict from the default dictionary ...\n",
            "Dumping model to file cache /tmp/jieba.cache\n",
            "DEBUG:jieba:Dumping model to file cache /tmp/jieba.cache\n",
            "Loading model cost 1.041 seconds.\n",
            "DEBUG:jieba:Loading model cost 1.041 seconds.\n",
            "Prefix dict has been built successfully.\n",
            "DEBUG:jieba:Prefix dict has been built successfully.\n"
          ]
        },
        {
          "output_type": "execute_result",
          "data": {
            "text/plain": [
              "['諾羅',\n",
              " '59',\n",
              " '魚片',\n",
              " '林冠',\n",
              " '個案',\n",
              " '超過',\n",
              " '過生',\n",
              " '潛伏期',\n",
              " '症狀',\n",
              " '報告',\n",
              " '出爐',\n",
              " '通報',\n",
              " '食材',\n",
              " '干貝',\n",
              " '檢體',\n",
              " '病毒',\n",
              " '食用',\n",
              " '食物中毒',\n",
              " '北市',\n",
              " '信義店']"
            ]
          },
          "metadata": {},
          "execution_count": 4
        }
      ]
    },
    {
      "cell_type": "code",
      "source": [
        "# 設置繁中dict，用一個更大的詞庫，讓分詞更精準\n",
        "import jieba\n",
        "import urllib.request as req\n",
        "\n",
        "url= \"https://github.com/fxsjy/jieba/raw/master/extra_dict/dict.txt.big\"\n",
        "req.urlretrieve(url, \"dict\")\n",
        "jieba.set_dictionary(\"dict\")\n",
        "\n"
      ],
      "metadata": {
        "id": "pvI9AR40p0WY"
      },
      "execution_count": 5,
      "outputs": []
    },
    {
      "cell_type": "code",
      "source": [
        "import jieba.analyse\n",
        "jieba.analyse.extract_tags(news)"
      ],
      "metadata": {
        "colab": {
          "base_uri": "https://localhost:8080/"
        },
        "id": "twjRGMvGqop8",
        "outputId": "f2d753fe-db19-42a7-f9c7-de0e75f23a8e"
      },
      "execution_count": 6,
      "outputs": [
        {
          "output_type": "stream",
          "name": "stderr",
          "text": [
            "Building prefix dict from /content/dict ...\n",
            "DEBUG:jieba:Building prefix dict from /content/dict ...\n",
            "Dumping model to file cache /tmp/jieba.u08cf431985a91c6bc29a3dba35bb8b2f.cache\n",
            "DEBUG:jieba:Dumping model to file cache /tmp/jieba.u08cf431985a91c6bc29a3dba35bb8b2f.cache\n",
            "Loading model cost 1.643 seconds.\n",
            "DEBUG:jieba:Loading model cost 1.643 seconds.\n",
            "Prefix dict has been built successfully.\n",
            "DEBUG:jieba:Prefix dict has been built successfully.\n"
          ]
        },
        {
          "output_type": "execute_result",
          "data": {
            "text/plain": [
              "['通報',\n",
              " '生魚片',\n",
              " '諾羅',\n",
              " '59',\n",
              " '個案',\n",
              " '出爐',\n",
              " '林冠',\n",
              " '累計',\n",
              " '就醫',\n",
              " '超過',\n",
              " '潛伏期',\n",
              " '症狀',\n",
              " '報告',\n",
              " '復業',\n",
              " '干貝',\n",
              " '病毒',\n",
              " '食用',\n",
              " '食物中毒',\n",
              " '食品',\n",
              " '信義']"
            ]
          },
          "metadata": {},
          "execution_count": 6
        }
      ]
    }
  ]
}