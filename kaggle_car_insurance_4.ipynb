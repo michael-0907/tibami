{
  "nbformat": 4,
  "nbformat_minor": 0,
  "metadata": {
    "colab": {
      "provenance": [],
      "authorship_tag": "ABX9TyNWNo0vl3GQHMqwJsJP4vsE",
      "include_colab_link": true
    },
    "kernelspec": {
      "name": "python3",
      "display_name": "Python 3"
    },
    "language_info": {
      "name": "python"
    }
  },
  "cells": [
    {
      "cell_type": "markdown",
      "metadata": {
        "id": "view-in-github",
        "colab_type": "text"
      },
      "source": [
        "<a href=\"https://colab.research.google.com/github/michael-0907/tibami/blob/main/kaggle_car_insurance_4.ipynb\" target=\"_parent\"><img src=\"https://colab.research.google.com/assets/colab-badge.svg\" alt=\"Open In Colab\"/></a>"
      ]
    },
    {
      "cell_type": "code",
      "execution_count": 262,
      "metadata": {
        "id": "BjOQHaUQmymP"
      },
      "outputs": [],
      "source": [
        "import numpy as np\n",
        "import pandas as pd\n",
        "import matplotlib.pyplot as plt\n",
        "import seaborn as sns\n",
        "from sklearn.model_selection import train_test_split\n",
        "from sklearn.tree import DecisionTreeClassifier\n",
        "from sklearn.ensemble import RandomForestClassifier\n",
        "from sklearn.preprocessing import StandardScaler, OneHotEncoder\n",
        "from sklearn.metrics import accuracy_score, classification_report\n",
        "from sklearn.neural_network import MLPClassifier\n",
        "from collections import Counter\n",
        "from sklearn.pipeline import Pipeline\n",
        "from sklearn.compose import ColumnTransformer\n",
        "\n",
        "\n",
        "from imblearn.over_sampling import SMOTE\n",
        "\n",
        "\n",
        "\n"
      ]
    },
    {
      "cell_type": "code",
      "source": [
        "data = pd.read_csv(\"/content/sample_data/train.csv\", encoding=\"utf-8\")\n",
        "data.shape"
      ],
      "metadata": {
        "id": "POeTLGZEm-J0",
        "colab": {
          "base_uri": "https://localhost:8080/"
        },
        "outputId": "5387d3a4-a4b9-49ca-c7b9-66ecb29e6f71"
      },
      "execution_count": 291,
      "outputs": [
        {
          "output_type": "execute_result",
          "data": {
            "text/plain": [
              "(58592, 44)"
            ]
          },
          "metadata": {},
          "execution_count": 291
        }
      ]
    },
    {
      "cell_type": "code",
      "source": [
        "# 統計目標變數的分佈\n",
        "print(data[\"is_claim\"].value_counts())\n",
        "print(data[\"is_claim\"].value_counts(normalize=True))"
      ],
      "metadata": {
        "colab": {
          "base_uri": "https://localhost:8080/"
        },
        "id": "jhleQYcyRBf5",
        "outputId": "e39f0794-5be6-4c16-f35f-e00038cdc2e7",
        "collapsed": true
      },
      "execution_count": 292,
      "outputs": [
        {
          "output_type": "stream",
          "name": "stdout",
          "text": [
            "is_claim\n",
            "0    54844\n",
            "1     3748\n",
            "Name: count, dtype: int64\n",
            "is_claim\n",
            "0    0.936032\n",
            "1    0.063968\n",
            "Name: proportion, dtype: float64\n"
          ]
        }
      ]
    },
    {
      "cell_type": "code",
      "source": [
        "# 刪除不必要的欄位\n",
        "data = data.drop(columns=[\"policy_id\"])\n",
        "data.shape"
      ],
      "metadata": {
        "id": "ZRdzzc3wnNMj",
        "colab": {
          "base_uri": "https://localhost:8080/"
        },
        "outputId": "bb7835e7-f6b6-467a-b098-a09eb0e10240"
      },
      "execution_count": 293,
      "outputs": [
        {
          "output_type": "execute_result",
          "data": {
            "text/plain": [
              "(58592, 43)"
            ]
          },
          "metadata": {},
          "execution_count": 293
        }
      ]
    },
    {
      "cell_type": "code",
      "source": [
        "# 提取並轉換 max_torque, max_power 欄位\n",
        "def torque_transform(torque):\n",
        "  torque = float(torque.lower().split(\"n\")[0])\n",
        "  return torque\n",
        "data[\"max_torque\"] = data[\"max_torque\"].apply(torque_transform)\n",
        "\n",
        "def power_transform(power):\n",
        "  power = float(power.lower().split(\"b\")[0])\n",
        "  return power\n",
        "data[\"max_power\"] = data[\"max_power\"].apply(power_transform)\n",
        "\n"
      ],
      "metadata": {
        "id": "Y1pVSZ-OnJuP"
      },
      "execution_count": 294,
      "outputs": []
    },
    {
      "cell_type": "code",
      "source": [
        "# 對二元欄位進行編碼\n",
        "for col in data.columns:\n",
        "  if (data[col].dtype == \"object\") & (data[col].nunique() == 2) & (\"is_\" in col):\n",
        "    data[col] = data[col].map({\"Yes\": 1, \"No\": 0})"
      ],
      "metadata": {
        "id": "AFcAc4t9nfgQ"
      },
      "execution_count": 295,
      "outputs": []
    },
    {
      "cell_type": "code",
      "source": [
        "# 提取特徵變數、目標變數\n",
        "X = data.drop(columns=[\"is_claim\"])\n",
        "y = data[\"is_claim\"]"
      ],
      "metadata": {
        "id": "sa3Q-6fznh8L"
      },
      "execution_count": 296,
      "outputs": []
    },
    {
      "cell_type": "code",
      "source": [
        "# 數據分割成訓練組、測試組\n",
        "X_train, X_test, y_train, y_test = train_test_split(X, y, test_size=0.2, random_state=42, shuffle=True ,stratify=y)\n",
        "print(X_train.shape, X_test.shape)\n",
        "print(y_train.shape, y_test.shape)\n",
        "print(Counter(y_train))\n",
        "print(Counter(y_test))"
      ],
      "metadata": {
        "colab": {
          "base_uri": "https://localhost:8080/"
        },
        "id": "DvahPvaTnu2x",
        "outputId": "19198173-50a6-41e4-d863-723a64fedd08"
      },
      "execution_count": 297,
      "outputs": [
        {
          "output_type": "stream",
          "name": "stdout",
          "text": [
            "(46873, 42) (11719, 42)\n",
            "(46873,) (11719,)\n",
            "Counter({0: 43875, 1: 2998})\n",
            "Counter({0: 10969, 1: 750})\n"
          ]
        }
      ]
    },
    {
      "cell_type": "code",
      "source": [
        "\n",
        "for i, col in enumerate(X_train.columns):\n",
        "  if X_train[col].dtype != \"object\":\n",
        "    print(f\"no: {i}, col_name: {col}, dtype: {X_train[col].dtype}, nunique: {X_train[col].nunique()}\")\n",
        "    print(X_train[col].unique())\n",
        "    print(\"-\" * 30)\n"
      ],
      "metadata": {
        "id": "6Hy1KJkWn6ud"
      },
      "execution_count": null,
      "outputs": []
    },
    {
      "cell_type": "code",
      "source": [
        "# 將特徵欄位做分類\n",
        "unchanged_columns = [\"policy_tenure\", \"age_of_car\", \"age_of_policyholder\", 'is_esc', 'is_adjustable_steering', 'is_tpms',\n",
        "            'is_parking_sensors', 'is_parking_camera', 'is_front_fog_lights', 'is_rear_window_wiper', 'is_rear_window_washer',\n",
        "            'is_rear_window_defogger', 'is_brake_assist', 'is_power_door_locks', 'is_central_locking', 'is_power_steering',\n",
        "            'is_driver_seat_height_adjustable', 'is_day_night_rear_view_mirror', 'is_ecw', 'is_speed_alert']\n",
        "numerical_columns = [\"population_density\", \"make\", \"max_torque\", \"max_power\", \"airbags\", \"displacement\", 'cylinder',\n",
        "            'gear_box', 'turning_radius', 'length', 'width', 'height', 'gross_weight', \"ncap_rating\"]\n",
        "categorical_columns = list(X_train.select_dtypes(include=[\"object\"]).columns)\n",
        "print(len(unchanged_columns) + len(numerical_columns) + len(categorical_columns))\n",
        "print(X_train.shape)"
      ],
      "metadata": {
        "colab": {
          "base_uri": "https://localhost:8080/"
        },
        "id": "fJW4e1Duo5xo",
        "outputId": "fa1dff1f-3017-463f-abd4-2a526139be0e"
      },
      "execution_count": 299,
      "outputs": [
        {
          "output_type": "stream",
          "name": "stdout",
          "text": [
            "42\n",
            "(46873, 42)\n"
          ]
        }
      ]
    },
    {
      "cell_type": "code",
      "source": [
        "# 設置前處理器並執行資料前處理\n",
        "preprocessor = ColumnTransformer(transformers=[\n",
        "    (\"passthrough\", \"passthrough\", unchanged_columns),\n",
        "     (\"numerical\", StandardScaler(), numerical_columns),\n",
        "      (\"categorical\", OneHotEncoder(sparse_output=False, handle_unknown='ignore'), categorical_columns)])\n",
        "X_train_preprocessed = preprocessor.fit_transform(X_train)\n",
        "X_test_preprocessed = preprocessor.transform(X_test)\n",
        "print(X_train.shape, X_test.shape)\n",
        "print(X_train_preprocessed.shape, X_test_preprocessed.shape)\n",
        "\n"
      ],
      "metadata": {
        "colab": {
          "base_uri": "https://localhost:8080/"
        },
        "id": "1Unrdv9ogp_7",
        "outputId": "f82475ab-0379-4a14-dddf-377a9f3d71fe"
      },
      "execution_count": 303,
      "outputs": [
        {
          "output_type": "stream",
          "name": "stdout",
          "text": [
            "(46873, 42) (11719, 42)\n",
            "(46873, 94) (11719, 94)\n"
          ]
        }
      ]
    },
    {
      "cell_type": "code",
      "source": [
        "# 取得 ohe 的編碼欄位名稱，並重整合成 dataframe\n",
        "cat_ohe_columns = preprocessor.named_transformers_[\"categorical\"].get_feature_names_out()\n",
        "all_column_names = unchanged_columns + numerical_columns + list(cat_ohe_columns)\n",
        "len(all_column_names)\n",
        "X_train_preprocessed_df = pd.DataFrame(X_train_preprocessed, columns=all_column_names)\n",
        "X_test_preprocessed_df = pd.DataFrame(X_test_preprocessed, columns=all_column_names)\n",
        "print(X_train_preprocessed_df.shape, X_test_preprocessed_df.shape)\n",
        "X_train_preprocessed_df.head(3)\n"
      ],
      "metadata": {
        "colab": {
          "base_uri": "https://localhost:8080/",
          "height": 245
        },
        "id": "8fysEm9BlQUE",
        "outputId": "776e0e8c-7465-43b6-d836-3399a325351c"
      },
      "execution_count": 307,
      "outputs": [
        {
          "output_type": "stream",
          "name": "stdout",
          "text": [
            "(46873, 94) (11719, 94)\n"
          ]
        },
        {
          "output_type": "execute_result",
          "data": {
            "text/plain": [
              "   policy_tenure  age_of_car  age_of_policyholder  is_esc  \\\n",
              "0       0.293321        0.18             0.471154     1.0   \n",
              "1       0.393585        0.09             0.336538     0.0   \n",
              "2       1.068827        0.03             0.605769     0.0   \n",
              "\n",
              "   is_adjustable_steering  is_tpms  is_parking_sensors  is_parking_camera  \\\n",
              "0                     1.0      0.0                 1.0                1.0   \n",
              "1                     0.0      0.0                 1.0                0.0   \n",
              "2                     1.0      0.0                 1.0                0.0   \n",
              "\n",
              "   is_front_fog_lights  is_rear_window_wiper  ...  \\\n",
              "0                  1.0                   0.0  ...   \n",
              "1                  0.0                   0.0  ...   \n",
              "2                  1.0                   0.0  ...   \n",
              "\n",
              "   engine_type_K Series Dual jet  engine_type_K10C  engine_type_i-DTEC  \\\n",
              "0                            0.0               0.0                 0.0   \n",
              "1                            0.0               1.0                 0.0   \n",
              "2                            1.0               0.0                 0.0   \n",
              "\n",
              "   rear_brakes_type_Disc  rear_brakes_type_Drum  transmission_type_Automatic  \\\n",
              "0                    0.0                    1.0                          1.0   \n",
              "1                    0.0                    1.0                          0.0   \n",
              "2                    0.0                    1.0                          0.0   \n",
              "\n",
              "   transmission_type_Manual  steering_type_Electric  steering_type_Manual  \\\n",
              "0                       0.0                     1.0                   0.0   \n",
              "1                       1.0                     0.0                   0.0   \n",
              "2                       1.0                     1.0                   0.0   \n",
              "\n",
              "   steering_type_Power  \n",
              "0                  0.0  \n",
              "1                  1.0  \n",
              "2                  0.0  \n",
              "\n",
              "[3 rows x 94 columns]"
            ],
            "text/html": [
              "\n",
              "  <div id=\"df-fa7ad88c-2052-4db0-969a-578f6cbf956d\" class=\"colab-df-container\">\n",
              "    <div>\n",
              "<style scoped>\n",
              "    .dataframe tbody tr th:only-of-type {\n",
              "        vertical-align: middle;\n",
              "    }\n",
              "\n",
              "    .dataframe tbody tr th {\n",
              "        vertical-align: top;\n",
              "    }\n",
              "\n",
              "    .dataframe thead th {\n",
              "        text-align: right;\n",
              "    }\n",
              "</style>\n",
              "<table border=\"1\" class=\"dataframe\">\n",
              "  <thead>\n",
              "    <tr style=\"text-align: right;\">\n",
              "      <th></th>\n",
              "      <th>policy_tenure</th>\n",
              "      <th>age_of_car</th>\n",
              "      <th>age_of_policyholder</th>\n",
              "      <th>is_esc</th>\n",
              "      <th>is_adjustable_steering</th>\n",
              "      <th>is_tpms</th>\n",
              "      <th>is_parking_sensors</th>\n",
              "      <th>is_parking_camera</th>\n",
              "      <th>is_front_fog_lights</th>\n",
              "      <th>is_rear_window_wiper</th>\n",
              "      <th>...</th>\n",
              "      <th>engine_type_K Series Dual jet</th>\n",
              "      <th>engine_type_K10C</th>\n",
              "      <th>engine_type_i-DTEC</th>\n",
              "      <th>rear_brakes_type_Disc</th>\n",
              "      <th>rear_brakes_type_Drum</th>\n",
              "      <th>transmission_type_Automatic</th>\n",
              "      <th>transmission_type_Manual</th>\n",
              "      <th>steering_type_Electric</th>\n",
              "      <th>steering_type_Manual</th>\n",
              "      <th>steering_type_Power</th>\n",
              "    </tr>\n",
              "  </thead>\n",
              "  <tbody>\n",
              "    <tr>\n",
              "      <th>0</th>\n",
              "      <td>0.293321</td>\n",
              "      <td>0.18</td>\n",
              "      <td>0.471154</td>\n",
              "      <td>1.0</td>\n",
              "      <td>1.0</td>\n",
              "      <td>0.0</td>\n",
              "      <td>1.0</td>\n",
              "      <td>1.0</td>\n",
              "      <td>1.0</td>\n",
              "      <td>0.0</td>\n",
              "      <td>...</td>\n",
              "      <td>0.0</td>\n",
              "      <td>0.0</td>\n",
              "      <td>0.0</td>\n",
              "      <td>0.0</td>\n",
              "      <td>1.0</td>\n",
              "      <td>1.0</td>\n",
              "      <td>0.0</td>\n",
              "      <td>1.0</td>\n",
              "      <td>0.0</td>\n",
              "      <td>0.0</td>\n",
              "    </tr>\n",
              "    <tr>\n",
              "      <th>1</th>\n",
              "      <td>0.393585</td>\n",
              "      <td>0.09</td>\n",
              "      <td>0.336538</td>\n",
              "      <td>0.0</td>\n",
              "      <td>0.0</td>\n",
              "      <td>0.0</td>\n",
              "      <td>1.0</td>\n",
              "      <td>0.0</td>\n",
              "      <td>0.0</td>\n",
              "      <td>0.0</td>\n",
              "      <td>...</td>\n",
              "      <td>0.0</td>\n",
              "      <td>1.0</td>\n",
              "      <td>0.0</td>\n",
              "      <td>0.0</td>\n",
              "      <td>1.0</td>\n",
              "      <td>0.0</td>\n",
              "      <td>1.0</td>\n",
              "      <td>0.0</td>\n",
              "      <td>0.0</td>\n",
              "      <td>1.0</td>\n",
              "    </tr>\n",
              "    <tr>\n",
              "      <th>2</th>\n",
              "      <td>1.068827</td>\n",
              "      <td>0.03</td>\n",
              "      <td>0.605769</td>\n",
              "      <td>0.0</td>\n",
              "      <td>1.0</td>\n",
              "      <td>0.0</td>\n",
              "      <td>1.0</td>\n",
              "      <td>0.0</td>\n",
              "      <td>1.0</td>\n",
              "      <td>0.0</td>\n",
              "      <td>...</td>\n",
              "      <td>1.0</td>\n",
              "      <td>0.0</td>\n",
              "      <td>0.0</td>\n",
              "      <td>0.0</td>\n",
              "      <td>1.0</td>\n",
              "      <td>0.0</td>\n",
              "      <td>1.0</td>\n",
              "      <td>1.0</td>\n",
              "      <td>0.0</td>\n",
              "      <td>0.0</td>\n",
              "    </tr>\n",
              "  </tbody>\n",
              "</table>\n",
              "<p>3 rows × 94 columns</p>\n",
              "</div>\n",
              "    <div class=\"colab-df-buttons\">\n",
              "\n",
              "  <div class=\"colab-df-container\">\n",
              "    <button class=\"colab-df-convert\" onclick=\"convertToInteractive('df-fa7ad88c-2052-4db0-969a-578f6cbf956d')\"\n",
              "            title=\"Convert this dataframe to an interactive table.\"\n",
              "            style=\"display:none;\">\n",
              "\n",
              "  <svg xmlns=\"http://www.w3.org/2000/svg\" height=\"24px\" viewBox=\"0 -960 960 960\">\n",
              "    <path d=\"M120-120v-720h720v720H120Zm60-500h600v-160H180v160Zm220 220h160v-160H400v160Zm0 220h160v-160H400v160ZM180-400h160v-160H180v160Zm440 0h160v-160H620v160ZM180-180h160v-160H180v160Zm440 0h160v-160H620v160Z\"/>\n",
              "  </svg>\n",
              "    </button>\n",
              "\n",
              "  <style>\n",
              "    .colab-df-container {\n",
              "      display:flex;\n",
              "      gap: 12px;\n",
              "    }\n",
              "\n",
              "    .colab-df-convert {\n",
              "      background-color: #E8F0FE;\n",
              "      border: none;\n",
              "      border-radius: 50%;\n",
              "      cursor: pointer;\n",
              "      display: none;\n",
              "      fill: #1967D2;\n",
              "      height: 32px;\n",
              "      padding: 0 0 0 0;\n",
              "      width: 32px;\n",
              "    }\n",
              "\n",
              "    .colab-df-convert:hover {\n",
              "      background-color: #E2EBFA;\n",
              "      box-shadow: 0px 1px 2px rgba(60, 64, 67, 0.3), 0px 1px 3px 1px rgba(60, 64, 67, 0.15);\n",
              "      fill: #174EA6;\n",
              "    }\n",
              "\n",
              "    .colab-df-buttons div {\n",
              "      margin-bottom: 4px;\n",
              "    }\n",
              "\n",
              "    [theme=dark] .colab-df-convert {\n",
              "      background-color: #3B4455;\n",
              "      fill: #D2E3FC;\n",
              "    }\n",
              "\n",
              "    [theme=dark] .colab-df-convert:hover {\n",
              "      background-color: #434B5C;\n",
              "      box-shadow: 0px 1px 3px 1px rgba(0, 0, 0, 0.15);\n",
              "      filter: drop-shadow(0px 1px 2px rgba(0, 0, 0, 0.3));\n",
              "      fill: #FFFFFF;\n",
              "    }\n",
              "  </style>\n",
              "\n",
              "    <script>\n",
              "      const buttonEl =\n",
              "        document.querySelector('#df-fa7ad88c-2052-4db0-969a-578f6cbf956d button.colab-df-convert');\n",
              "      buttonEl.style.display =\n",
              "        google.colab.kernel.accessAllowed ? 'block' : 'none';\n",
              "\n",
              "      async function convertToInteractive(key) {\n",
              "        const element = document.querySelector('#df-fa7ad88c-2052-4db0-969a-578f6cbf956d');\n",
              "        const dataTable =\n",
              "          await google.colab.kernel.invokeFunction('convertToInteractive',\n",
              "                                                    [key], {});\n",
              "        if (!dataTable) return;\n",
              "\n",
              "        const docLinkHtml = 'Like what you see? Visit the ' +\n",
              "          '<a target=\"_blank\" href=https://colab.research.google.com/notebooks/data_table.ipynb>data table notebook</a>'\n",
              "          + ' to learn more about interactive tables.';\n",
              "        element.innerHTML = '';\n",
              "        dataTable['output_type'] = 'display_data';\n",
              "        await google.colab.output.renderOutput(dataTable, element);\n",
              "        const docLink = document.createElement('div');\n",
              "        docLink.innerHTML = docLinkHtml;\n",
              "        element.appendChild(docLink);\n",
              "      }\n",
              "    </script>\n",
              "  </div>\n",
              "\n",
              "\n",
              "<div id=\"df-cecba2c1-09f8-43a1-b131-71cf79fef0a0\">\n",
              "  <button class=\"colab-df-quickchart\" onclick=\"quickchart('df-cecba2c1-09f8-43a1-b131-71cf79fef0a0')\"\n",
              "            title=\"Suggest charts\"\n",
              "            style=\"display:none;\">\n",
              "\n",
              "<svg xmlns=\"http://www.w3.org/2000/svg\" height=\"24px\"viewBox=\"0 0 24 24\"\n",
              "     width=\"24px\">\n",
              "    <g>\n",
              "        <path d=\"M19 3H5c-1.1 0-2 .9-2 2v14c0 1.1.9 2 2 2h14c1.1 0 2-.9 2-2V5c0-1.1-.9-2-2-2zM9 17H7v-7h2v7zm4 0h-2V7h2v10zm4 0h-2v-4h2v4z\"/>\n",
              "    </g>\n",
              "</svg>\n",
              "  </button>\n",
              "\n",
              "<style>\n",
              "  .colab-df-quickchart {\n",
              "      --bg-color: #E8F0FE;\n",
              "      --fill-color: #1967D2;\n",
              "      --hover-bg-color: #E2EBFA;\n",
              "      --hover-fill-color: #174EA6;\n",
              "      --disabled-fill-color: #AAA;\n",
              "      --disabled-bg-color: #DDD;\n",
              "  }\n",
              "\n",
              "  [theme=dark] .colab-df-quickchart {\n",
              "      --bg-color: #3B4455;\n",
              "      --fill-color: #D2E3FC;\n",
              "      --hover-bg-color: #434B5C;\n",
              "      --hover-fill-color: #FFFFFF;\n",
              "      --disabled-bg-color: #3B4455;\n",
              "      --disabled-fill-color: #666;\n",
              "  }\n",
              "\n",
              "  .colab-df-quickchart {\n",
              "    background-color: var(--bg-color);\n",
              "    border: none;\n",
              "    border-radius: 50%;\n",
              "    cursor: pointer;\n",
              "    display: none;\n",
              "    fill: var(--fill-color);\n",
              "    height: 32px;\n",
              "    padding: 0;\n",
              "    width: 32px;\n",
              "  }\n",
              "\n",
              "  .colab-df-quickchart:hover {\n",
              "    background-color: var(--hover-bg-color);\n",
              "    box-shadow: 0 1px 2px rgba(60, 64, 67, 0.3), 0 1px 3px 1px rgba(60, 64, 67, 0.15);\n",
              "    fill: var(--button-hover-fill-color);\n",
              "  }\n",
              "\n",
              "  .colab-df-quickchart-complete:disabled,\n",
              "  .colab-df-quickchart-complete:disabled:hover {\n",
              "    background-color: var(--disabled-bg-color);\n",
              "    fill: var(--disabled-fill-color);\n",
              "    box-shadow: none;\n",
              "  }\n",
              "\n",
              "  .colab-df-spinner {\n",
              "    border: 2px solid var(--fill-color);\n",
              "    border-color: transparent;\n",
              "    border-bottom-color: var(--fill-color);\n",
              "    animation:\n",
              "      spin 1s steps(1) infinite;\n",
              "  }\n",
              "\n",
              "  @keyframes spin {\n",
              "    0% {\n",
              "      border-color: transparent;\n",
              "      border-bottom-color: var(--fill-color);\n",
              "      border-left-color: var(--fill-color);\n",
              "    }\n",
              "    20% {\n",
              "      border-color: transparent;\n",
              "      border-left-color: var(--fill-color);\n",
              "      border-top-color: var(--fill-color);\n",
              "    }\n",
              "    30% {\n",
              "      border-color: transparent;\n",
              "      border-left-color: var(--fill-color);\n",
              "      border-top-color: var(--fill-color);\n",
              "      border-right-color: var(--fill-color);\n",
              "    }\n",
              "    40% {\n",
              "      border-color: transparent;\n",
              "      border-right-color: var(--fill-color);\n",
              "      border-top-color: var(--fill-color);\n",
              "    }\n",
              "    60% {\n",
              "      border-color: transparent;\n",
              "      border-right-color: var(--fill-color);\n",
              "    }\n",
              "    80% {\n",
              "      border-color: transparent;\n",
              "      border-right-color: var(--fill-color);\n",
              "      border-bottom-color: var(--fill-color);\n",
              "    }\n",
              "    90% {\n",
              "      border-color: transparent;\n",
              "      border-bottom-color: var(--fill-color);\n",
              "    }\n",
              "  }\n",
              "</style>\n",
              "\n",
              "  <script>\n",
              "    async function quickchart(key) {\n",
              "      const quickchartButtonEl =\n",
              "        document.querySelector('#' + key + ' button');\n",
              "      quickchartButtonEl.disabled = true;  // To prevent multiple clicks.\n",
              "      quickchartButtonEl.classList.add('colab-df-spinner');\n",
              "      try {\n",
              "        const charts = await google.colab.kernel.invokeFunction(\n",
              "            'suggestCharts', [key], {});\n",
              "      } catch (error) {\n",
              "        console.error('Error during call to suggestCharts:', error);\n",
              "      }\n",
              "      quickchartButtonEl.classList.remove('colab-df-spinner');\n",
              "      quickchartButtonEl.classList.add('colab-df-quickchart-complete');\n",
              "    }\n",
              "    (() => {\n",
              "      let quickchartButtonEl =\n",
              "        document.querySelector('#df-cecba2c1-09f8-43a1-b131-71cf79fef0a0 button');\n",
              "      quickchartButtonEl.style.display =\n",
              "        google.colab.kernel.accessAllowed ? 'block' : 'none';\n",
              "    })();\n",
              "  </script>\n",
              "</div>\n",
              "\n",
              "    </div>\n",
              "  </div>\n"
            ],
            "application/vnd.google.colaboratory.intrinsic+json": {
              "type": "dataframe",
              "variable_name": "X_train_preprocessed_df"
            }
          },
          "metadata": {},
          "execution_count": 307
        }
      ]
    },
    {
      "cell_type": "code",
      "source": [
        "# 預處理結束，開始訓練"
      ],
      "metadata": {
        "id": "yxJyHt2eyG9J"
      },
      "execution_count": null,
      "outputs": []
    },
    {
      "cell_type": "code",
      "source": [
        "model_dtc = DecisionTreeClassifier(max_depth=20, min_samples_leaf=20, class_weight=\"balanced\", random_state=42)\n",
        "model_dtc.fit(X_train_preprocessed_df, y_train)\n",
        "y_pred_dtc = model_dtc.predict(X_test_preprocessed_df)"
      ],
      "metadata": {
        "id": "zVaLFsm4qYXg"
      },
      "execution_count": 308,
      "outputs": []
    },
    {
      "cell_type": "code",
      "source": [
        "print(f\"accuracy: {accuracy_score(y_test, y_pred_dtc)}\")\n",
        "print(classification_report(y_test, y_pred_dtc))\n",
        "print(f\"最大深度: {model_dtc.tree_.max_depth}, 節點總數: {model_dtc.tree_.node_count}\")\n",
        "print(f\"類別標籤: {model_dtc.classes_}, 類別數量: {model_dtc.n_classes_}\")\n"
      ],
      "metadata": {
        "colab": {
          "base_uri": "https://localhost:8080/"
        },
        "id": "YNDer_61n1HO",
        "outputId": "a862935d-be67-44e1-8fa8-fae5caed8258"
      },
      "execution_count": 309,
      "outputs": [
        {
          "output_type": "stream",
          "name": "stdout",
          "text": [
            "accuracy: 0.6185681372130728\n",
            "              precision    recall  f1-score   support\n",
            "\n",
            "           0       0.95      0.63      0.76     10969\n",
            "           1       0.08      0.48      0.14       750\n",
            "\n",
            "    accuracy                           0.62     11719\n",
            "   macro avg       0.51      0.55      0.45     11719\n",
            "weighted avg       0.89      0.62      0.72     11719\n",
            "\n",
            "最大深度: 20, 節點總數: 2477\n",
            "類別標籤: [0 1], 類別數量: 2\n"
          ]
        }
      ]
    },
    {
      "cell_type": "code",
      "source": [
        "model_rfc = RandomForestClassifier(n_estimators=100, max_depth=None, min_samples_leaf=10, class_weight=\"balanced\", random_state=42)\n",
        "model_rfc.fit(X_train_preprocessed_df, y_train)\n",
        "y_pred_rfc = model_rfc.predict(X_test_preprocessed_df)"
      ],
      "metadata": {
        "id": "RJhH1uisn2Pv"
      },
      "execution_count": 310,
      "outputs": []
    },
    {
      "cell_type": "code",
      "source": [
        "print(f\"accuracy: {accuracy_score(y_test, y_pred_rfc)}\")\n",
        "print(classification_report(y_test, y_pred_rfc))\n",
        "print(f\"樹數量: {len(model_rfc.estimators_)}\")\n"
      ],
      "metadata": {
        "colab": {
          "base_uri": "https://localhost:8080/"
        },
        "id": "5hHyIN9qn2NS",
        "outputId": "643eeee8-0162-4dae-b9c0-4f739f82498d"
      },
      "execution_count": 311,
      "outputs": [
        {
          "output_type": "stream",
          "name": "stdout",
          "text": [
            "accuracy: 0.8162812526666098\n",
            "              precision    recall  f1-score   support\n",
            "\n",
            "           0       0.95      0.85      0.90     10969\n",
            "           1       0.11      0.28      0.16       750\n",
            "\n",
            "    accuracy                           0.82     11719\n",
            "   macro avg       0.53      0.56      0.53     11719\n",
            "weighted avg       0.89      0.82      0.85     11719\n",
            "\n",
            "樹數量: 100\n"
          ]
        }
      ]
    },
    {
      "cell_type": "code",
      "source": [],
      "metadata": {
        "id": "fP9wq-CU0nCB"
      },
      "execution_count": null,
      "outputs": []
    },
    {
      "cell_type": "code",
      "source": [
        "# 以下是分割數據集後，對訓練組做 smote"
      ],
      "metadata": {
        "id": "igkjB-vB0l6f"
      },
      "execution_count": null,
      "outputs": []
    },
    {
      "cell_type": "code",
      "source": [
        "# SMOTE 之前的類別分佈\n",
        "print(\"SMOTE 之前類別分佈:\", Counter(y_train))\n",
        "# 使用 SMOTE 進行過採樣\n",
        "smote = SMOTE(random_state=42)\n",
        "X_train_smote, y_train_smote = smote.fit_resample(X_train_preprocessed_df, y_train)\n",
        "# SMOTE 之後的類別分佈\n",
        "print(\"SMOTE 之後類別分佈:\", Counter(y_train_smote))\n",
        "print(X_train_smote.shape)\n",
        "print(y_train_smote.shape)"
      ],
      "metadata": {
        "colab": {
          "base_uri": "https://localhost:8080/"
        },
        "id": "oZy6nAmy0l4J",
        "outputId": "4aa2baf8-ef2f-480a-a118-d546b5f5d282"
      },
      "execution_count": 312,
      "outputs": [
        {
          "output_type": "stream",
          "name": "stdout",
          "text": [
            "SMOTE 之前類別分佈: Counter({0: 43875, 1: 2998})\n",
            "SMOTE 之後類別分佈: Counter({0: 43875, 1: 43875})\n",
            "(87750, 94)\n",
            "(87750,)\n"
          ]
        }
      ]
    },
    {
      "cell_type": "code",
      "source": [
        "model_smote_dtc = DecisionTreeClassifier(max_depth=None, min_samples_leaf=20, class_weight=None, random_state=42)\n",
        "model_smote_dtc.fit(X_train_smote, y_train_smote)\n",
        "y_pred_smote_dtc = model_smote_dtc.predict(X_test_preprocessed_df)"
      ],
      "metadata": {
        "id": "zzkFDcoY0l1f"
      },
      "execution_count": 313,
      "outputs": []
    },
    {
      "cell_type": "code",
      "source": [
        "print(f\"accuracy: {accuracy_score(y_test, y_pred_smote_dtc)}\")\n",
        "print(classification_report(y_test, y_pred_smote_dtc))\n",
        "print(f\"最大深度: {model_smote_dtc.tree_.max_depth}, 節點總數: {model_smote_dtc.tree_.node_count}\")\n",
        "print(f\"類別標籤: {model_smote_dtc.classes_}, 類別數量: {model_smote_dtc.n_classes_}\")\n"
      ],
      "metadata": {
        "colab": {
          "base_uri": "https://localhost:8080/"
        },
        "id": "cfuxL_1b0lzB",
        "outputId": "db19e512-10fd-46aa-b648-6eaf1e56da0f"
      },
      "execution_count": 314,
      "outputs": [
        {
          "output_type": "stream",
          "name": "stdout",
          "text": [
            "accuracy: 0.8887277071422476\n",
            "              precision    recall  f1-score   support\n",
            "\n",
            "           0       0.94      0.94      0.94     10969\n",
            "           1       0.09      0.08      0.09       750\n",
            "\n",
            "    accuracy                           0.89     11719\n",
            "   macro avg       0.51      0.51      0.51     11719\n",
            "weighted avg       0.88      0.89      0.89     11719\n",
            "\n",
            "最大深度: 37, 節點總數: 3397\n",
            "類別標籤: [0 1], 類別數量: 2\n"
          ]
        }
      ]
    },
    {
      "cell_type": "code",
      "source": [
        "model_smote_rfc = RandomForestClassifier(n_estimators=100, max_depth=None, min_samples_leaf=20, class_weight=None, random_state=42)\n",
        "model_smote_rfc.fit(X_train_smote, y_train_smote)\n",
        "y_pred_smote_rfc = model_smote_rfc.predict(X_test_preprocessed_df)"
      ],
      "metadata": {
        "id": "e9q-3wGN0lwX"
      },
      "execution_count": 315,
      "outputs": []
    },
    {
      "cell_type": "code",
      "source": [
        "print(f\"accuracy: {accuracy_score(y_test, y_pred_smote_rfc)}\")\n",
        "print(classification_report(y_test, y_pred_smote_rfc))\n",
        "print(f\"樹數量: {len(model_rfc.estimators_)}\")\n"
      ],
      "metadata": {
        "colab": {
          "base_uri": "https://localhost:8080/"
        },
        "id": "8p2v562M0lt3",
        "outputId": "ec6c9718-220b-4257-efc2-3c87b821b10d"
      },
      "execution_count": 316,
      "outputs": [
        {
          "output_type": "stream",
          "name": "stdout",
          "text": [
            "accuracy: 0.7242938817305231\n",
            "              precision    recall  f1-score   support\n",
            "\n",
            "           0       0.95      0.75      0.84     10969\n",
            "           1       0.10      0.40      0.16       750\n",
            "\n",
            "    accuracy                           0.72     11719\n",
            "   macro avg       0.52      0.58      0.50     11719\n",
            "weighted avg       0.89      0.72      0.79     11719\n",
            "\n",
            "樹數量: 100\n"
          ]
        }
      ]
    },
    {
      "cell_type": "code",
      "source": [],
      "metadata": {
        "id": "3iz2Ssll0llz"
      },
      "execution_count": null,
      "outputs": []
    },
    {
      "cell_type": "code",
      "source": [
        "# 取重要特徵欄位重新訓練"
      ],
      "metadata": {
        "id": "KHekjJeo0WNB"
      },
      "execution_count": null,
      "outputs": []
    },
    {
      "cell_type": "code",
      "source": [
        "# model_select = model_dtc\n",
        "# model_select = model_rfc\n",
        "model_select = model_smote_dtc\n",
        "# model_select = model_smote_rfc\n",
        "\n",
        "feature_importance = model_select.feature_importances_\n",
        "sorted_index = np.argsort(feature_importance)[::-1]\n",
        "sorted_feature_names = X_train_smote.columns[sorted_index]\n",
        "sorted_feature_importance = feature_importance[sorted_index]\n",
        "print(sorted_feature_importance.shape, sorted_feature_names.shape)\n",
        "important_features = []\n",
        "threshold = 0.01\n",
        "for i, j in zip(sorted_feature_names, sorted_feature_importance):\n",
        "  if j >= threshold:\n",
        "    print(f\"{i}: {j}\")\n",
        "    important_features.append(i)\n",
        "display(important_features)"
      ],
      "metadata": {
        "colab": {
          "base_uri": "https://localhost:8080/",
          "height": 208
        },
        "id": "Yr7EnHMfscYK",
        "outputId": "136b2a01-1e2d-4c80-a007-b420a520576f"
      },
      "execution_count": 335,
      "outputs": [
        {
          "output_type": "stream",
          "name": "stdout",
          "text": [
            "(94,) (94,)\n",
            "age_of_car: 0.7885804466481362\n",
            "policy_tenure: 0.08834290002671184\n",
            "age_of_policyholder: 0.04759295243776581\n",
            "length: 0.011190805350179111\n",
            "population_density: 0.01065069577492912\n"
          ]
        },
        {
          "output_type": "display_data",
          "data": {
            "text/plain": [
              "['age_of_car',\n",
              " 'policy_tenure',\n",
              " 'age_of_policyholder',\n",
              " 'length',\n",
              " 'population_density']"
            ]
          },
          "metadata": {}
        }
      ]
    },
    {
      "cell_type": "code",
      "source": [
        "X_train_important = X_train_smote[important_features]\n",
        "X_test_important = X_test_preprocessed_df[important_features]\n",
        "print(X_train_important.shape, X_test_important.shape)\n"
      ],
      "metadata": {
        "id": "D2kbcA3g5QRl",
        "colab": {
          "base_uri": "https://localhost:8080/"
        },
        "outputId": "0dbd9f38-35c3-4e50-c316-7a2bc173e6fe"
      },
      "execution_count": 336,
      "outputs": [
        {
          "output_type": "stream",
          "name": "stdout",
          "text": [
            "(87750, 5) (11719, 5)\n"
          ]
        }
      ]
    },
    {
      "cell_type": "code",
      "source": [
        "model_important_dtc = DecisionTreeClassifier(max_depth=None, min_samples_leaf=20, class_weight=None, random_state=42)\n",
        "model_important_dtc.fit(X_train_important, y_train_smote)\n",
        "y_pred_important_dtc = model_important_dtc.predict(X_test_important)"
      ],
      "metadata": {
        "id": "01-so7rAscWB"
      },
      "execution_count": 337,
      "outputs": []
    },
    {
      "cell_type": "code",
      "source": [
        "print(f\"accuracy: {accuracy_score(y_test, y_pred_important_dtc)}\")\n",
        "print(classification_report(y_test, y_pred_important_dtc))\n",
        "print(f\"最大深度: {model_important_dtc.tree_.max_depth}, 節點總數: {model_important_dtc.tree_.node_count}\")\n",
        "print(f\"類別標籤: {model_important_dtc.classes_}, 類別數量: {model_important_dtc.n_classes_}\")"
      ],
      "metadata": {
        "colab": {
          "base_uri": "https://localhost:8080/"
        },
        "id": "OT5xzVbCscTT",
        "outputId": "b5ada88d-6059-4bf3-8df1-77c8f11cef98"
      },
      "execution_count": 338,
      "outputs": [
        {
          "output_type": "stream",
          "name": "stdout",
          "text": [
            "accuracy: 0.887362402935404\n",
            "              precision    recall  f1-score   support\n",
            "\n",
            "           0       0.94      0.94      0.94     10969\n",
            "           1       0.09      0.09      0.09       750\n",
            "\n",
            "    accuracy                           0.89     11719\n",
            "   macro avg       0.51      0.51      0.51     11719\n",
            "weighted avg       0.88      0.89      0.89     11719\n",
            "\n",
            "最大深度: 37, 節點總數: 3483\n",
            "類別標籤: [0 1], 類別數量: 2\n"
          ]
        }
      ]
    },
    {
      "cell_type": "code",
      "source": [],
      "metadata": {
        "id": "5Lr_-5yXW82-"
      },
      "execution_count": null,
      "outputs": []
    },
    {
      "cell_type": "code",
      "source": [],
      "metadata": {
        "id": "GnInFetcscQH"
      },
      "execution_count": null,
      "outputs": []
    },
    {
      "cell_type": "code",
      "source": [
        "model_important_rfc = RandomForestClassifier(n_estimators=100, max_depth=None, min_samples_leaf=20, class_weight=None, random_state=42)\n",
        "model_important_rfc.fit(X_train_important, y_train_smote)\n",
        "y_pred_important_rfc = model_important_rfc.predict(X_test_important)"
      ],
      "metadata": {
        "id": "0GclprC6n2IN"
      },
      "execution_count": 334,
      "outputs": []
    },
    {
      "cell_type": "code",
      "source": [
        "print(f\"accuracy: {accuracy_score(y_test, y_pred_important_rfc)}\")\n",
        "print(classification_report(y_test, y_pred_important_rfc))\n",
        "print(f\"樹數量: {len(model_important_rfc.estimators_)}\")\n"
      ],
      "metadata": {
        "id": "2sleop5Lr9tz",
        "colab": {
          "base_uri": "https://localhost:8080/"
        },
        "outputId": "1969c606-bf31-4282-9f7c-b153d783988e"
      },
      "execution_count": 327,
      "outputs": [
        {
          "output_type": "stream",
          "name": "stdout",
          "text": [
            "accuracy: 0.9059646727536479\n",
            "              precision    recall  f1-score   support\n",
            "\n",
            "           0       0.94      0.96      0.95     10969\n",
            "           1       0.10      0.06      0.07       750\n",
            "\n",
            "    accuracy                           0.91     11719\n",
            "   macro avg       0.52      0.51      0.51     11719\n",
            "weighted avg       0.88      0.91      0.89     11719\n",
            "\n",
            "樹數量: 100\n"
          ]
        }
      ]
    },
    {
      "cell_type": "code",
      "source": [],
      "metadata": {
        "id": "Ox9m37-kr9qz"
      },
      "execution_count": null,
      "outputs": []
    },
    {
      "cell_type": "code",
      "source": [],
      "metadata": {
        "id": "tqKRAJstr9lo"
      },
      "execution_count": null,
      "outputs": []
    },
    {
      "cell_type": "code",
      "source": [],
      "metadata": {
        "id": "mj2LUsUDn2Fe"
      },
      "execution_count": null,
      "outputs": []
    },
    {
      "cell_type": "code",
      "source": [],
      "metadata": {
        "id": "nkemxvcfn2C0"
      },
      "execution_count": null,
      "outputs": []
    },
    {
      "cell_type": "code",
      "source": [],
      "metadata": {
        "id": "FzFEJU5Wn19k"
      },
      "execution_count": null,
      "outputs": []
    },
    {
      "cell_type": "code",
      "source": [],
      "metadata": {
        "id": "CppTfkTHn12x"
      },
      "execution_count": null,
      "outputs": []
    },
    {
      "cell_type": "code",
      "source": [],
      "metadata": {
        "id": "xXbh1i6qrmk4"
      },
      "execution_count": null,
      "outputs": []
    },
    {
      "cell_type": "code",
      "source": [],
      "metadata": {
        "id": "MdvBb_XqrmiV"
      },
      "execution_count": null,
      "outputs": []
    },
    {
      "cell_type": "code",
      "source": [],
      "metadata": {
        "id": "8256Jrr4rmgN"
      },
      "execution_count": null,
      "outputs": []
    },
    {
      "cell_type": "code",
      "source": [],
      "metadata": {
        "id": "Hp8n2vzPrmdJ"
      },
      "execution_count": null,
      "outputs": []
    }
  ]
}