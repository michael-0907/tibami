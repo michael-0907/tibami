{
  "nbformat": 4,
  "nbformat_minor": 0,
  "metadata": {
    "colab": {
      "provenance": [],
      "authorship_tag": "ABX9TyN3elUX58/VQqjqn2GMPxMx",
      "include_colab_link": true
    },
    "kernelspec": {
      "name": "python3",
      "display_name": "Python 3"
    },
    "language_info": {
      "name": "python"
    }
  },
  "cells": [
    {
      "cell_type": "markdown",
      "metadata": {
        "id": "view-in-github",
        "colab_type": "text"
      },
      "source": [
        "<a href=\"https://colab.research.google.com/github/michael-0907/tibami/blob/main/kaggle_car_insurance_4.ipynb\" target=\"_parent\"><img src=\"https://colab.research.google.com/assets/colab-badge.svg\" alt=\"Open In Colab\"/></a>"
      ]
    },
    {
      "cell_type": "code",
      "execution_count": 65,
      "metadata": {
        "id": "BjOQHaUQmymP"
      },
      "outputs": [],
      "source": [
        "import numpy as np\n",
        "import pandas as pd\n",
        "import matplotlib.pyplot as plt\n",
        "import seaborn as sns\n",
        "from sklearn.model_selection import train_test_split\n",
        "from sklearn.tree import DecisionTreeClassifier\n",
        "from sklearn.ensemble import RandomForestClassifier\n",
        "from sklearn.preprocessing import StandardScaler, OneHotEncoder\n",
        "from sklearn.metrics import accuracy_score, classification_report\n",
        "from sklearn.neural_network import MLPClassifier\n",
        "from collections import Counter\n",
        "from sklearn.pipeline import Pipeline\n",
        "from sklearn.compose import ColumnTransformer\n",
        "\n",
        "from imblearn.over_sampling import SMOTE\n",
        "\n"
      ]
    },
    {
      "cell_type": "code",
      "source": [
        "data = pd.read_csv(\"/content/sample_data/train.csv\", encoding=\"utf-8\")\n",
        "data.shape"
      ],
      "metadata": {
        "id": "POeTLGZEm-J0",
        "colab": {
          "base_uri": "https://localhost:8080/"
        },
        "outputId": "536b2f83-916c-45c2-ca5f-66f6b7e71f5c"
      },
      "execution_count": 66,
      "outputs": [
        {
          "output_type": "execute_result",
          "data": {
            "text/plain": [
              "(58592, 44)"
            ]
          },
          "metadata": {},
          "execution_count": 66
        }
      ]
    },
    {
      "cell_type": "code",
      "source": [
        "# 統計目標變數的分佈\n",
        "print(data[\"is_claim\"].value_counts())\n",
        "print(data[\"is_claim\"].value_counts(normalize=True))"
      ],
      "metadata": {
        "colab": {
          "base_uri": "https://localhost:8080/"
        },
        "id": "jhleQYcyRBf5",
        "outputId": "46a3bd98-d0d9-4817-ccef-4308a9decc48",
        "collapsed": true
      },
      "execution_count": 67,
      "outputs": [
        {
          "output_type": "stream",
          "name": "stdout",
          "text": [
            "is_claim\n",
            "0    54844\n",
            "1     3748\n",
            "Name: count, dtype: int64\n",
            "is_claim\n",
            "0    0.936032\n",
            "1    0.063968\n",
            "Name: proportion, dtype: float64\n"
          ]
        }
      ]
    },
    {
      "cell_type": "code",
      "source": [
        "# 刪除不必要的欄位\n",
        "data = data.drop(columns=[\"policy_id\"])\n",
        "data.shape"
      ],
      "metadata": {
        "id": "ZRdzzc3wnNMj",
        "colab": {
          "base_uri": "https://localhost:8080/"
        },
        "outputId": "a7aca312-ce3b-41c9-a5fa-e51477ba771f"
      },
      "execution_count": 68,
      "outputs": [
        {
          "output_type": "execute_result",
          "data": {
            "text/plain": [
              "(58592, 43)"
            ]
          },
          "metadata": {},
          "execution_count": 68
        }
      ]
    },
    {
      "cell_type": "code",
      "source": [
        "# 提取並轉換 max_torque, max_power 欄位\n",
        "def torque_transform(torque):\n",
        "  torque = float(torque.lower().split(\"n\")[0])\n",
        "  return torque\n",
        "data[\"max_torque\"] = data[\"max_torque\"].apply(torque_transform)\n",
        "\n",
        "def power_transform(power):\n",
        "  power = float(power.lower().split(\"b\")[0])\n",
        "  return power\n",
        "data[\"max_power\"] = data[\"max_power\"].apply(power_transform)\n",
        "\n"
      ],
      "metadata": {
        "id": "Y1pVSZ-OnJuP"
      },
      "execution_count": 69,
      "outputs": []
    },
    {
      "cell_type": "code",
      "source": [
        "# 對二元欄位進行編碼\n",
        "for col in data.columns:\n",
        "  if (data[col].dtype == \"object\") & (data[col].nunique() == 2) & (\"is_\" in col):\n",
        "    data[col] = data[col].map({\"Yes\": 1, \"No\": 0})"
      ],
      "metadata": {
        "id": "AFcAc4t9nfgQ"
      },
      "execution_count": 70,
      "outputs": []
    },
    {
      "cell_type": "code",
      "source": [
        "# 提取特徵變數、目標變數\n",
        "X = data.drop(columns=[\"is_claim\"])\n",
        "y = data[\"is_claim\"]"
      ],
      "metadata": {
        "id": "sa3Q-6fznh8L"
      },
      "execution_count": 71,
      "outputs": []
    },
    {
      "cell_type": "code",
      "source": [
        "# 數據分割成訓練組、測試組\n",
        "X_train, X_test, y_train, y_test = train_test_split(X, y, test_size=0.2, random_state=42, shuffle=True ,stratify=y)\n",
        "print(X_train.shape, X_test.shape)\n",
        "print(y_train.shape, y_test.shape)\n",
        "print(Counter(y_train))\n",
        "print(Counter(y_test))"
      ],
      "metadata": {
        "colab": {
          "base_uri": "https://localhost:8080/"
        },
        "id": "DvahPvaTnu2x",
        "outputId": "3712fdd7-d6bb-4c0a-eee8-34cf52a2820f"
      },
      "execution_count": 72,
      "outputs": [
        {
          "output_type": "stream",
          "name": "stdout",
          "text": [
            "(46873, 42) (11719, 42)\n",
            "(46873,) (11719,)\n",
            "Counter({0: 43875, 1: 2998})\n",
            "Counter({0: 10969, 1: 750})\n"
          ]
        }
      ]
    },
    {
      "cell_type": "code",
      "source": [
        "\n",
        "for i, col in enumerate(X_train.columns):\n",
        "  if X_train[col].dtype != \"object\":\n",
        "    print(f\"no: {i}, col_name: {col}, dtype: {X_train[col].dtype}, nunique: {X_train[col].nunique()}\")\n",
        "    print(X_train[col].unique())\n",
        "    print(\"-\" * 30)\n"
      ],
      "metadata": {
        "id": "6Hy1KJkWn6ud",
        "collapsed": true
      },
      "execution_count": null,
      "outputs": []
    },
    {
      "cell_type": "code",
      "source": [
        "# 將特徵欄位做分類\n",
        "unchanged_columns = [\"policy_tenure\", \"age_of_car\", \"age_of_policyholder\", 'is_esc', 'is_adjustable_steering', 'is_tpms',\n",
        "            'is_parking_sensors', 'is_parking_camera', 'is_front_fog_lights', 'is_rear_window_wiper', 'is_rear_window_washer',\n",
        "            'is_rear_window_defogger', 'is_brake_assist', 'is_power_door_locks', 'is_central_locking', 'is_power_steering',\n",
        "            'is_driver_seat_height_adjustable', 'is_day_night_rear_view_mirror', 'is_ecw', 'is_speed_alert']\n",
        "numerical_columns = [\"population_density\", \"make\", \"max_torque\", \"max_power\", \"airbags\", \"displacement\", 'cylinder',\n",
        "            'gear_box', 'turning_radius', 'length', 'width', 'height', 'gross_weight', \"ncap_rating\"]\n",
        "categorical_columns = list(X_train.select_dtypes(include=[\"object\"]).columns)\n",
        "print(len(unchanged_columns) + len(numerical_columns) + len(categorical_columns))\n",
        "print(X_train.shape)"
      ],
      "metadata": {
        "colab": {
          "base_uri": "https://localhost:8080/"
        },
        "id": "fJW4e1Duo5xo",
        "outputId": "221dd51b-ddcc-4f57-930f-6fd1164aeaa0"
      },
      "execution_count": 73,
      "outputs": [
        {
          "output_type": "stream",
          "name": "stdout",
          "text": [
            "42\n",
            "(46873, 42)\n"
          ]
        }
      ]
    },
    {
      "cell_type": "code",
      "source": [
        "# 設置前處理器並執行資料前處理\n",
        "preprocessor = ColumnTransformer(transformers=[\n",
        "    (\"passthrough\", \"passthrough\", unchanged_columns),\n",
        "     (\"numerical\", StandardScaler(), numerical_columns),\n",
        "      (\"categorical\", OneHotEncoder(sparse_output=False, handle_unknown='ignore'), categorical_columns)])\n",
        "X_train_preprocessed = preprocessor.fit_transform(X_train)\n",
        "X_test_preprocessed = preprocessor.transform(X_test)\n",
        "print(X_train.shape, X_test.shape)\n",
        "print(X_train_preprocessed.shape, X_test_preprocessed.shape)\n",
        "\n"
      ],
      "metadata": {
        "colab": {
          "base_uri": "https://localhost:8080/"
        },
        "id": "1Unrdv9ogp_7",
        "outputId": "604200fe-a94e-40c3-dd2c-dcb7ab8871a8"
      },
      "execution_count": 74,
      "outputs": [
        {
          "output_type": "stream",
          "name": "stdout",
          "text": [
            "(46873, 42) (11719, 42)\n",
            "(46873, 94) (11719, 94)\n"
          ]
        }
      ]
    },
    {
      "cell_type": "code",
      "source": [
        "# 取得 ohe 的編碼欄位名稱，並重整合成 dataframe\n",
        "cat_ohe_columns = preprocessor.named_transformers_[\"categorical\"].get_feature_names_out()\n",
        "all_column_names = unchanged_columns + numerical_columns + list(cat_ohe_columns)\n",
        "len(all_column_names)\n",
        "X_train_preprocessed_df = pd.DataFrame(X_train_preprocessed, columns=all_column_names)\n",
        "X_test_preprocessed_df = pd.DataFrame(X_test_preprocessed, columns=all_column_names)\n",
        "print(X_train_preprocessed_df.shape, X_test_preprocessed_df.shape)\n",
        "X_train_preprocessed_df.head(3)\n"
      ],
      "metadata": {
        "colab": {
          "base_uri": "https://localhost:8080/",
          "height": 245
        },
        "id": "8fysEm9BlQUE",
        "outputId": "69878f21-dc83-4cca-9894-2e18c731dcc6"
      },
      "execution_count": 75,
      "outputs": [
        {
          "output_type": "stream",
          "name": "stdout",
          "text": [
            "(46873, 94) (11719, 94)\n"
          ]
        },
        {
          "output_type": "execute_result",
          "data": {
            "text/plain": [
              "   policy_tenure  age_of_car  age_of_policyholder  is_esc  \\\n",
              "0       0.293321        0.18             0.471154     1.0   \n",
              "1       0.393585        0.09             0.336538     0.0   \n",
              "2       1.068827        0.03             0.605769     0.0   \n",
              "\n",
              "   is_adjustable_steering  is_tpms  is_parking_sensors  is_parking_camera  \\\n",
              "0                     1.0      0.0                 1.0                1.0   \n",
              "1                     0.0      0.0                 1.0                0.0   \n",
              "2                     1.0      0.0                 1.0                0.0   \n",
              "\n",
              "   is_front_fog_lights  is_rear_window_wiper  ...  \\\n",
              "0                  1.0                   0.0  ...   \n",
              "1                  0.0                   0.0  ...   \n",
              "2                  1.0                   0.0  ...   \n",
              "\n",
              "   engine_type_K Series Dual jet  engine_type_K10C  engine_type_i-DTEC  \\\n",
              "0                            0.0               0.0                 0.0   \n",
              "1                            0.0               1.0                 0.0   \n",
              "2                            1.0               0.0                 0.0   \n",
              "\n",
              "   rear_brakes_type_Disc  rear_brakes_type_Drum  transmission_type_Automatic  \\\n",
              "0                    0.0                    1.0                          1.0   \n",
              "1                    0.0                    1.0                          0.0   \n",
              "2                    0.0                    1.0                          0.0   \n",
              "\n",
              "   transmission_type_Manual  steering_type_Electric  steering_type_Manual  \\\n",
              "0                       0.0                     1.0                   0.0   \n",
              "1                       1.0                     0.0                   0.0   \n",
              "2                       1.0                     1.0                   0.0   \n",
              "\n",
              "   steering_type_Power  \n",
              "0                  0.0  \n",
              "1                  1.0  \n",
              "2                  0.0  \n",
              "\n",
              "[3 rows x 94 columns]"
            ],
            "text/html": [
              "\n",
              "  <div id=\"df-93e481e3-b372-4720-b67f-859a494d322f\" class=\"colab-df-container\">\n",
              "    <div>\n",
              "<style scoped>\n",
              "    .dataframe tbody tr th:only-of-type {\n",
              "        vertical-align: middle;\n",
              "    }\n",
              "\n",
              "    .dataframe tbody tr th {\n",
              "        vertical-align: top;\n",
              "    }\n",
              "\n",
              "    .dataframe thead th {\n",
              "        text-align: right;\n",
              "    }\n",
              "</style>\n",
              "<table border=\"1\" class=\"dataframe\">\n",
              "  <thead>\n",
              "    <tr style=\"text-align: right;\">\n",
              "      <th></th>\n",
              "      <th>policy_tenure</th>\n",
              "      <th>age_of_car</th>\n",
              "      <th>age_of_policyholder</th>\n",
              "      <th>is_esc</th>\n",
              "      <th>is_adjustable_steering</th>\n",
              "      <th>is_tpms</th>\n",
              "      <th>is_parking_sensors</th>\n",
              "      <th>is_parking_camera</th>\n",
              "      <th>is_front_fog_lights</th>\n",
              "      <th>is_rear_window_wiper</th>\n",
              "      <th>...</th>\n",
              "      <th>engine_type_K Series Dual jet</th>\n",
              "      <th>engine_type_K10C</th>\n",
              "      <th>engine_type_i-DTEC</th>\n",
              "      <th>rear_brakes_type_Disc</th>\n",
              "      <th>rear_brakes_type_Drum</th>\n",
              "      <th>transmission_type_Automatic</th>\n",
              "      <th>transmission_type_Manual</th>\n",
              "      <th>steering_type_Electric</th>\n",
              "      <th>steering_type_Manual</th>\n",
              "      <th>steering_type_Power</th>\n",
              "    </tr>\n",
              "  </thead>\n",
              "  <tbody>\n",
              "    <tr>\n",
              "      <th>0</th>\n",
              "      <td>0.293321</td>\n",
              "      <td>0.18</td>\n",
              "      <td>0.471154</td>\n",
              "      <td>1.0</td>\n",
              "      <td>1.0</td>\n",
              "      <td>0.0</td>\n",
              "      <td>1.0</td>\n",
              "      <td>1.0</td>\n",
              "      <td>1.0</td>\n",
              "      <td>0.0</td>\n",
              "      <td>...</td>\n",
              "      <td>0.0</td>\n",
              "      <td>0.0</td>\n",
              "      <td>0.0</td>\n",
              "      <td>0.0</td>\n",
              "      <td>1.0</td>\n",
              "      <td>1.0</td>\n",
              "      <td>0.0</td>\n",
              "      <td>1.0</td>\n",
              "      <td>0.0</td>\n",
              "      <td>0.0</td>\n",
              "    </tr>\n",
              "    <tr>\n",
              "      <th>1</th>\n",
              "      <td>0.393585</td>\n",
              "      <td>0.09</td>\n",
              "      <td>0.336538</td>\n",
              "      <td>0.0</td>\n",
              "      <td>0.0</td>\n",
              "      <td>0.0</td>\n",
              "      <td>1.0</td>\n",
              "      <td>0.0</td>\n",
              "      <td>0.0</td>\n",
              "      <td>0.0</td>\n",
              "      <td>...</td>\n",
              "      <td>0.0</td>\n",
              "      <td>1.0</td>\n",
              "      <td>0.0</td>\n",
              "      <td>0.0</td>\n",
              "      <td>1.0</td>\n",
              "      <td>0.0</td>\n",
              "      <td>1.0</td>\n",
              "      <td>0.0</td>\n",
              "      <td>0.0</td>\n",
              "      <td>1.0</td>\n",
              "    </tr>\n",
              "    <tr>\n",
              "      <th>2</th>\n",
              "      <td>1.068827</td>\n",
              "      <td>0.03</td>\n",
              "      <td>0.605769</td>\n",
              "      <td>0.0</td>\n",
              "      <td>1.0</td>\n",
              "      <td>0.0</td>\n",
              "      <td>1.0</td>\n",
              "      <td>0.0</td>\n",
              "      <td>1.0</td>\n",
              "      <td>0.0</td>\n",
              "      <td>...</td>\n",
              "      <td>1.0</td>\n",
              "      <td>0.0</td>\n",
              "      <td>0.0</td>\n",
              "      <td>0.0</td>\n",
              "      <td>1.0</td>\n",
              "      <td>0.0</td>\n",
              "      <td>1.0</td>\n",
              "      <td>1.0</td>\n",
              "      <td>0.0</td>\n",
              "      <td>0.0</td>\n",
              "    </tr>\n",
              "  </tbody>\n",
              "</table>\n",
              "<p>3 rows × 94 columns</p>\n",
              "</div>\n",
              "    <div class=\"colab-df-buttons\">\n",
              "\n",
              "  <div class=\"colab-df-container\">\n",
              "    <button class=\"colab-df-convert\" onclick=\"convertToInteractive('df-93e481e3-b372-4720-b67f-859a494d322f')\"\n",
              "            title=\"Convert this dataframe to an interactive table.\"\n",
              "            style=\"display:none;\">\n",
              "\n",
              "  <svg xmlns=\"http://www.w3.org/2000/svg\" height=\"24px\" viewBox=\"0 -960 960 960\">\n",
              "    <path d=\"M120-120v-720h720v720H120Zm60-500h600v-160H180v160Zm220 220h160v-160H400v160Zm0 220h160v-160H400v160ZM180-400h160v-160H180v160Zm440 0h160v-160H620v160ZM180-180h160v-160H180v160Zm440 0h160v-160H620v160Z\"/>\n",
              "  </svg>\n",
              "    </button>\n",
              "\n",
              "  <style>\n",
              "    .colab-df-container {\n",
              "      display:flex;\n",
              "      gap: 12px;\n",
              "    }\n",
              "\n",
              "    .colab-df-convert {\n",
              "      background-color: #E8F0FE;\n",
              "      border: none;\n",
              "      border-radius: 50%;\n",
              "      cursor: pointer;\n",
              "      display: none;\n",
              "      fill: #1967D2;\n",
              "      height: 32px;\n",
              "      padding: 0 0 0 0;\n",
              "      width: 32px;\n",
              "    }\n",
              "\n",
              "    .colab-df-convert:hover {\n",
              "      background-color: #E2EBFA;\n",
              "      box-shadow: 0px 1px 2px rgba(60, 64, 67, 0.3), 0px 1px 3px 1px rgba(60, 64, 67, 0.15);\n",
              "      fill: #174EA6;\n",
              "    }\n",
              "\n",
              "    .colab-df-buttons div {\n",
              "      margin-bottom: 4px;\n",
              "    }\n",
              "\n",
              "    [theme=dark] .colab-df-convert {\n",
              "      background-color: #3B4455;\n",
              "      fill: #D2E3FC;\n",
              "    }\n",
              "\n",
              "    [theme=dark] .colab-df-convert:hover {\n",
              "      background-color: #434B5C;\n",
              "      box-shadow: 0px 1px 3px 1px rgba(0, 0, 0, 0.15);\n",
              "      filter: drop-shadow(0px 1px 2px rgba(0, 0, 0, 0.3));\n",
              "      fill: #FFFFFF;\n",
              "    }\n",
              "  </style>\n",
              "\n",
              "    <script>\n",
              "      const buttonEl =\n",
              "        document.querySelector('#df-93e481e3-b372-4720-b67f-859a494d322f button.colab-df-convert');\n",
              "      buttonEl.style.display =\n",
              "        google.colab.kernel.accessAllowed ? 'block' : 'none';\n",
              "\n",
              "      async function convertToInteractive(key) {\n",
              "        const element = document.querySelector('#df-93e481e3-b372-4720-b67f-859a494d322f');\n",
              "        const dataTable =\n",
              "          await google.colab.kernel.invokeFunction('convertToInteractive',\n",
              "                                                    [key], {});\n",
              "        if (!dataTable) return;\n",
              "\n",
              "        const docLinkHtml = 'Like what you see? Visit the ' +\n",
              "          '<a target=\"_blank\" href=https://colab.research.google.com/notebooks/data_table.ipynb>data table notebook</a>'\n",
              "          + ' to learn more about interactive tables.';\n",
              "        element.innerHTML = '';\n",
              "        dataTable['output_type'] = 'display_data';\n",
              "        await google.colab.output.renderOutput(dataTable, element);\n",
              "        const docLink = document.createElement('div');\n",
              "        docLink.innerHTML = docLinkHtml;\n",
              "        element.appendChild(docLink);\n",
              "      }\n",
              "    </script>\n",
              "  </div>\n",
              "\n",
              "\n",
              "<div id=\"df-dd46e458-dab2-4f71-b006-b4c27009b7db\">\n",
              "  <button class=\"colab-df-quickchart\" onclick=\"quickchart('df-dd46e458-dab2-4f71-b006-b4c27009b7db')\"\n",
              "            title=\"Suggest charts\"\n",
              "            style=\"display:none;\">\n",
              "\n",
              "<svg xmlns=\"http://www.w3.org/2000/svg\" height=\"24px\"viewBox=\"0 0 24 24\"\n",
              "     width=\"24px\">\n",
              "    <g>\n",
              "        <path d=\"M19 3H5c-1.1 0-2 .9-2 2v14c0 1.1.9 2 2 2h14c1.1 0 2-.9 2-2V5c0-1.1-.9-2-2-2zM9 17H7v-7h2v7zm4 0h-2V7h2v10zm4 0h-2v-4h2v4z\"/>\n",
              "    </g>\n",
              "</svg>\n",
              "  </button>\n",
              "\n",
              "<style>\n",
              "  .colab-df-quickchart {\n",
              "      --bg-color: #E8F0FE;\n",
              "      --fill-color: #1967D2;\n",
              "      --hover-bg-color: #E2EBFA;\n",
              "      --hover-fill-color: #174EA6;\n",
              "      --disabled-fill-color: #AAA;\n",
              "      --disabled-bg-color: #DDD;\n",
              "  }\n",
              "\n",
              "  [theme=dark] .colab-df-quickchart {\n",
              "      --bg-color: #3B4455;\n",
              "      --fill-color: #D2E3FC;\n",
              "      --hover-bg-color: #434B5C;\n",
              "      --hover-fill-color: #FFFFFF;\n",
              "      --disabled-bg-color: #3B4455;\n",
              "      --disabled-fill-color: #666;\n",
              "  }\n",
              "\n",
              "  .colab-df-quickchart {\n",
              "    background-color: var(--bg-color);\n",
              "    border: none;\n",
              "    border-radius: 50%;\n",
              "    cursor: pointer;\n",
              "    display: none;\n",
              "    fill: var(--fill-color);\n",
              "    height: 32px;\n",
              "    padding: 0;\n",
              "    width: 32px;\n",
              "  }\n",
              "\n",
              "  .colab-df-quickchart:hover {\n",
              "    background-color: var(--hover-bg-color);\n",
              "    box-shadow: 0 1px 2px rgba(60, 64, 67, 0.3), 0 1px 3px 1px rgba(60, 64, 67, 0.15);\n",
              "    fill: var(--button-hover-fill-color);\n",
              "  }\n",
              "\n",
              "  .colab-df-quickchart-complete:disabled,\n",
              "  .colab-df-quickchart-complete:disabled:hover {\n",
              "    background-color: var(--disabled-bg-color);\n",
              "    fill: var(--disabled-fill-color);\n",
              "    box-shadow: none;\n",
              "  }\n",
              "\n",
              "  .colab-df-spinner {\n",
              "    border: 2px solid var(--fill-color);\n",
              "    border-color: transparent;\n",
              "    border-bottom-color: var(--fill-color);\n",
              "    animation:\n",
              "      spin 1s steps(1) infinite;\n",
              "  }\n",
              "\n",
              "  @keyframes spin {\n",
              "    0% {\n",
              "      border-color: transparent;\n",
              "      border-bottom-color: var(--fill-color);\n",
              "      border-left-color: var(--fill-color);\n",
              "    }\n",
              "    20% {\n",
              "      border-color: transparent;\n",
              "      border-left-color: var(--fill-color);\n",
              "      border-top-color: var(--fill-color);\n",
              "    }\n",
              "    30% {\n",
              "      border-color: transparent;\n",
              "      border-left-color: var(--fill-color);\n",
              "      border-top-color: var(--fill-color);\n",
              "      border-right-color: var(--fill-color);\n",
              "    }\n",
              "    40% {\n",
              "      border-color: transparent;\n",
              "      border-right-color: var(--fill-color);\n",
              "      border-top-color: var(--fill-color);\n",
              "    }\n",
              "    60% {\n",
              "      border-color: transparent;\n",
              "      border-right-color: var(--fill-color);\n",
              "    }\n",
              "    80% {\n",
              "      border-color: transparent;\n",
              "      border-right-color: var(--fill-color);\n",
              "      border-bottom-color: var(--fill-color);\n",
              "    }\n",
              "    90% {\n",
              "      border-color: transparent;\n",
              "      border-bottom-color: var(--fill-color);\n",
              "    }\n",
              "  }\n",
              "</style>\n",
              "\n",
              "  <script>\n",
              "    async function quickchart(key) {\n",
              "      const quickchartButtonEl =\n",
              "        document.querySelector('#' + key + ' button');\n",
              "      quickchartButtonEl.disabled = true;  // To prevent multiple clicks.\n",
              "      quickchartButtonEl.classList.add('colab-df-spinner');\n",
              "      try {\n",
              "        const charts = await google.colab.kernel.invokeFunction(\n",
              "            'suggestCharts', [key], {});\n",
              "      } catch (error) {\n",
              "        console.error('Error during call to suggestCharts:', error);\n",
              "      }\n",
              "      quickchartButtonEl.classList.remove('colab-df-spinner');\n",
              "      quickchartButtonEl.classList.add('colab-df-quickchart-complete');\n",
              "    }\n",
              "    (() => {\n",
              "      let quickchartButtonEl =\n",
              "        document.querySelector('#df-dd46e458-dab2-4f71-b006-b4c27009b7db button');\n",
              "      quickchartButtonEl.style.display =\n",
              "        google.colab.kernel.accessAllowed ? 'block' : 'none';\n",
              "    })();\n",
              "  </script>\n",
              "</div>\n",
              "\n",
              "    </div>\n",
              "  </div>\n"
            ],
            "application/vnd.google.colaboratory.intrinsic+json": {
              "type": "dataframe",
              "variable_name": "X_train_preprocessed_df"
            }
          },
          "metadata": {},
          "execution_count": 75
        }
      ]
    },
    {
      "cell_type": "code",
      "source": [
        "# 預處理結束，開始訓練"
      ],
      "metadata": {
        "id": "yxJyHt2eyG9J"
      },
      "execution_count": null,
      "outputs": []
    },
    {
      "cell_type": "code",
      "source": [
        "# 用決策樹訓練模型\n",
        "model_dtc = DecisionTreeClassifier(max_depth=20, min_samples_leaf=5, class_weight={0: 1, 1:10}, random_state=42)\n",
        "model_dtc.fit(X_train_preprocessed_df, y_train)\n",
        "print(f\"最大深度: {model_dtc.tree_.max_depth}, 節點總數: {model_dtc.tree_.node_count}\")\n",
        "print(f\"類別標籤: {model_dtc.classes_}, 類別數量: {model_dtc.n_classes_}\")"
      ],
      "metadata": {
        "id": "zVaLFsm4qYXg",
        "colab": {
          "base_uri": "https://localhost:8080/"
        },
        "outputId": "fcf8a55b-df1f-40fc-cf79-3353c4343e89"
      },
      "execution_count": 116,
      "outputs": [
        {
          "output_type": "stream",
          "name": "stdout",
          "text": [
            "最大深度: 20, 節點總數: 4255\n",
            "類別標籤: [0 1], 類別數量: 2\n"
          ]
        }
      ]
    },
    {
      "cell_type": "code",
      "source": [
        "# 計算訓練組的預測結果\n",
        "y_train_pred_dtc = model_dtc.predict(X_train_preprocessed_df)\n",
        "train_acc_dtc = accuracy_score(y_train, y_train_pred_dtc)\n",
        "train_report_dtc = classification_report(y_train, y_train_pred_dtc)\n",
        "\n",
        "# 計算測試組的預測結果\n",
        "y_test_pred_dtc = model_dtc.predict(X_test_preprocessed_df)\n",
        "test_acc_dtc = accuracy_score(y_test, y_test_pred_dtc)\n",
        "test_report_dtc = classification_report(y_test, y_test_pred_dtc)\n",
        "\n",
        "# 顯示結果\n",
        "print(f\"Train Accuracy: {train_acc_dtc:.4f}\")\n",
        "print(f\"Test Accuracy: {test_acc_dtc:.4f}\")\n",
        "print(\"Train Classification Report:\\n\", train_report_dtc)\n",
        "print(\"Test Classification Report:\\n\", test_report_dtc)"
      ],
      "metadata": {
        "colab": {
          "base_uri": "https://localhost:8080/"
        },
        "id": "xetjj3epRUIY",
        "outputId": "241893d9-784e-476b-9b5a-0fba70b60426"
      },
      "execution_count": 117,
      "outputs": [
        {
          "output_type": "stream",
          "name": "stdout",
          "text": [
            "Train Accuracy: 0.8005\n",
            "Test Accuracy: 0.7193\n",
            "Train Classification Report:\n",
            "               precision    recall  f1-score   support\n",
            "\n",
            "           0       0.99      0.79      0.88     43875\n",
            "           1       0.23      0.92      0.37      2998\n",
            "\n",
            "    accuracy                           0.80     46873\n",
            "   macro avg       0.61      0.86      0.63     46873\n",
            "weighted avg       0.94      0.80      0.85     46873\n",
            "\n",
            "Test Classification Report:\n",
            "               precision    recall  f1-score   support\n",
            "\n",
            "           0       0.94      0.75      0.83     10969\n",
            "           1       0.08      0.31      0.13       750\n",
            "\n",
            "    accuracy                           0.72     11719\n",
            "   macro avg       0.51      0.53      0.48     11719\n",
            "weighted avg       0.89      0.72      0.79     11719\n",
            "\n"
          ]
        }
      ]
    },
    {
      "cell_type": "code",
      "source": [],
      "metadata": {
        "id": "0MYPVOYYUpUf"
      },
      "execution_count": null,
      "outputs": []
    },
    {
      "cell_type": "code",
      "source": [
        "# 用隨機森林訓練模型\n",
        "model_rfc = RandomForestClassifier(n_estimators=100, max_depth=10, min_samples_leaf=10, class_weight={0: 1, 1: 10}, random_state=42)\n",
        "# model_rfc.fit(X_train_preprocessed_df, y_train)\n",
        "model_rfc.fit(X_train_preprocessed_df[fil], y_train)\n",
        "fil = ['policy_tenure', 'age_of_car', 'age_of_policyholder', 'population_density',]\n",
        "\n",
        "print(f\"樹數量: {len(model_rfc.estimators_)}\")"
      ],
      "metadata": {
        "id": "RJhH1uisn2Pv",
        "colab": {
          "base_uri": "https://localhost:8080/"
        },
        "outputId": "d0ed471b-8689-4f02-d284-1387d2a31393"
      },
      "execution_count": 108,
      "outputs": [
        {
          "output_type": "stream",
          "name": "stdout",
          "text": [
            "樹數量: 100\n"
          ]
        }
      ]
    },
    {
      "cell_type": "code",
      "source": [
        "# 計算訓練組的預測結果\n",
        "# y_train_pred_rfc = model_dtc.predict(X_train_preprocessed_df)\n",
        "y_train_pred_rfc = model_dtc.predict(X_train_preprocessed_df[fil])\n",
        "\n",
        "train_acc_rfc = accuracy_score(y_train, y_train_pred_rfc)\n",
        "train_report_rfc = classification_report(y_train, y_train_pred_rfc)\n",
        "\n",
        "# 計算測試組的預測結果\n",
        "# y_test_pred_rfc = model_dtc.predict(X_test_preprocessed_df)\n",
        "y_test_pred_rfc = model_dtc.predict(X_test_preprocessed_df[fil])\n",
        "\n",
        "test_acc_rfc = accuracy_score(y_test, y_test_pred_rfc)\n",
        "test_report_rfc = classification_report(y_test, y_test_pred_rfc)\n",
        "\n",
        "# 顯示結果\n",
        "print(f\"Train Accuracy: {train_acc_rfc:.4f}\")\n",
        "print(f\"Test Accuracy: {test_acc_rfc:.4f}\")\n",
        "print(\"Train Classification Report:\\n\", train_report_rfc)\n",
        "print(\"Test Classification Report:\\n\", test_report_rfc)"
      ],
      "metadata": {
        "colab": {
          "base_uri": "https://localhost:8080/"
        },
        "id": "kWrvOKN7VfOP",
        "outputId": "c83100d1-a4a8-4d5c-9c74-afd343505609"
      },
      "execution_count": 109,
      "outputs": [
        {
          "output_type": "stream",
          "name": "stdout",
          "text": [
            "Train Accuracy: 0.8027\n",
            "Test Accuracy: 0.7286\n",
            "Train Classification Report:\n",
            "               precision    recall  f1-score   support\n",
            "\n",
            "           0       0.99      0.80      0.88     43875\n",
            "           1       0.23      0.89      0.37      2998\n",
            "\n",
            "    accuracy                           0.80     46873\n",
            "   macro avg       0.61      0.84      0.62     46873\n",
            "weighted avg       0.94      0.80      0.85     46873\n",
            "\n",
            "Test Classification Report:\n",
            "               precision    recall  f1-score   support\n",
            "\n",
            "           0       0.94      0.76      0.84     10969\n",
            "           1       0.08      0.29      0.12       750\n",
            "\n",
            "    accuracy                           0.73     11719\n",
            "   macro avg       0.51      0.52      0.48     11719\n",
            "weighted avg       0.88      0.73      0.79     11719\n",
            "\n"
          ]
        }
      ]
    },
    {
      "cell_type": "code",
      "source": [],
      "metadata": {
        "id": "fP9wq-CU0nCB"
      },
      "execution_count": null,
      "outputs": []
    },
    {
      "cell_type": "code",
      "source": [
        "# 以下是分割數據集後，對訓練組做 smote"
      ],
      "metadata": {
        "id": "igkjB-vB0l6f"
      },
      "execution_count": null,
      "outputs": []
    },
    {
      "cell_type": "code",
      "source": [
        "# SMOTE 之前的類別分佈\n",
        "print(\"SMOTE 之前類別分佈:\", Counter(y_train))\n",
        "# 使用 SMOTE 進行過採樣\n",
        "smote = SMOTE(sampling_strategy=0.3, random_state=42)\n",
        "X_train_smote, y_train_smote = smote.fit_resample(X_train_preprocessed_df, y_train)\n",
        "# SMOTE 之後的類別分佈\n",
        "print(\"SMOTE 之後類別分佈:\", Counter(y_train_smote))\n",
        "print(X_train_smote.shape)\n",
        "print(y_train_smote.shape)"
      ],
      "metadata": {
        "colab": {
          "base_uri": "https://localhost:8080/"
        },
        "id": "oZy6nAmy0l4J",
        "outputId": "660c0b6c-4b0c-4d70-c3f5-eec5c13b1325"
      },
      "execution_count": 17,
      "outputs": [
        {
          "output_type": "stream",
          "name": "stdout",
          "text": [
            "SMOTE 之前類別分佈: Counter({0: 43875, 1: 2998})\n",
            "SMOTE 之後類別分佈: Counter({0: 43875, 1: 13162})\n",
            "(57037, 94)\n",
            "(57037,)\n"
          ]
        }
      ]
    },
    {
      "cell_type": "code",
      "source": [
        "model_smote_dtc = DecisionTreeClassifier(max_depth=5, min_samples_leaf=50, class_weight=\"balanced\", random_state=42)\n",
        "model_smote_dtc.fit(X_train_smote, y_train_smote)\n",
        "y_pred_smote_dtc = model_smote_dtc.predict(X_test_preprocessed_df)"
      ],
      "metadata": {
        "id": "zzkFDcoY0l1f"
      },
      "execution_count": 18,
      "outputs": []
    },
    {
      "cell_type": "code",
      "source": [
        "print(f\"accuracy: {accuracy_score(y_test, y_pred_smote_dtc)}\")\n",
        "print(classification_report(y_test, y_pred_smote_dtc))\n",
        "print(f\"最大深度: {model_smote_dtc.tree_.max_depth}, 節點總數: {model_smote_dtc.tree_.node_count}\")\n",
        "print(f\"類別標籤: {model_smote_dtc.classes_}, 類別數量: {model_smote_dtc.n_classes_}\")\n"
      ],
      "metadata": {
        "colab": {
          "base_uri": "https://localhost:8080/"
        },
        "id": "cfuxL_1b0lzB",
        "outputId": "7cbcafd2-4655-4d3b-bf4e-8609e1513bc1"
      },
      "execution_count": 19,
      "outputs": [
        {
          "output_type": "stream",
          "name": "stdout",
          "text": [
            "accuracy: 0.5826435702705008\n",
            "              precision    recall  f1-score   support\n",
            "\n",
            "           0       0.95      0.58      0.72     10969\n",
            "           1       0.08      0.56      0.15       750\n",
            "\n",
            "    accuracy                           0.58     11719\n",
            "   macro avg       0.52      0.57      0.44     11719\n",
            "weighted avg       0.90      0.58      0.69     11719\n",
            "\n",
            "最大深度: 5, 節點總數: 59\n",
            "類別標籤: [0 1], 類別數量: 2\n"
          ]
        }
      ]
    },
    {
      "cell_type": "code",
      "source": [
        "model_smote_rfc = RandomForestClassifier(n_estimators=50, max_depth=5, min_samples_leaf=5, max_features=\"sqrt\", class_weight=\"balanced\", random_state=42)\n",
        "model_smote_rfc.fit(X_train_smote, y_train_smote)\n",
        "y_pred_smote_rfc = model_smote_rfc.predict(X_test_preprocessed_df)"
      ],
      "metadata": {
        "id": "e9q-3wGN0lwX"
      },
      "execution_count": 20,
      "outputs": []
    },
    {
      "cell_type": "code",
      "source": [
        "print(f\"accuracy: {accuracy_score(y_test, y_pred_smote_rfc)}\")\n",
        "print(classification_report(y_test, y_pred_smote_rfc))\n",
        "print(f\"樹數量: {len(model_rfc.estimators_)}\")\n"
      ],
      "metadata": {
        "colab": {
          "base_uri": "https://localhost:8080/"
        },
        "id": "8p2v562M0lt3",
        "outputId": "090e3c1d-9c15-4bf8-f5b7-95d78e0b7b7c"
      },
      "execution_count": 21,
      "outputs": [
        {
          "output_type": "stream",
          "name": "stdout",
          "text": [
            "accuracy: 0.5877634610461644\n",
            "              precision    recall  f1-score   support\n",
            "\n",
            "           0       0.96      0.58      0.73     10969\n",
            "           1       0.09      0.63      0.16       750\n",
            "\n",
            "    accuracy                           0.59     11719\n",
            "   macro avg       0.53      0.61      0.45     11719\n",
            "weighted avg       0.90      0.59      0.69     11719\n",
            "\n",
            "樹數量: 50\n"
          ]
        }
      ]
    },
    {
      "cell_type": "code",
      "source": [],
      "metadata": {
        "id": "3iz2Ssll0llz"
      },
      "execution_count": null,
      "outputs": []
    },
    {
      "cell_type": "code",
      "source": [
        "# 取重要特徵欄位重新訓練"
      ],
      "metadata": {
        "id": "KHekjJeo0WNB"
      },
      "execution_count": null,
      "outputs": []
    },
    {
      "cell_type": "code",
      "source": [
        "# model_select = model_dtc\n",
        "# model_select = model_rfc\n",
        "# model_select = model_smote_dtc\n",
        "model_select = model_smote_rfc\n",
        "\n",
        "feature_importance = model_select.feature_importances_\n",
        "sorted_index = np.argsort(feature_importance)[::-1]\n",
        "sorted_feature_names = X_train_smote.columns[sorted_index]\n",
        "sorted_feature_importance = feature_importance[sorted_index]\n",
        "print(sorted_feature_importance.shape, sorted_feature_names.shape)\n",
        "important_features = []\n",
        "threshold = 0.001\n",
        "for i, j in zip(sorted_feature_names, sorted_feature_importance):\n",
        "  if j >= threshold:\n",
        "    print(f\"{i}: {j}\")\n",
        "    important_features.append(i)\n",
        "display(important_features)"
      ],
      "metadata": {
        "colab": {
          "base_uri": "https://localhost:8080/",
          "height": 1000
        },
        "id": "Yr7EnHMfscYK",
        "outputId": "1a0c51a5-3078-4ae3-92dd-04f1216d98f4"
      },
      "execution_count": 22,
      "outputs": [
        {
          "output_type": "stream",
          "name": "stdout",
          "text": [
            "(94,) (94,)\n",
            "policy_tenure: 0.2907425442068121\n",
            "age_of_car: 0.2717363775812463\n",
            "age_of_policyholder: 0.09872627326165705\n",
            "population_density: 0.03815402950106605\n",
            "area_cluster_C10: 0.027932058400188278\n",
            "area_cluster_C17: 0.026165518620180083\n",
            "max_power: 0.014043556139207125\n",
            "area_cluster_C3: 0.013705683071015384\n",
            "area_cluster_C12: 0.011781028974037048\n",
            "length: 0.010913151126238875\n",
            "area_cluster_C15: 0.010856883864770576\n",
            "height: 0.009874606698944053\n",
            "area_cluster_C16: 0.009817923954025684\n",
            "width: 0.009128271792031458\n",
            "displacement: 0.008883723676857143\n",
            "area_cluster_C7: 0.008609106883792232\n",
            "area_cluster_C9: 0.007992410691736196\n",
            "is_adjustable_steering: 0.007477692791201224\n",
            "segment_B2: 0.0074292197650376954\n",
            "engine_type_F8D Petrol Engine: 0.006699862605921855\n",
            "gross_weight: 0.00578285435166556\n",
            "max_torque: 0.005612027460309586\n",
            "ncap_rating: 0.005248547205997884\n",
            "turning_radius: 0.005025340076054302\n",
            "area_cluster_C8: 0.004340493183685569\n",
            "area_cluster_C19: 0.004111923452792223\n",
            "model_M1: 0.003919045100639477\n",
            "cylinder: 0.0038368117436718323\n",
            "fuel_type_CNG: 0.0036894699934650554\n",
            "is_power_door_locks: 0.0033031439468617263\n",
            "make: 0.0031659012776681077\n",
            "area_cluster_C18: 0.003114088112713215\n",
            "steering_type_Electric: 0.0030361222623488918\n",
            "is_central_locking: 0.0029687305363058428\n",
            "area_cluster_C5: 0.0028131223797078385\n",
            "area_cluster_C2: 0.0025428150074678873\n",
            "area_cluster_C1: 0.002215885505506358\n",
            "area_cluster_C20: 0.002196463719633677\n",
            "is_brake_assist: 0.0020076474101124266\n",
            "area_cluster_C11: 0.0020061477809755843\n",
            "airbags: 0.0019833042293319913\n",
            "segment_A: 0.0018363400116163174\n",
            "model_M6: 0.0017863284737506633\n",
            "segment_B1: 0.0017666154862295848\n",
            "engine_type_K10C: 0.0017030108068743584\n",
            "model_M8: 0.0015504074193535351\n",
            "transmission_type_Manual: 0.0015357237703306627\n",
            "is_front_fog_lights: 0.0015157986432676623\n",
            "is_rear_window_defogger: 0.0014126143627909466\n",
            "area_cluster_C6: 0.001395195474570037\n",
            "steering_type_Power: 0.0013480456629134578\n",
            "transmission_type_Automatic: 0.0011826110421208457\n",
            "area_cluster_C14: 0.0010647432972189397\n"
          ]
        },
        {
          "output_type": "display_data",
          "data": {
            "text/plain": [
              "['policy_tenure',\n",
              " 'age_of_car',\n",
              " 'age_of_policyholder',\n",
              " 'population_density',\n",
              " 'area_cluster_C10',\n",
              " 'area_cluster_C17',\n",
              " 'max_power',\n",
              " 'area_cluster_C3',\n",
              " 'area_cluster_C12',\n",
              " 'length',\n",
              " 'area_cluster_C15',\n",
              " 'height',\n",
              " 'area_cluster_C16',\n",
              " 'width',\n",
              " 'displacement',\n",
              " 'area_cluster_C7',\n",
              " 'area_cluster_C9',\n",
              " 'is_adjustable_steering',\n",
              " 'segment_B2',\n",
              " 'engine_type_F8D Petrol Engine',\n",
              " 'gross_weight',\n",
              " 'max_torque',\n",
              " 'ncap_rating',\n",
              " 'turning_radius',\n",
              " 'area_cluster_C8',\n",
              " 'area_cluster_C19',\n",
              " 'model_M1',\n",
              " 'cylinder',\n",
              " 'fuel_type_CNG',\n",
              " 'is_power_door_locks',\n",
              " 'make',\n",
              " 'area_cluster_C18',\n",
              " 'steering_type_Electric',\n",
              " 'is_central_locking',\n",
              " 'area_cluster_C5',\n",
              " 'area_cluster_C2',\n",
              " 'area_cluster_C1',\n",
              " 'area_cluster_C20',\n",
              " 'is_brake_assist',\n",
              " 'area_cluster_C11',\n",
              " 'airbags',\n",
              " 'segment_A',\n",
              " 'model_M6',\n",
              " 'segment_B1',\n",
              " 'engine_type_K10C',\n",
              " 'model_M8',\n",
              " 'transmission_type_Manual',\n",
              " 'is_front_fog_lights',\n",
              " 'is_rear_window_defogger',\n",
              " 'area_cluster_C6',\n",
              " 'steering_type_Power',\n",
              " 'transmission_type_Automatic',\n",
              " 'area_cluster_C14']"
            ]
          },
          "metadata": {}
        }
      ]
    },
    {
      "cell_type": "code",
      "source": [
        "X_train_important = X_train_smote[important_features]\n",
        "X_test_important = X_test_preprocessed_df[important_features]\n",
        "print(X_train_important.shape, X_test_important.shape)\n",
        "\n",
        "# X_train_important = X_train_smote[[\"age_of_car\"]]\n",
        "# X_test_important = X_test_preprocessed_df[[\"age_of_car\"]]"
      ],
      "metadata": {
        "id": "D2kbcA3g5QRl",
        "colab": {
          "base_uri": "https://localhost:8080/"
        },
        "outputId": "d82a6554-e488-48b0-971f-16a6fab53a3b"
      },
      "execution_count": 23,
      "outputs": [
        {
          "output_type": "stream",
          "name": "stdout",
          "text": [
            "(57037, 53) (11719, 53)\n"
          ]
        }
      ]
    },
    {
      "cell_type": "code",
      "source": [
        "model_important_dtc = DecisionTreeClassifier(max_depth=5, min_samples_leaf=20, class_weight=\"balanced\", random_state=42)\n",
        "model_important_dtc.fit(X_train_important, y_train_smote)\n",
        "y_pred_important_dtc = model_important_dtc.predict(X_test_important)"
      ],
      "metadata": {
        "id": "01-so7rAscWB"
      },
      "execution_count": 24,
      "outputs": []
    },
    {
      "cell_type": "code",
      "source": [
        "print(f\"accuracy: {accuracy_score(y_test, y_pred_important_dtc)}\")\n",
        "print(classification_report(y_test, y_pred_important_dtc))\n",
        "print(f\"最大深度: {model_important_dtc.tree_.max_depth}, 節點總數: {model_important_dtc.tree_.node_count}\")\n",
        "print(f\"類別標籤: {model_important_dtc.classes_}, 類別數量: {model_important_dtc.n_classes_}\")"
      ],
      "metadata": {
        "colab": {
          "base_uri": "https://localhost:8080/"
        },
        "id": "OT5xzVbCscTT",
        "outputId": "e03d8fcb-29a7-41d9-f98a-9859f200c904"
      },
      "execution_count": 25,
      "outputs": [
        {
          "output_type": "stream",
          "name": "stdout",
          "text": [
            "accuracy: 0.58230224421879\n",
            "              precision    recall  f1-score   support\n",
            "\n",
            "           0       0.95      0.58      0.72     10969\n",
            "           1       0.08      0.56      0.15       750\n",
            "\n",
            "    accuracy                           0.58     11719\n",
            "   macro avg       0.52      0.57      0.43     11719\n",
            "weighted avg       0.90      0.58      0.69     11719\n",
            "\n",
            "最大深度: 5, 節點總數: 57\n",
            "類別標籤: [0 1], 類別數量: 2\n"
          ]
        }
      ]
    },
    {
      "cell_type": "code",
      "source": [],
      "metadata": {
        "id": "5Lr_-5yXW82-"
      },
      "execution_count": null,
      "outputs": []
    },
    {
      "cell_type": "code",
      "source": [],
      "metadata": {
        "id": "GnInFetcscQH"
      },
      "execution_count": null,
      "outputs": []
    },
    {
      "cell_type": "code",
      "source": [
        "model_important_rfc = RandomForestClassifier(n_estimators=50, max_depth=5, min_samples_leaf=5, max_features=\"sqrt\", class_weight=\"balanced_subsample\", random_state=42)\n",
        "model_important_rfc.fit(X_train_important, y_train_smote)\n",
        "y_pred_important_rfc = model_important_rfc.predict(X_test_important)\n",
        "y_prob_important_rfc = model_important_rfc.predict_proba(X_test_important)[:, 1]\n"
      ],
      "metadata": {
        "id": "0GclprC6n2IN"
      },
      "execution_count": null,
      "outputs": []
    },
    {
      "cell_type": "code",
      "source": [
        "y_pred_important_rfc"
      ],
      "metadata": {
        "colab": {
          "base_uri": "https://localhost:8080/"
        },
        "id": "y8c45T94Vjbf",
        "outputId": "27cf6689-00b2-4d3c-97fa-0bb005681a7f"
      },
      "execution_count": null,
      "outputs": [
        {
          "output_type": "execute_result",
          "data": {
            "text/plain": [
              "array([1, 0, 0, ..., 0, 1, 1])"
            ]
          },
          "metadata": {},
          "execution_count": 38
        }
      ]
    },
    {
      "cell_type": "code",
      "source": [
        "y_prob_important_rfc"
      ],
      "metadata": {
        "colab": {
          "base_uri": "https://localhost:8080/"
        },
        "id": "Noc94Q7MVIoQ",
        "outputId": "553d5522-f1f8-40a2-ad10-e765c0e4091e"
      },
      "execution_count": null,
      "outputs": [
        {
          "output_type": "execute_result",
          "data": {
            "text/plain": [
              "array([[0.46229278, 0.53770722],\n",
              "       [0.58638651, 0.41361349],\n",
              "       [0.56380609, 0.43619391],\n",
              "       ...,\n",
              "       [0.61032147, 0.38967853],\n",
              "       [0.43865995, 0.56134005],\n",
              "       [0.42834665, 0.57165335]])"
            ]
          },
          "metadata": {},
          "execution_count": 37
        }
      ]
    },
    {
      "cell_type": "code",
      "source": [
        "print(f\"accuracy: {accuracy_score(y_test, y_pred_important_rfc)}\")\n",
        "print(classification_report(y_test, y_pred_important_rfc))\n",
        "print(f\"樹數量: {len(model_important_rfc.estimators_)}\")\n",
        "\n",
        "threshold = 0.6\n",
        "y_pred_pro = (y_prob_important_rfc >= threshold).astype(int)\n",
        "print(classification_report(y_test, y_pred_pro))\n"
      ],
      "metadata": {
        "id": "2sleop5Lr9tz",
        "colab": {
          "base_uri": "https://localhost:8080/"
        },
        "outputId": "663c64d4-d25b-4335-f41c-52f1efafb32e"
      },
      "execution_count": null,
      "outputs": [
        {
          "output_type": "stream",
          "name": "stdout",
          "text": [
            "accuracy: 0.5744517450294394\n",
            "              precision    recall  f1-score   support\n",
            "\n",
            "           0       0.96      0.57      0.71     10969\n",
            "           1       0.09      0.65      0.16       750\n",
            "\n",
            "    accuracy                           0.57     11719\n",
            "   macro avg       0.53      0.61      0.44     11719\n",
            "weighted avg       0.90      0.57      0.68     11719\n",
            "\n",
            "樹數量: 50\n",
            "              precision    recall  f1-score   support\n",
            "\n",
            "           0       0.94      1.00      0.97     10969\n",
            "           1       0.00      0.00      0.00       750\n",
            "\n",
            "    accuracy                           0.94     11719\n",
            "   macro avg       0.47      0.50      0.48     11719\n",
            "weighted avg       0.88      0.94      0.91     11719\n",
            "\n"
          ]
        },
        {
          "output_type": "stream",
          "name": "stderr",
          "text": [
            "/usr/local/lib/python3.11/dist-packages/sklearn/metrics/_classification.py:1565: UndefinedMetricWarning: Precision is ill-defined and being set to 0.0 in labels with no predicted samples. Use `zero_division` parameter to control this behavior.\n",
            "  _warn_prf(average, modifier, f\"{metric.capitalize()} is\", len(result))\n",
            "/usr/local/lib/python3.11/dist-packages/sklearn/metrics/_classification.py:1565: UndefinedMetricWarning: Precision is ill-defined and being set to 0.0 in labels with no predicted samples. Use `zero_division` parameter to control this behavior.\n",
            "  _warn_prf(average, modifier, f\"{metric.capitalize()} is\", len(result))\n",
            "/usr/local/lib/python3.11/dist-packages/sklearn/metrics/_classification.py:1565: UndefinedMetricWarning: Precision is ill-defined and being set to 0.0 in labels with no predicted samples. Use `zero_division` parameter to control this behavior.\n",
            "  _warn_prf(average, modifier, f\"{metric.capitalize()} is\", len(result))\n"
          ]
        }
      ]
    },
    {
      "cell_type": "code",
      "source": [],
      "metadata": {
        "id": "Ox9m37-kr9qz"
      },
      "execution_count": null,
      "outputs": []
    },
    {
      "cell_type": "code",
      "source": [],
      "metadata": {
        "id": "tqKRAJstr9lo"
      },
      "execution_count": null,
      "outputs": []
    },
    {
      "cell_type": "code",
      "source": [],
      "metadata": {
        "id": "mj2LUsUDn2Fe"
      },
      "execution_count": null,
      "outputs": []
    },
    {
      "cell_type": "code",
      "source": [],
      "metadata": {
        "id": "nkemxvcfn2C0"
      },
      "execution_count": null,
      "outputs": []
    },
    {
      "cell_type": "code",
      "source": [],
      "metadata": {
        "id": "FzFEJU5Wn19k"
      },
      "execution_count": null,
      "outputs": []
    },
    {
      "cell_type": "code",
      "source": [],
      "metadata": {
        "id": "CppTfkTHn12x"
      },
      "execution_count": null,
      "outputs": []
    },
    {
      "cell_type": "code",
      "source": [],
      "metadata": {
        "id": "xXbh1i6qrmk4"
      },
      "execution_count": null,
      "outputs": []
    },
    {
      "cell_type": "code",
      "source": [],
      "metadata": {
        "id": "MdvBb_XqrmiV"
      },
      "execution_count": null,
      "outputs": []
    },
    {
      "cell_type": "code",
      "source": [],
      "metadata": {
        "id": "8256Jrr4rmgN"
      },
      "execution_count": null,
      "outputs": []
    },
    {
      "cell_type": "code",
      "source": [],
      "metadata": {
        "id": "Hp8n2vzPrmdJ"
      },
      "execution_count": null,
      "outputs": []
    }
  ]
}