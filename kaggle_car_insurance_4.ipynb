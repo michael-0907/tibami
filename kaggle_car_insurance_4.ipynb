{
  "nbformat": 4,
  "nbformat_minor": 0,
  "metadata": {
    "colab": {
      "provenance": [],
      "authorship_tag": "ABX9TyNJNlmBzJ95g5OCVy5gpohS",
      "include_colab_link": true
    },
    "kernelspec": {
      "name": "python3",
      "display_name": "Python 3"
    },
    "language_info": {
      "name": "python"
    }
  },
  "cells": [
    {
      "cell_type": "markdown",
      "metadata": {
        "id": "view-in-github",
        "colab_type": "text"
      },
      "source": [
        "<a href=\"https://colab.research.google.com/github/michael-0907/tibami/blob/main/kaggle_car_insurance_4.ipynb\" target=\"_parent\"><img src=\"https://colab.research.google.com/assets/colab-badge.svg\" alt=\"Open In Colab\"/></a>"
      ]
    },
    {
      "cell_type": "code",
      "execution_count": null,
      "metadata": {
        "id": "BjOQHaUQmymP"
      },
      "outputs": [],
      "source": [
        "import numpy as np\n",
        "import pandas as pd\n",
        "import matplotlib.pyplot as plt\n",
        "import seaborn as sns\n",
        "from sklearn.model_selection import train_test_split\n",
        "from sklearn.tree import DecisionTreeClassifier\n",
        "from sklearn.ensemble import RandomForestClassifier\n",
        "from sklearn.preprocessing import StandardScaler\n",
        "from sklearn.metrics import accuracy_score, classification_report\n",
        "from sklearn.neural_network import MLPClassifier\n",
        "from collections import Counter\n",
        "from imblearn.over_sampling import SMOTE\n",
        "\n",
        "\n"
      ]
    },
    {
      "cell_type": "code",
      "source": [
        "data = pd.read_csv(\"/content/sample_data/train.csv\", encoding=\"utf-8\")\n"
      ],
      "metadata": {
        "id": "POeTLGZEm-J0"
      },
      "execution_count": null,
      "outputs": []
    },
    {
      "cell_type": "code",
      "source": [
        "print(data[\"is_claim\"].value_counts())\n",
        "print(data[\"is_claim\"].value_counts(normalize=True))"
      ],
      "metadata": {
        "colab": {
          "base_uri": "https://localhost:8080/"
        },
        "id": "jhleQYcyRBf5",
        "outputId": "17dd48e5-749a-4407-d1cc-7ddda227622d"
      },
      "execution_count": null,
      "outputs": [
        {
          "output_type": "stream",
          "name": "stdout",
          "text": [
            "is_claim\n",
            "0    54844\n",
            "1     3748\n",
            "Name: count, dtype: int64\n",
            "is_claim\n",
            "0    0.936032\n",
            "1    0.063968\n",
            "Name: proportion, dtype: float64\n"
          ]
        }
      ]
    },
    {
      "cell_type": "code",
      "source": [
        "data = data.drop(columns=[\"policy_id\"])\n"
      ],
      "metadata": {
        "id": "ZRdzzc3wnNMj"
      },
      "execution_count": null,
      "outputs": []
    },
    {
      "cell_type": "code",
      "source": [
        "def torque_transform(torque):\n",
        "  torque = float(torque.lower().split(\"n\")[0])\n",
        "  return torque\n",
        "data[\"max_torque\"] = data[\"max_torque\"].apply(torque_transform)\n",
        "\n",
        "def power_transform(power):\n",
        "  power = float(power.lower().split(\"b\")[0])\n",
        "  return power\n",
        "data[\"max_power\"] = data[\"max_power\"].apply(power_transform)\n",
        "\n"
      ],
      "metadata": {
        "id": "Y1pVSZ-OnJuP"
      },
      "execution_count": null,
      "outputs": []
    },
    {
      "cell_type": "code",
      "source": [
        "for col in data.columns:\n",
        "  if (data[col].dtype == \"object\") & (data[col].nunique() == 2) & (\"is_\" in col):\n",
        "    data[col] = data[col].map({\"Yes\": 1, \"No\": 0})"
      ],
      "metadata": {
        "id": "AFcAc4t9nfgQ"
      },
      "execution_count": null,
      "outputs": []
    },
    {
      "cell_type": "code",
      "source": [
        "X = data.drop(columns=[\"is_claim\"])\n",
        "y = data[\"is_claim\"]"
      ],
      "metadata": {
        "id": "sa3Q-6fznh8L"
      },
      "execution_count": null,
      "outputs": []
    },
    {
      "cell_type": "code",
      "source": [
        "X_train, X_test, y_train, y_test = train_test_split(X, y, test_size=0.2, random_state=42, shuffle=True ,stratify=y)\n",
        "print(X_train.shape, X_test.shape)\n",
        "print(y_train.shape, y_test.shape)\n",
        "print(Counter(y_train))\n",
        "print(Counter(y_test))"
      ],
      "metadata": {
        "colab": {
          "base_uri": "https://localhost:8080/"
        },
        "id": "DvahPvaTnu2x",
        "outputId": "3fc610e2-01e2-4d73-bd7b-6314dc308606"
      },
      "execution_count": null,
      "outputs": [
        {
          "output_type": "stream",
          "name": "stdout",
          "text": [
            "(46873, 42) (11719, 42)\n",
            "(46873,) (11719,)\n",
            "Counter({0: 43875, 1: 2998})\n",
            "Counter({0: 10969, 1: 750})\n"
          ]
        }
      ]
    },
    {
      "cell_type": "code",
      "source": [
        "\n",
        "for i, col in enumerate(X_train.columns):\n",
        "  print(f\"no: {i}, col_name: {col}, dtype: {X_train[col].dtype}, nunique: {X_train[col].nunique()}\")\n",
        "  print(X_train[col].unique())\n",
        "  print(\"-\" * 30)"
      ],
      "metadata": {
        "id": "6Hy1KJkWn6ud"
      },
      "execution_count": null,
      "outputs": []
    },
    {
      "cell_type": "code",
      "source": [
        "categorical_columns = X_train.select_dtypes(include=[\"object\"]).columns\n",
        "categorical_columns"
      ],
      "metadata": {
        "colab": {
          "base_uri": "https://localhost:8080/"
        },
        "id": "fJW4e1Duo5xo",
        "outputId": "823b34f4-9da7-48d4-f835-4236d0679f4a"
      },
      "execution_count": null,
      "outputs": [
        {
          "output_type": "execute_result",
          "data": {
            "text/plain": [
              "Index(['area_cluster', 'segment', 'model', 'fuel_type', 'engine_type',\n",
              "       'rear_brakes_type', 'transmission_type', 'steering_type'],\n",
              "      dtype='object')"
            ]
          },
          "metadata": {},
          "execution_count": 18
        }
      ]
    },
    {
      "cell_type": "code",
      "source": [
        "X_train_dummies = pd.get_dummies(X_train, columns=categorical_columns, dtype=float)\n",
        "X_test_dummies = pd.get_dummies(X_test, columns=categorical_columns, dtype=float)\n",
        "\n",
        "X_train_dummies.head()\n",
        "print(X_train_dummies.shape)\n",
        "print(X_test_dummies.shape)\n",
        "\n"
      ],
      "metadata": {
        "colab": {
          "base_uri": "https://localhost:8080/"
        },
        "id": "-fNq0zYuplG8",
        "outputId": "9f59bd61-b735-4eb4-b202-e857340d26b4"
      },
      "execution_count": null,
      "outputs": [
        {
          "output_type": "stream",
          "name": "stdout",
          "text": [
            "(46873, 94)\n",
            "(11719, 94)\n"
          ]
        }
      ]
    },
    {
      "cell_type": "code",
      "source": [
        "# 預處理結束，開始訓練"
      ],
      "metadata": {
        "id": "yxJyHt2eyG9J"
      },
      "execution_count": null,
      "outputs": []
    },
    {
      "cell_type": "code",
      "source": [
        "model_dtc = DecisionTreeClassifier(max_depth=20, min_samples_leaf=20, class_weight=\"balanced\", random_state=42)\n",
        "model_dtc.fit(X_train_dummies, y_train)\n",
        "y_pred_dtc = model_dtc.predict(X_test_dummies)"
      ],
      "metadata": {
        "id": "zVaLFsm4qYXg"
      },
      "execution_count": null,
      "outputs": []
    },
    {
      "cell_type": "code",
      "source": [
        "print(f\"accuracy: {accuracy_score(y_test, y_pred_dtc)}\")\n",
        "print(classification_report(y_test, y_pred_dtc))\n",
        "print(f\"最大深度: {model_dtc.tree_.max_depth}, 節點總數: {model_dtc.tree_.node_count}\")\n",
        "print(f\"類別標籤: {model_dtc.classes_}, 類別數量: {model_dtc.n_classes_}\")\n"
      ],
      "metadata": {
        "colab": {
          "base_uri": "https://localhost:8080/"
        },
        "id": "YNDer_61n1HO",
        "outputId": "baf4230d-5079-4ad9-976e-c9998bc51945"
      },
      "execution_count": null,
      "outputs": [
        {
          "output_type": "stream",
          "name": "stdout",
          "text": [
            "accuracy: 0.6198481099069887\n",
            "              precision    recall  f1-score   support\n",
            "\n",
            "           0       0.95      0.63      0.76     10969\n",
            "           1       0.08      0.47      0.14       750\n",
            "\n",
            "    accuracy                           0.62     11719\n",
            "   macro avg       0.51      0.55      0.45     11719\n",
            "weighted avg       0.89      0.62      0.72     11719\n",
            "\n",
            "最大深度: 20, 節點總數: 2485\n",
            "類別標籤: [0 1], 類別數量: 2\n"
          ]
        }
      ]
    },
    {
      "cell_type": "code",
      "source": [
        "model_rfc = RandomForestClassifier(n_estimators=100, max_depth=None, min_samples_leaf=10, class_weight=\"balanced\", random_state=42)\n",
        "model_rfc.fit(X_train_dummies, y_train)\n",
        "y_pred_rfc = model_rfc.predict(X_test_dummies)"
      ],
      "metadata": {
        "id": "RJhH1uisn2Pv"
      },
      "execution_count": null,
      "outputs": []
    },
    {
      "cell_type": "code",
      "source": [
        "print(f\"accuracy: {accuracy_score(y_test, y_pred_rfc)}\")\n",
        "print(classification_report(y_test, y_pred_rfc))\n",
        "print(f\"樹數量: {len(model_rfc.estimators_)}\")\n"
      ],
      "metadata": {
        "colab": {
          "base_uri": "https://localhost:8080/"
        },
        "id": "5hHyIN9qn2NS",
        "outputId": "56c8aa67-90a4-4cdc-c3da-36bc3d987ea9"
      },
      "execution_count": null,
      "outputs": [
        {
          "output_type": "stream",
          "name": "stdout",
          "text": [
            "accuracy: 0.8102227152487413\n",
            "              precision    recall  f1-score   support\n",
            "\n",
            "           0       0.95      0.85      0.89     10969\n",
            "           1       0.12      0.29      0.17       750\n",
            "\n",
            "    accuracy                           0.81     11719\n",
            "   macro avg       0.53      0.57      0.53     11719\n",
            "weighted avg       0.89      0.81      0.85     11719\n",
            "\n",
            "樹數量: 100\n"
          ]
        }
      ]
    },
    {
      "cell_type": "code",
      "source": [],
      "metadata": {
        "id": "fP9wq-CU0nCB"
      },
      "execution_count": null,
      "outputs": []
    },
    {
      "cell_type": "code",
      "source": [
        "# 以下是分割數據集後，對訓練組做 smote"
      ],
      "metadata": {
        "id": "igkjB-vB0l6f"
      },
      "execution_count": null,
      "outputs": []
    },
    {
      "cell_type": "code",
      "source": [
        "# SMOTE 之前的類別分佈\n",
        "print(\"SMOTE 之前類別分佈:\", Counter(y_train))\n",
        "# 使用 SMOTE 進行過採樣\n",
        "smote = SMOTE(random_state=42)\n",
        "X_train_dummies_smote, y_train_smote = smote.fit_resample(X_train_dummies, y_train)\n",
        "# SMOTE 之後的類別分佈\n",
        "print(\"SMOTE 之後類別分佈:\", Counter(y_train_smote))\n",
        "print(X_train_dummies_smote.shape)\n",
        "print(y_train_smote.shape)"
      ],
      "metadata": {
        "colab": {
          "base_uri": "https://localhost:8080/"
        },
        "id": "oZy6nAmy0l4J",
        "outputId": "a7e4584c-7bfb-4358-bf27-e9e444bee064"
      },
      "execution_count": null,
      "outputs": [
        {
          "output_type": "stream",
          "name": "stdout",
          "text": [
            "SMOTE 之前類別分佈: Counter({0: 43875, 1: 2998})\n",
            "SMOTE 之後類別分佈: Counter({0: 43875, 1: 43875})\n",
            "(87750, 94)\n",
            "(87750,)\n"
          ]
        }
      ]
    },
    {
      "cell_type": "code",
      "source": [
        "model_smote_dtc = DecisionTreeClassifier(max_depth=None, min_samples_leaf=20, class_weight=None, random_state=42)\n",
        "model_smote_dtc.fit(X_train_dummies_smote, y_train_smote)\n",
        "y_pred_smote_dtc = model_smote_dtc.predict(X_test_dummies)"
      ],
      "metadata": {
        "id": "zzkFDcoY0l1f"
      },
      "execution_count": null,
      "outputs": []
    },
    {
      "cell_type": "code",
      "source": [
        "print(f\"accuracy: {accuracy_score(y_test, y_pred_smote_dtc)}\")\n",
        "print(classification_report(y_test, y_pred_smote_dtc))\n",
        "print(f\"最大深度: {model_smote_dtc.tree_.max_depth}, 節點總數: {model_smote_dtc.tree_.node_count}\")\n",
        "print(f\"類別標籤: {model_smote_dtc.classes_}, 類別數量: {model_smote_dtc.n_classes_}\")\n"
      ],
      "metadata": {
        "colab": {
          "base_uri": "https://localhost:8080/"
        },
        "id": "cfuxL_1b0lzB",
        "outputId": "9edf6670-36dd-4e03-c742-ffaaa212eb91"
      },
      "execution_count": null,
      "outputs": [
        {
          "output_type": "stream",
          "name": "stdout",
          "text": [
            "accuracy: 0.8912023210171517\n",
            "              precision    recall  f1-score   support\n",
            "\n",
            "           0       0.94      0.95      0.94     10969\n",
            "           1       0.10      0.09      0.09       750\n",
            "\n",
            "    accuracy                           0.89     11719\n",
            "   macro avg       0.52      0.52      0.52     11719\n",
            "weighted avg       0.88      0.89      0.89     11719\n",
            "\n",
            "最大深度: 37, 節點總數: 3395\n",
            "類別標籤: [0 1], 類別數量: 2\n"
          ]
        }
      ]
    },
    {
      "cell_type": "code",
      "source": [
        "model_smote_rfc = RandomForestClassifier(n_estimators=100, max_depth=None, min_samples_leaf=20, class_weight=None, random_state=42)\n",
        "model_smote_rfc.fit(X_train_dummies_smote, y_train_smote)\n",
        "y_pred_smote_rfc = model_smote_rfc.predict(X_test_dummies)"
      ],
      "metadata": {
        "id": "e9q-3wGN0lwX"
      },
      "execution_count": null,
      "outputs": []
    },
    {
      "cell_type": "code",
      "source": [
        "print(f\"accuracy: {accuracy_score(y_test, y_pred_smote_rfc)}\")\n",
        "print(classification_report(y_test, y_pred_smote_rfc))\n",
        "print(f\"樹數量: {len(model_rfc.estimators_)}\")\n"
      ],
      "metadata": {
        "colab": {
          "base_uri": "https://localhost:8080/"
        },
        "id": "8p2v562M0lt3",
        "outputId": "9ee26471-40e5-4af7-bf99-f52277070c67"
      },
      "execution_count": null,
      "outputs": [
        {
          "output_type": "stream",
          "name": "stdout",
          "text": [
            "accuracy: 0.7215632733168359\n",
            "              precision    recall  f1-score   support\n",
            "\n",
            "           0       0.95      0.74      0.83     10969\n",
            "           1       0.10      0.43      0.17       750\n",
            "\n",
            "    accuracy                           0.72     11719\n",
            "   macro avg       0.53      0.59      0.50     11719\n",
            "weighted avg       0.90      0.72      0.79     11719\n",
            "\n",
            "樹數量: 100\n"
          ]
        }
      ]
    },
    {
      "cell_type": "code",
      "source": [],
      "metadata": {
        "id": "3iz2Ssll0llz"
      },
      "execution_count": null,
      "outputs": []
    },
    {
      "cell_type": "code",
      "source": [
        "# 取重要特徵欄位重新訓練"
      ],
      "metadata": {
        "id": "KHekjJeo0WNB"
      },
      "execution_count": null,
      "outputs": []
    },
    {
      "cell_type": "code",
      "source": [
        "# model_select = model_dtc\n",
        "# model_select = model_rfc\n",
        "# model_select = model_smote_dtc\n",
        "model_select = model_smote_rfc\n",
        "\n",
        "feature_importance = model_select.feature_importances_\n",
        "sorted_index = np.argsort(feature_importance)[::-1]\n",
        "sorted_feature_names = X_train_dummies.columns[sorted_index]\n",
        "sorted_feature_importance = feature_importance[sorted_index]\n",
        "print(sorted_feature_importance.shape, sorted_feature_names.shape)\n",
        "important_features = []\n",
        "threshold = 0.01\n",
        "for i, j in zip(sorted_feature_names, sorted_feature_importance):\n",
        "  if j >= threshold:\n",
        "    print(f\"{i}: {j}\")\n",
        "    important_features.append(i)\n",
        "display(important_features)"
      ],
      "metadata": {
        "colab": {
          "base_uri": "https://localhost:8080/",
          "height": 121
        },
        "id": "Yr7EnHMfscYK",
        "outputId": "aad514f8-648e-459f-e04f-82164d7d3734"
      },
      "execution_count": null,
      "outputs": [
        {
          "output_type": "stream",
          "name": "stdout",
          "text": [
            "(94,) (94,)\n",
            "age_of_car: 0.3571306233544617\n",
            "policy_tenure: 0.27510592511366383\n",
            "age_of_policyholder: 0.18249831265251207\n",
            "population_density: 0.02528226465191083\n"
          ]
        },
        {
          "output_type": "display_data",
          "data": {
            "text/plain": [
              "['age_of_car', 'policy_tenure', 'age_of_policyholder', 'population_density']"
            ]
          },
          "metadata": {}
        }
      ]
    },
    {
      "cell_type": "code",
      "source": [
        "X_train_important = X_train_dummies_smote[important_features]\n",
        "X_test_important = X_test_dummies[important_features]\n",
        "\n",
        "\n",
        "# X_train_important = X_train_dummies_smote[[\"age_of_car\"]]\n",
        "# X_test_important = X_test_dummies[[\"age_of_car\"]]\n",
        "\n",
        "# X_train_important = X_train_dummies_smote[[\"policy_tenure\"]]\n",
        "# X_test_important = X_test_dummies[[\"policy_tenure\"]]"
      ],
      "metadata": {
        "id": "D2kbcA3g5QRl"
      },
      "execution_count": null,
      "outputs": []
    },
    {
      "cell_type": "code",
      "source": [
        "model_important_dtc = DecisionTreeClassifier(max_depth=None, min_samples_leaf=20, class_weight=None, random_state=42)\n",
        "model_important_dtc.fit(X_train_important, y_train_smote)\n",
        "y_pred_important_dtc = model_important_dtc.predict(X_test_important)"
      ],
      "metadata": {
        "id": "01-so7rAscWB"
      },
      "execution_count": null,
      "outputs": []
    },
    {
      "cell_type": "code",
      "source": [
        "print(f\"accuracy: {accuracy_score(y_test, y_pred_important_dtc)}\")\n",
        "print(classification_report(y_test, y_pred_important_dtc))\n",
        "print(f\"最大深度: {model_important_dtc.tree_.max_depth}, 節點總數: {model_important_dtc.tree_.node_count}\")\n",
        "print(f\"類別標籤: {model_important_dtc.classes_}, 類別數量: {model_important_dtc.n_classes_}\")"
      ],
      "metadata": {
        "colab": {
          "base_uri": "https://localhost:8080/"
        },
        "id": "OT5xzVbCscTT",
        "outputId": "c7bf64bb-2126-49da-f3f6-39f7387735d1"
      },
      "execution_count": null,
      "outputs": [
        {
          "output_type": "stream",
          "name": "stdout",
          "text": [
            "accuracy: 0.566515914327161\n",
            "              precision    recall  f1-score   support\n",
            "\n",
            "           0       0.94      0.57      0.71     10969\n",
            "           1       0.07      0.50      0.13       750\n",
            "\n",
            "    accuracy                           0.57     11719\n",
            "   macro avg       0.51      0.54      0.42     11719\n",
            "weighted avg       0.89      0.57      0.67     11719\n",
            "\n",
            "最大深度: 59, 節點總數: 6795\n",
            "類別標籤: [0 1], 類別數量: 2\n"
          ]
        }
      ]
    },
    {
      "cell_type": "code",
      "source": [],
      "metadata": {
        "id": "GnInFetcscQH"
      },
      "execution_count": null,
      "outputs": []
    },
    {
      "cell_type": "code",
      "source": [
        "model_important_rfc = RandomForestClassifier(n_estimators=100, max_depth=None, min_samples_leaf=20, class_weight=None, random_state=42)\n",
        "model_important_rfc.fit(X_train_important, y_train_smote)\n",
        "y_pred_important_rfc = model_important_rfc.predict(X_test_important)"
      ],
      "metadata": {
        "id": "0GclprC6n2IN"
      },
      "execution_count": null,
      "outputs": []
    },
    {
      "cell_type": "code",
      "source": [
        "print(f\"accuracy: {accuracy_score(y_test, y_pred_important_rfc)}\")\n",
        "print(classification_report(y_test, y_pred_important_rfc))\n",
        "print(f\"樹數量: {len(model_important_rfc.estimators_)}\")\n"
      ],
      "metadata": {
        "id": "2sleop5Lr9tz",
        "colab": {
          "base_uri": "https://localhost:8080/"
        },
        "outputId": "b32b3353-e6a8-49d0-c363-72444fc3dadd"
      },
      "execution_count": null,
      "outputs": [
        {
          "output_type": "stream",
          "name": "stdout",
          "text": [
            "accuracy: 0.9033193958528885\n",
            "              precision    recall  f1-score   support\n",
            "\n",
            "           0       0.94      0.96      0.95     10969\n",
            "           1       0.09      0.05      0.07       750\n",
            "\n",
            "    accuracy                           0.90     11719\n",
            "   macro avg       0.51      0.51      0.51     11719\n",
            "weighted avg       0.88      0.90      0.89     11719\n",
            "\n",
            "樹數量: 100\n"
          ]
        }
      ]
    },
    {
      "cell_type": "code",
      "source": [],
      "metadata": {
        "id": "Ox9m37-kr9qz"
      },
      "execution_count": null,
      "outputs": []
    },
    {
      "cell_type": "code",
      "source": [],
      "metadata": {
        "id": "tqKRAJstr9lo"
      },
      "execution_count": null,
      "outputs": []
    },
    {
      "cell_type": "code",
      "source": [],
      "metadata": {
        "id": "mj2LUsUDn2Fe"
      },
      "execution_count": null,
      "outputs": []
    },
    {
      "cell_type": "code",
      "source": [],
      "metadata": {
        "id": "nkemxvcfn2C0"
      },
      "execution_count": null,
      "outputs": []
    },
    {
      "cell_type": "code",
      "source": [],
      "metadata": {
        "id": "FzFEJU5Wn19k"
      },
      "execution_count": null,
      "outputs": []
    },
    {
      "cell_type": "code",
      "source": [],
      "metadata": {
        "id": "CppTfkTHn12x"
      },
      "execution_count": null,
      "outputs": []
    },
    {
      "cell_type": "code",
      "source": [],
      "metadata": {
        "id": "xXbh1i6qrmk4"
      },
      "execution_count": null,
      "outputs": []
    },
    {
      "cell_type": "code",
      "source": [],
      "metadata": {
        "id": "MdvBb_XqrmiV"
      },
      "execution_count": null,
      "outputs": []
    },
    {
      "cell_type": "code",
      "source": [],
      "metadata": {
        "id": "8256Jrr4rmgN"
      },
      "execution_count": null,
      "outputs": []
    },
    {
      "cell_type": "code",
      "source": [],
      "metadata": {
        "id": "Hp8n2vzPrmdJ"
      },
      "execution_count": null,
      "outputs": []
    }
  ]
}