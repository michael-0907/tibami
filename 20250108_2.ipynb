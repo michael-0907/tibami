{
  "nbformat": 4,
  "nbformat_minor": 0,
  "metadata": {
    "colab": {
      "provenance": [],
      "authorship_tag": "ABX9TyMv7KhapBep23imA7cBAZuj",
      "include_colab_link": true
    },
    "kernelspec": {
      "name": "python3",
      "display_name": "Python 3"
    },
    "language_info": {
      "name": "python"
    }
  },
  "cells": [
    {
      "cell_type": "markdown",
      "metadata": {
        "id": "view-in-github",
        "colab_type": "text"
      },
      "source": [
        "<a href=\"https://colab.research.google.com/github/michael-0907/tibami/blob/main/20250108_2.ipynb\" target=\"_parent\"><img src=\"https://colab.research.google.com/assets/colab-badge.svg\" alt=\"Open In Colab\"/></a>"
      ]
    },
    {
      "cell_type": "code",
      "execution_count": null,
      "metadata": {
        "id": "H8VtcEWI2NJA"
      },
      "outputs": [],
      "source": []
    },
    {
      "cell_type": "markdown",
      "source": [
        "# 專屬功能\n",
        "# 程式語言基本概念: 一個形態可以擁有兩種東西\n",
        "# a. 專屬功能: 形態.功能() -> 人.吃飯(1hour)\n",
        "# b. 專屬值: 形態.值 -> 人.姓名\n",
        "```python\n",
        "字串的專屬功能\n",
        "\n",
        "\n",
        "```"
      ],
      "metadata": {
        "id": "MCZ2-0Cz2NzD"
      }
    },
    {
      "cell_type": "code",
      "source": [
        "# 好用的字串專屬功能: replace, split, join, strip\n",
        "\n",
        "# string.replace(oldvalue, newvalue, count)\n",
        "s = \"hello\" * 5\n",
        "b = s.replace(\"hello\", \"bye\", 2)\n",
        "print(s)\n",
        "print(b)\n",
        "s = s.replace(\"h\", \"z\")\n",
        "print(s)\n",
        "\n",
        "\n",
        "# string.split(separator, maxsplit)\n",
        "# 分割後，返回list\n",
        "print(\"2025-01-08\".split(\"-\")) # 返回列表，值是字串\n",
        "\n",
        "\n",
        "# string.join(iterable)\n",
        "#\n",
        "b = \"2025-01-08\".split(\"-\")\n",
        "print(b)\n",
        "print(\"/\".join(b))\n",
        "\n",
        "s = \"hello\"\n",
        "print(\"-\".join(s))\n",
        "\n",
        "# string.strip(characters) 移除前後的空格，中間的空格不移除\n",
        "s = \"   ---dddd  --- xx x&&  xx\"\n",
        "print(s.strip())\n",
        "\n",
        "\n",
        "\n"
      ],
      "metadata": {
        "colab": {
          "base_uri": "https://localhost:8080/"
        },
        "id": "uLtxrk822ofo",
        "outputId": "dbf19e07-e8e2-4fc9-969e-04c2c6ac0b48"
      },
      "execution_count": null,
      "outputs": [
        {
          "output_type": "stream",
          "name": "stdout",
          "text": [
            "hellohellohellohellohello\n",
            "byebyehellohellohello\n",
            "zellozellozellozellozello\n",
            "['2025', '01', '08']\n",
            "['2025', '01', '08']\n",
            "2025/01/08\n",
            "h-e-l-l-o\n",
            "---dddd  --- xx x&&  xx\n"
          ]
        }
      ]
    },
    {
      "cell_type": "code",
      "source": [
        "# list的專屬功能: append, pop, insert, extend,\n",
        "\n",
        "# list.append(elmnt)\n",
        "# 因為要符合直覺，如果不改原本的清單，變成兩份(超級反直覺)\n",
        "# 顛覆1:\n",
        "# 以前: = 才會真的改值\n",
        "# 現在: 直接改\n",
        "# 顛覆2:\n",
        "# 以前 = 有些功能沒有回傳值, eg: print()\n",
        "# 現在 = 任何功能都會回傳值，只是有些功能回傳了 None值\n",
        "scores = [20, 30]\n",
        "scores.append(90)\n",
        "print(scores)\n",
        "\n",
        "b = scores.append(50) # 做完append後，回傳None\n",
        "print(scores)\n",
        "print(b)\n",
        "\n",
        "# 錯誤1: 印出這整個東西化成的值(回傳值)\n",
        "# 但還可以接受吧...因為777是近去的\n",
        "print(scores.append(777))\n",
        "# 致命錯誤2: 妳相當於把 score = None\n",
        "# scores = scores.append(888)\n",
        "# print(scores[-1])\n",
        "\n",
        "# 正確做法:\n",
        "scores.append(66666)\n",
        "print(scores)\n",
        "\n",
        "# list.pop(pos)\n",
        "\n",
        "\n",
        "\n"
      ],
      "metadata": {
        "colab": {
          "base_uri": "https://localhost:8080/"
        },
        "id": "bF17sVx25yGI",
        "outputId": "0c7e970e-d873-4659-bf8e-af59913ad7b0"
      },
      "execution_count": null,
      "outputs": [
        {
          "output_type": "stream",
          "name": "stdout",
          "text": [
            "[20, 30, 90]\n",
            "[20, 30, 90, 50]\n",
            "None\n",
            "None\n",
            "[20, 30, 90, 50, 777, 66666]\n"
          ]
        }
      ]
    },
    {
      "cell_type": "code",
      "source": [
        "print(print(3)) # 印出3 變成沒有(None) 再印出沒有(None)\n",
        "print(print(print(3)))"
      ],
      "metadata": {
        "colab": {
          "base_uri": "https://localhost:8080/"
        },
        "id": "nP-crwej7mvC",
        "outputId": "404162c0-bde4-4376-f792-d5cc7c741485"
      },
      "execution_count": null,
      "outputs": [
        {
          "output_type": "stream",
          "name": "stdout",
          "text": [
            "3\n",
            "None\n",
            "3\n",
            "None\n",
            "None\n"
          ]
        }
      ]
    },
    {
      "cell_type": "markdown",
      "source": [
        "功能SOP\n",
        "\n",
        "```python\n",
        "!!! 大部分(str...)功能: 不改, 回傳新的\n",
        "b = s.replace\n",
        "s: old str\n",
        "b: new str\n",
        "\n",
        "!!! 少數(list...)功能: 直接改, 回傳None\n",
        "b = l.append\n",
        "l: new list\n",
        "b: None!!!!!\n",
        "\n",
        "正確寫法:\n",
        "l.append(200)\n",
        "下一步才開始寫別的\n",
        "\n",
        "大部分情況使用直覺分就可以了\n",
        "!!! 當你遇到的錯誤叫做 NoneType is ....\n",
        "!!! 妳要馬上反應她是少數的那種\n",
        "\n",
        "```"
      ],
      "metadata": {
        "id": "jxrsOrO2_AHL"
      }
    },
    {
      "cell_type": "markdown",
      "source": [
        "# 型態複習!!!\n",
        "\n",
        "```python\n",
        "1. 基礎型態: 數字，字串，布林，無\n",
        "2. 複雜型態: 列表list, 字典dict\n",
        "\n",
        "\n",
        "\n",
        "```\n",
        "\n",
        "\n",
        "\n",
        "\n",
        "\n"
      ],
      "metadata": {
        "id": "zVFqbUOQ8Cad"
      }
    },
    {
      "cell_type": "code",
      "source": [
        "# dict的專屬功能:\n",
        "\n",
        "\n",
        "\n"
      ],
      "metadata": {
        "id": "68qnZiG46CYX"
      },
      "execution_count": null,
      "outputs": []
    }
  ]
}